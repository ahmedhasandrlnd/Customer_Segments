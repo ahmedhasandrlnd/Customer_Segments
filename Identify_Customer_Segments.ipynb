{
 "cells": [
  {
   "cell_type": "markdown",
   "metadata": {},
   "source": [
    "# Project: Identify Customer Segments\n",
    "\n",
    "In this project, you will apply unsupervised learning techniques to identify segments of the population that form the core customer base for a mail-order sales company in Germany. These segments can then be used to direct marketing campaigns towards audiences that will have the highest expected rate of returns. The data that you will use has been provided by our partners at Bertelsmann Arvato Analytics, and represents a real-life data science task.\n",
    "\n",
    "This notebook will help you complete this task by providing a framework within which you will perform your analysis steps. In each step of the project, you will see some text describing the subtask that you will perform, followed by one or more code cells for you to complete your work. **Feel free to add additional code and markdown cells as you go along so that you can explore everything in precise chunks.** The code cells provided in the base template will outline only the major tasks, and will usually not be enough to cover all of the minor tasks that comprise it.\n",
    "\n",
    "It should be noted that while there will be precise guidelines on how you should handle certain tasks in the project, there will also be places where an exact specification is not provided. **There will be times in the project where you will need to make and justify your own decisions on how to treat the data.** These are places where there may not be only one way to handle the data. In real-life tasks, there may be many valid ways to approach an analysis task. One of the most important things you can do is clearly document your approach so that other scientists can understand the decisions you've made.\n",
    "\n",
    "At the end of most sections, there will be a Markdown cell labeled **Discussion**. In these cells, you will report your findings for the completed section, as well as document the decisions that you made in your approach to each subtask. **Your project will be evaluated not just on the code used to complete the tasks outlined, but also your communication about your observations and conclusions at each stage.**"
   ]
  },
  {
   "cell_type": "code",
   "execution_count": 1,
   "metadata": {},
   "outputs": [],
   "source": [
    "# import libraries\n",
    "import time\n",
    "import numpy as np\n",
    "import pandas as pd\n",
    "import matplotlib.pyplot as plt\n",
    "import seaborn as sns\n",
    "\n",
    "from sklearn.impute import SimpleImputer\n",
    "from sklearn.preprocessing import StandardScaler\n",
    "from sklearn.preprocessing import OneHotEncoder\n",
    "from sklearn.decomposition import PCA\n",
    "from sklearn.cluster import MiniBatchKMeans\n",
    "from sklearn.cluster import KMeans\n",
    "from sklearn.metrics import silhouette_samples, silhouette_score\n",
    "\n",
    "# magic word for producing visualizations in notebook\n",
    "%matplotlib inline"
   ]
  },
  {
   "cell_type": "markdown",
   "metadata": {},
   "source": [
    "### Step 0: Load the Data\n",
    "\n",
    "There are four files associated with this project (not including this one):\n",
    "\n",
    "- `Udacity_AZDIAS_Subset.csv`: Demographics data for the general population of Germany; 891211 persons (rows) x 85 features (columns).\n",
    "- `Udacity_CUSTOMERS_Subset.csv`: Demographics data for customers of a mail-order company; 191652 persons (rows) x 85 features (columns).\n",
    "- `Data_Dictionary.md`: Detailed information file about the features in the provided datasets.\n",
    "- `AZDIAS_Feature_Summary.csv`: Summary of feature attributes for demographics data; 85 features (rows) x 4 columns\n",
    "\n",
    "Each row of the demographics files represents a single person, but also includes information outside of individuals, including information about their household, building, and neighborhood. You will use this information to cluster the general population into groups with similar demographic properties. Then, you will see how the people in the customers dataset fit into those created clusters. The hope here is that certain clusters are over-represented in the customers data, as compared to the general population; those over-represented clusters will be assumed to be part of the core userbase. This information can then be used for further applications, such as targeting for a marketing campaign.\n",
    "\n",
    "To start off with, load in the demographics data for the general population into a pandas DataFrame, and do the same for the feature attributes summary. Note for all of the `.csv` data files in this project: they're semicolon (`;`) delimited, so you'll need an additional argument in your [`read_csv()`](https://pandas.pydata.org/pandas-docs/stable/generated/pandas.read_csv.html) call to read in the data properly. Also, considering the size of the main dataset, it may take some time for it to load completely.\n",
    "\n",
    "Once the dataset is loaded, it's recommended that you take a little bit of time just browsing the general structure of the dataset and feature summary file. You'll be getting deep into the innards of the cleaning in the first major step of the project, so gaining some general familiarity can help you get your bearings."
   ]
  },
  {
   "cell_type": "code",
   "execution_count": 2,
   "metadata": {},
   "outputs": [],
   "source": [
    "# Load in the general demographics data.\n",
    "azdias = pd.read_csv('Udacity_AZDIAS_Subset.csv',delimiter=';') "
   ]
  },
  {
   "cell_type": "code",
   "execution_count": 3,
   "metadata": {},
   "outputs": [],
   "source": [
    "# Load in the feature summary file.\n",
    "feat_info = pd.read_csv('AZDIAS_Feature_Summary.csv',delimiter=';') "
   ]
  },
  {
   "cell_type": "code",
   "execution_count": 4,
   "metadata": {},
   "outputs": [
    {
     "data": {
      "text/html": [
       "<div>\n",
       "<style scoped>\n",
       "    .dataframe tbody tr th:only-of-type {\n",
       "        vertical-align: middle;\n",
       "    }\n",
       "\n",
       "    .dataframe tbody tr th {\n",
       "        vertical-align: top;\n",
       "    }\n",
       "\n",
       "    .dataframe thead th {\n",
       "        text-align: right;\n",
       "    }\n",
       "</style>\n",
       "<table border=\"1\" class=\"dataframe\">\n",
       "  <thead>\n",
       "    <tr style=\"text-align: right;\">\n",
       "      <th></th>\n",
       "      <th>AGER_TYP</th>\n",
       "      <th>ALTERSKATEGORIE_GROB</th>\n",
       "      <th>ANREDE_KZ</th>\n",
       "      <th>CJT_GESAMTTYP</th>\n",
       "      <th>FINANZ_MINIMALIST</th>\n",
       "      <th>FINANZ_SPARER</th>\n",
       "      <th>FINANZ_VORSORGER</th>\n",
       "      <th>FINANZ_ANLEGER</th>\n",
       "      <th>FINANZ_UNAUFFAELLIGER</th>\n",
       "      <th>FINANZ_HAUSBAUER</th>\n",
       "      <th>...</th>\n",
       "      <th>PLZ8_ANTG1</th>\n",
       "      <th>PLZ8_ANTG2</th>\n",
       "      <th>PLZ8_ANTG3</th>\n",
       "      <th>PLZ8_ANTG4</th>\n",
       "      <th>PLZ8_BAUMAX</th>\n",
       "      <th>PLZ8_HHZ</th>\n",
       "      <th>PLZ8_GBZ</th>\n",
       "      <th>ARBEIT</th>\n",
       "      <th>ORTSGR_KLS9</th>\n",
       "      <th>RELAT_AB</th>\n",
       "    </tr>\n",
       "  </thead>\n",
       "  <tbody>\n",
       "    <tr>\n",
       "      <th>count</th>\n",
       "      <td>891221.000000</td>\n",
       "      <td>891221.000000</td>\n",
       "      <td>891221.000000</td>\n",
       "      <td>886367.000000</td>\n",
       "      <td>891221.000000</td>\n",
       "      <td>891221.000000</td>\n",
       "      <td>891221.000000</td>\n",
       "      <td>891221.000000</td>\n",
       "      <td>891221.000000</td>\n",
       "      <td>891221.000000</td>\n",
       "      <td>...</td>\n",
       "      <td>774706.000000</td>\n",
       "      <td>774706.000000</td>\n",
       "      <td>774706.000000</td>\n",
       "      <td>774706.000000</td>\n",
       "      <td>774706.000000</td>\n",
       "      <td>774706.000000</td>\n",
       "      <td>774706.000000</td>\n",
       "      <td>794005.000000</td>\n",
       "      <td>794005.000000</td>\n",
       "      <td>794005.00000</td>\n",
       "    </tr>\n",
       "    <tr>\n",
       "      <th>mean</th>\n",
       "      <td>-0.358435</td>\n",
       "      <td>2.777398</td>\n",
       "      <td>1.522098</td>\n",
       "      <td>3.632838</td>\n",
       "      <td>3.074528</td>\n",
       "      <td>2.821039</td>\n",
       "      <td>3.401106</td>\n",
       "      <td>3.033328</td>\n",
       "      <td>2.874167</td>\n",
       "      <td>3.075121</td>\n",
       "      <td>...</td>\n",
       "      <td>2.253330</td>\n",
       "      <td>2.801858</td>\n",
       "      <td>1.595426</td>\n",
       "      <td>0.699166</td>\n",
       "      <td>1.943913</td>\n",
       "      <td>3.612821</td>\n",
       "      <td>3.381087</td>\n",
       "      <td>3.167854</td>\n",
       "      <td>5.293002</td>\n",
       "      <td>3.07222</td>\n",
       "    </tr>\n",
       "    <tr>\n",
       "      <th>std</th>\n",
       "      <td>1.198724</td>\n",
       "      <td>1.068775</td>\n",
       "      <td>0.499512</td>\n",
       "      <td>1.595021</td>\n",
       "      <td>1.321055</td>\n",
       "      <td>1.464749</td>\n",
       "      <td>1.322134</td>\n",
       "      <td>1.529603</td>\n",
       "      <td>1.486731</td>\n",
       "      <td>1.353248</td>\n",
       "      <td>...</td>\n",
       "      <td>0.972008</td>\n",
       "      <td>0.920309</td>\n",
       "      <td>0.986736</td>\n",
       "      <td>0.727137</td>\n",
       "      <td>1.459654</td>\n",
       "      <td>0.973967</td>\n",
       "      <td>1.111598</td>\n",
       "      <td>1.002376</td>\n",
       "      <td>2.303739</td>\n",
       "      <td>1.36298</td>\n",
       "    </tr>\n",
       "    <tr>\n",
       "      <th>min</th>\n",
       "      <td>-1.000000</td>\n",
       "      <td>1.000000</td>\n",
       "      <td>1.000000</td>\n",
       "      <td>1.000000</td>\n",
       "      <td>1.000000</td>\n",
       "      <td>1.000000</td>\n",
       "      <td>1.000000</td>\n",
       "      <td>1.000000</td>\n",
       "      <td>1.000000</td>\n",
       "      <td>1.000000</td>\n",
       "      <td>...</td>\n",
       "      <td>0.000000</td>\n",
       "      <td>0.000000</td>\n",
       "      <td>0.000000</td>\n",
       "      <td>0.000000</td>\n",
       "      <td>1.000000</td>\n",
       "      <td>1.000000</td>\n",
       "      <td>1.000000</td>\n",
       "      <td>1.000000</td>\n",
       "      <td>0.000000</td>\n",
       "      <td>1.00000</td>\n",
       "    </tr>\n",
       "    <tr>\n",
       "      <th>25%</th>\n",
       "      <td>-1.000000</td>\n",
       "      <td>2.000000</td>\n",
       "      <td>1.000000</td>\n",
       "      <td>2.000000</td>\n",
       "      <td>2.000000</td>\n",
       "      <td>1.000000</td>\n",
       "      <td>3.000000</td>\n",
       "      <td>2.000000</td>\n",
       "      <td>2.000000</td>\n",
       "      <td>2.000000</td>\n",
       "      <td>...</td>\n",
       "      <td>1.000000</td>\n",
       "      <td>2.000000</td>\n",
       "      <td>1.000000</td>\n",
       "      <td>0.000000</td>\n",
       "      <td>1.000000</td>\n",
       "      <td>3.000000</td>\n",
       "      <td>3.000000</td>\n",
       "      <td>3.000000</td>\n",
       "      <td>4.000000</td>\n",
       "      <td>2.00000</td>\n",
       "    </tr>\n",
       "    <tr>\n",
       "      <th>50%</th>\n",
       "      <td>-1.000000</td>\n",
       "      <td>3.000000</td>\n",
       "      <td>2.000000</td>\n",
       "      <td>4.000000</td>\n",
       "      <td>3.000000</td>\n",
       "      <td>3.000000</td>\n",
       "      <td>3.000000</td>\n",
       "      <td>3.000000</td>\n",
       "      <td>3.000000</td>\n",
       "      <td>3.000000</td>\n",
       "      <td>...</td>\n",
       "      <td>2.000000</td>\n",
       "      <td>3.000000</td>\n",
       "      <td>2.000000</td>\n",
       "      <td>1.000000</td>\n",
       "      <td>1.000000</td>\n",
       "      <td>4.000000</td>\n",
       "      <td>3.000000</td>\n",
       "      <td>3.000000</td>\n",
       "      <td>5.000000</td>\n",
       "      <td>3.00000</td>\n",
       "    </tr>\n",
       "    <tr>\n",
       "      <th>75%</th>\n",
       "      <td>-1.000000</td>\n",
       "      <td>4.000000</td>\n",
       "      <td>2.000000</td>\n",
       "      <td>5.000000</td>\n",
       "      <td>4.000000</td>\n",
       "      <td>4.000000</td>\n",
       "      <td>5.000000</td>\n",
       "      <td>5.000000</td>\n",
       "      <td>4.000000</td>\n",
       "      <td>4.000000</td>\n",
       "      <td>...</td>\n",
       "      <td>3.000000</td>\n",
       "      <td>3.000000</td>\n",
       "      <td>2.000000</td>\n",
       "      <td>1.000000</td>\n",
       "      <td>3.000000</td>\n",
       "      <td>4.000000</td>\n",
       "      <td>4.000000</td>\n",
       "      <td>4.000000</td>\n",
       "      <td>7.000000</td>\n",
       "      <td>4.00000</td>\n",
       "    </tr>\n",
       "    <tr>\n",
       "      <th>max</th>\n",
       "      <td>3.000000</td>\n",
       "      <td>9.000000</td>\n",
       "      <td>2.000000</td>\n",
       "      <td>6.000000</td>\n",
       "      <td>5.000000</td>\n",
       "      <td>5.000000</td>\n",
       "      <td>5.000000</td>\n",
       "      <td>5.000000</td>\n",
       "      <td>5.000000</td>\n",
       "      <td>5.000000</td>\n",
       "      <td>...</td>\n",
       "      <td>4.000000</td>\n",
       "      <td>4.000000</td>\n",
       "      <td>3.000000</td>\n",
       "      <td>2.000000</td>\n",
       "      <td>5.000000</td>\n",
       "      <td>5.000000</td>\n",
       "      <td>5.000000</td>\n",
       "      <td>9.000000</td>\n",
       "      <td>9.000000</td>\n",
       "      <td>9.00000</td>\n",
       "    </tr>\n",
       "  </tbody>\n",
       "</table>\n",
       "<p>8 rows × 81 columns</p>\n",
       "</div>"
      ],
      "text/plain": [
       "            AGER_TYP  ALTERSKATEGORIE_GROB      ANREDE_KZ  CJT_GESAMTTYP  \\\n",
       "count  891221.000000         891221.000000  891221.000000  886367.000000   \n",
       "mean       -0.358435              2.777398       1.522098       3.632838   \n",
       "std         1.198724              1.068775       0.499512       1.595021   \n",
       "min        -1.000000              1.000000       1.000000       1.000000   \n",
       "25%        -1.000000              2.000000       1.000000       2.000000   \n",
       "50%        -1.000000              3.000000       2.000000       4.000000   \n",
       "75%        -1.000000              4.000000       2.000000       5.000000   \n",
       "max         3.000000              9.000000       2.000000       6.000000   \n",
       "\n",
       "       FINANZ_MINIMALIST  FINANZ_SPARER  FINANZ_VORSORGER  FINANZ_ANLEGER  \\\n",
       "count      891221.000000  891221.000000     891221.000000   891221.000000   \n",
       "mean            3.074528       2.821039          3.401106        3.033328   \n",
       "std             1.321055       1.464749          1.322134        1.529603   \n",
       "min             1.000000       1.000000          1.000000        1.000000   \n",
       "25%             2.000000       1.000000          3.000000        2.000000   \n",
       "50%             3.000000       3.000000          3.000000        3.000000   \n",
       "75%             4.000000       4.000000          5.000000        5.000000   \n",
       "max             5.000000       5.000000          5.000000        5.000000   \n",
       "\n",
       "       FINANZ_UNAUFFAELLIGER  FINANZ_HAUSBAUER  ...     PLZ8_ANTG1  \\\n",
       "count          891221.000000     891221.000000  ...  774706.000000   \n",
       "mean                2.874167          3.075121  ...       2.253330   \n",
       "std                 1.486731          1.353248  ...       0.972008   \n",
       "min                 1.000000          1.000000  ...       0.000000   \n",
       "25%                 2.000000          2.000000  ...       1.000000   \n",
       "50%                 3.000000          3.000000  ...       2.000000   \n",
       "75%                 4.000000          4.000000  ...       3.000000   \n",
       "max                 5.000000          5.000000  ...       4.000000   \n",
       "\n",
       "          PLZ8_ANTG2     PLZ8_ANTG3     PLZ8_ANTG4    PLZ8_BAUMAX  \\\n",
       "count  774706.000000  774706.000000  774706.000000  774706.000000   \n",
       "mean        2.801858       1.595426       0.699166       1.943913   \n",
       "std         0.920309       0.986736       0.727137       1.459654   \n",
       "min         0.000000       0.000000       0.000000       1.000000   \n",
       "25%         2.000000       1.000000       0.000000       1.000000   \n",
       "50%         3.000000       2.000000       1.000000       1.000000   \n",
       "75%         3.000000       2.000000       1.000000       3.000000   \n",
       "max         4.000000       3.000000       2.000000       5.000000   \n",
       "\n",
       "            PLZ8_HHZ       PLZ8_GBZ         ARBEIT    ORTSGR_KLS9  \\\n",
       "count  774706.000000  774706.000000  794005.000000  794005.000000   \n",
       "mean        3.612821       3.381087       3.167854       5.293002   \n",
       "std         0.973967       1.111598       1.002376       2.303739   \n",
       "min         1.000000       1.000000       1.000000       0.000000   \n",
       "25%         3.000000       3.000000       3.000000       4.000000   \n",
       "50%         4.000000       3.000000       3.000000       5.000000   \n",
       "75%         4.000000       4.000000       4.000000       7.000000   \n",
       "max         5.000000       5.000000       9.000000       9.000000   \n",
       "\n",
       "           RELAT_AB  \n",
       "count  794005.00000  \n",
       "mean        3.07222  \n",
       "std         1.36298  \n",
       "min         1.00000  \n",
       "25%         2.00000  \n",
       "50%         3.00000  \n",
       "75%         4.00000  \n",
       "max         9.00000  \n",
       "\n",
       "[8 rows x 81 columns]"
      ]
     },
     "execution_count": 4,
     "metadata": {},
     "output_type": "execute_result"
    }
   ],
   "source": [
    "# Check the statistics of the general demographics data.\n",
    "azdias.describe()"
   ]
  },
  {
   "cell_type": "code",
   "execution_count": 5,
   "metadata": {},
   "outputs": [
    {
     "data": {
      "text/plain": [
       "-1    677503\n",
       " 2     98472\n",
       " 1     79802\n",
       " 3     27104\n",
       " 0      8340\n",
       "Name: AGER_TYP, dtype: int64"
      ]
     },
     "execution_count": 5,
     "metadata": {},
     "output_type": "execute_result"
    }
   ],
   "source": [
    "azdias.AGER_TYP.value_counts(dropna=False)"
   ]
  },
  {
   "cell_type": "code",
   "execution_count": 6,
   "metadata": {},
   "outputs": [
    {
     "data": {
      "text/plain": [
       "(891221, 85)"
      ]
     },
     "execution_count": 6,
     "metadata": {},
     "output_type": "execute_result"
    }
   ],
   "source": [
    "# Check the number of rows and columns in the general demographics data\n",
    "azdias.shape"
   ]
  },
  {
   "cell_type": "code",
   "execution_count": 7,
   "metadata": {},
   "outputs": [
    {
     "data": {
      "text/html": [
       "<div>\n",
       "<style scoped>\n",
       "    .dataframe tbody tr th:only-of-type {\n",
       "        vertical-align: middle;\n",
       "    }\n",
       "\n",
       "    .dataframe tbody tr th {\n",
       "        vertical-align: top;\n",
       "    }\n",
       "\n",
       "    .dataframe thead th {\n",
       "        text-align: right;\n",
       "    }\n",
       "</style>\n",
       "<table border=\"1\" class=\"dataframe\">\n",
       "  <thead>\n",
       "    <tr style=\"text-align: right;\">\n",
       "      <th></th>\n",
       "      <th>AGER_TYP</th>\n",
       "      <th>ALTERSKATEGORIE_GROB</th>\n",
       "      <th>ANREDE_KZ</th>\n",
       "      <th>CJT_GESAMTTYP</th>\n",
       "      <th>FINANZ_MINIMALIST</th>\n",
       "      <th>FINANZ_SPARER</th>\n",
       "      <th>FINANZ_VORSORGER</th>\n",
       "      <th>FINANZ_ANLEGER</th>\n",
       "      <th>FINANZ_UNAUFFAELLIGER</th>\n",
       "      <th>FINANZ_HAUSBAUER</th>\n",
       "      <th>...</th>\n",
       "      <th>PLZ8_ANTG1</th>\n",
       "      <th>PLZ8_ANTG2</th>\n",
       "      <th>PLZ8_ANTG3</th>\n",
       "      <th>PLZ8_ANTG4</th>\n",
       "      <th>PLZ8_BAUMAX</th>\n",
       "      <th>PLZ8_HHZ</th>\n",
       "      <th>PLZ8_GBZ</th>\n",
       "      <th>ARBEIT</th>\n",
       "      <th>ORTSGR_KLS9</th>\n",
       "      <th>RELAT_AB</th>\n",
       "    </tr>\n",
       "  </thead>\n",
       "  <tbody>\n",
       "    <tr>\n",
       "      <th>0</th>\n",
       "      <td>-1</td>\n",
       "      <td>2</td>\n",
       "      <td>1</td>\n",
       "      <td>2.0</td>\n",
       "      <td>3</td>\n",
       "      <td>4</td>\n",
       "      <td>3</td>\n",
       "      <td>5</td>\n",
       "      <td>5</td>\n",
       "      <td>3</td>\n",
       "      <td>...</td>\n",
       "      <td>NaN</td>\n",
       "      <td>NaN</td>\n",
       "      <td>NaN</td>\n",
       "      <td>NaN</td>\n",
       "      <td>NaN</td>\n",
       "      <td>NaN</td>\n",
       "      <td>NaN</td>\n",
       "      <td>NaN</td>\n",
       "      <td>NaN</td>\n",
       "      <td>NaN</td>\n",
       "    </tr>\n",
       "    <tr>\n",
       "      <th>1</th>\n",
       "      <td>-1</td>\n",
       "      <td>1</td>\n",
       "      <td>2</td>\n",
       "      <td>5.0</td>\n",
       "      <td>1</td>\n",
       "      <td>5</td>\n",
       "      <td>2</td>\n",
       "      <td>5</td>\n",
       "      <td>4</td>\n",
       "      <td>5</td>\n",
       "      <td>...</td>\n",
       "      <td>2.0</td>\n",
       "      <td>3.0</td>\n",
       "      <td>2.0</td>\n",
       "      <td>1.0</td>\n",
       "      <td>1.0</td>\n",
       "      <td>5.0</td>\n",
       "      <td>4.0</td>\n",
       "      <td>3.0</td>\n",
       "      <td>5.0</td>\n",
       "      <td>4.0</td>\n",
       "    </tr>\n",
       "    <tr>\n",
       "      <th>2</th>\n",
       "      <td>-1</td>\n",
       "      <td>3</td>\n",
       "      <td>2</td>\n",
       "      <td>3.0</td>\n",
       "      <td>1</td>\n",
       "      <td>4</td>\n",
       "      <td>1</td>\n",
       "      <td>2</td>\n",
       "      <td>3</td>\n",
       "      <td>5</td>\n",
       "      <td>...</td>\n",
       "      <td>3.0</td>\n",
       "      <td>3.0</td>\n",
       "      <td>1.0</td>\n",
       "      <td>0.0</td>\n",
       "      <td>1.0</td>\n",
       "      <td>4.0</td>\n",
       "      <td>4.0</td>\n",
       "      <td>3.0</td>\n",
       "      <td>5.0</td>\n",
       "      <td>2.0</td>\n",
       "    </tr>\n",
       "    <tr>\n",
       "      <th>3</th>\n",
       "      <td>2</td>\n",
       "      <td>4</td>\n",
       "      <td>2</td>\n",
       "      <td>2.0</td>\n",
       "      <td>4</td>\n",
       "      <td>2</td>\n",
       "      <td>5</td>\n",
       "      <td>2</td>\n",
       "      <td>1</td>\n",
       "      <td>2</td>\n",
       "      <td>...</td>\n",
       "      <td>2.0</td>\n",
       "      <td>2.0</td>\n",
       "      <td>2.0</td>\n",
       "      <td>0.0</td>\n",
       "      <td>1.0</td>\n",
       "      <td>3.0</td>\n",
       "      <td>4.0</td>\n",
       "      <td>2.0</td>\n",
       "      <td>3.0</td>\n",
       "      <td>3.0</td>\n",
       "    </tr>\n",
       "    <tr>\n",
       "      <th>4</th>\n",
       "      <td>-1</td>\n",
       "      <td>3</td>\n",
       "      <td>1</td>\n",
       "      <td>5.0</td>\n",
       "      <td>4</td>\n",
       "      <td>3</td>\n",
       "      <td>4</td>\n",
       "      <td>1</td>\n",
       "      <td>3</td>\n",
       "      <td>2</td>\n",
       "      <td>...</td>\n",
       "      <td>2.0</td>\n",
       "      <td>4.0</td>\n",
       "      <td>2.0</td>\n",
       "      <td>1.0</td>\n",
       "      <td>2.0</td>\n",
       "      <td>3.0</td>\n",
       "      <td>3.0</td>\n",
       "      <td>4.0</td>\n",
       "      <td>6.0</td>\n",
       "      <td>5.0</td>\n",
       "    </tr>\n",
       "  </tbody>\n",
       "</table>\n",
       "<p>5 rows × 85 columns</p>\n",
       "</div>"
      ],
      "text/plain": [
       "   AGER_TYP  ALTERSKATEGORIE_GROB  ANREDE_KZ  CJT_GESAMTTYP  \\\n",
       "0        -1                     2          1            2.0   \n",
       "1        -1                     1          2            5.0   \n",
       "2        -1                     3          2            3.0   \n",
       "3         2                     4          2            2.0   \n",
       "4        -1                     3          1            5.0   \n",
       "\n",
       "   FINANZ_MINIMALIST  FINANZ_SPARER  FINANZ_VORSORGER  FINANZ_ANLEGER  \\\n",
       "0                  3              4                 3               5   \n",
       "1                  1              5                 2               5   \n",
       "2                  1              4                 1               2   \n",
       "3                  4              2                 5               2   \n",
       "4                  4              3                 4               1   \n",
       "\n",
       "   FINANZ_UNAUFFAELLIGER  FINANZ_HAUSBAUER  ...  PLZ8_ANTG1  PLZ8_ANTG2  \\\n",
       "0                      5                 3  ...         NaN         NaN   \n",
       "1                      4                 5  ...         2.0         3.0   \n",
       "2                      3                 5  ...         3.0         3.0   \n",
       "3                      1                 2  ...         2.0         2.0   \n",
       "4                      3                 2  ...         2.0         4.0   \n",
       "\n",
       "   PLZ8_ANTG3  PLZ8_ANTG4  PLZ8_BAUMAX  PLZ8_HHZ  PLZ8_GBZ  ARBEIT  \\\n",
       "0         NaN         NaN          NaN       NaN       NaN     NaN   \n",
       "1         2.0         1.0          1.0       5.0       4.0     3.0   \n",
       "2         1.0         0.0          1.0       4.0       4.0     3.0   \n",
       "3         2.0         0.0          1.0       3.0       4.0     2.0   \n",
       "4         2.0         1.0          2.0       3.0       3.0     4.0   \n",
       "\n",
       "   ORTSGR_KLS9  RELAT_AB  \n",
       "0          NaN       NaN  \n",
       "1          5.0       4.0  \n",
       "2          5.0       2.0  \n",
       "3          3.0       3.0  \n",
       "4          6.0       5.0  \n",
       "\n",
       "[5 rows x 85 columns]"
      ]
     },
     "execution_count": 7,
     "metadata": {},
     "output_type": "execute_result"
    }
   ],
   "source": [
    "# Check the first five rows of the general demographics data\n",
    "azdias.head()"
   ]
  },
  {
   "cell_type": "code",
   "execution_count": 8,
   "metadata": {},
   "outputs": [
    {
     "data": {
      "text/html": [
       "<div>\n",
       "<style scoped>\n",
       "    .dataframe tbody tr th:only-of-type {\n",
       "        vertical-align: middle;\n",
       "    }\n",
       "\n",
       "    .dataframe tbody tr th {\n",
       "        vertical-align: top;\n",
       "    }\n",
       "\n",
       "    .dataframe thead th {\n",
       "        text-align: right;\n",
       "    }\n",
       "</style>\n",
       "<table border=\"1\" class=\"dataframe\">\n",
       "  <thead>\n",
       "    <tr style=\"text-align: right;\">\n",
       "      <th></th>\n",
       "      <th>attribute</th>\n",
       "      <th>information_level</th>\n",
       "      <th>type</th>\n",
       "      <th>missing_or_unknown</th>\n",
       "    </tr>\n",
       "  </thead>\n",
       "  <tbody>\n",
       "    <tr>\n",
       "      <th>0</th>\n",
       "      <td>AGER_TYP</td>\n",
       "      <td>person</td>\n",
       "      <td>categorical</td>\n",
       "      <td>[-1,0]</td>\n",
       "    </tr>\n",
       "    <tr>\n",
       "      <th>1</th>\n",
       "      <td>ALTERSKATEGORIE_GROB</td>\n",
       "      <td>person</td>\n",
       "      <td>ordinal</td>\n",
       "      <td>[-1,0,9]</td>\n",
       "    </tr>\n",
       "    <tr>\n",
       "      <th>2</th>\n",
       "      <td>ANREDE_KZ</td>\n",
       "      <td>person</td>\n",
       "      <td>categorical</td>\n",
       "      <td>[-1,0]</td>\n",
       "    </tr>\n",
       "    <tr>\n",
       "      <th>3</th>\n",
       "      <td>CJT_GESAMTTYP</td>\n",
       "      <td>person</td>\n",
       "      <td>categorical</td>\n",
       "      <td>[0]</td>\n",
       "    </tr>\n",
       "    <tr>\n",
       "      <th>4</th>\n",
       "      <td>FINANZ_MINIMALIST</td>\n",
       "      <td>person</td>\n",
       "      <td>ordinal</td>\n",
       "      <td>[-1]</td>\n",
       "    </tr>\n",
       "  </tbody>\n",
       "</table>\n",
       "</div>"
      ],
      "text/plain": [
       "              attribute information_level         type missing_or_unknown\n",
       "0              AGER_TYP            person  categorical             [-1,0]\n",
       "1  ALTERSKATEGORIE_GROB            person      ordinal           [-1,0,9]\n",
       "2             ANREDE_KZ            person  categorical             [-1,0]\n",
       "3         CJT_GESAMTTYP            person  categorical                [0]\n",
       "4     FINANZ_MINIMALIST            person      ordinal               [-1]"
      ]
     },
     "execution_count": 8,
     "metadata": {},
     "output_type": "execute_result"
    }
   ],
   "source": [
    "# Check the first five rows in the feature summary file\n",
    "feat_info.head()"
   ]
  },
  {
   "cell_type": "code",
   "execution_count": 9,
   "metadata": {},
   "outputs": [
    {
     "name": "stdout",
     "output_type": "stream",
     "text": [
      "<class 'pandas.core.frame.DataFrame'>\n",
      "RangeIndex: 85 entries, 0 to 84\n",
      "Data columns (total 4 columns):\n",
      "attribute             85 non-null object\n",
      "information_level     85 non-null object\n",
      "type                  85 non-null object\n",
      "missing_or_unknown    85 non-null object\n",
      "dtypes: object(4)\n",
      "memory usage: 2.7+ KB\n"
     ]
    }
   ],
   "source": [
    "# Check the information of rows and columns in the feature summary file\n",
    "feat_info.info()"
   ]
  },
  {
   "cell_type": "markdown",
   "metadata": {},
   "source": [
    "> **Tip**: Add additional cells to keep everything in reasonably-sized chunks! Keyboard shortcut `esc --> a` (press escape to enter command mode, then press the 'A' key) adds a new cell before the active cell, and `esc --> b` adds a new cell after the active cell. If you need to convert an active cell to a markdown cell, use `esc --> m` and to convert to a code cell, use `esc --> y`. \n",
    "\n",
    "## Step 1: Preprocessing\n",
    "\n",
    "### Step 1.1: Assess Missing Data\n",
    "\n",
    "The feature summary file contains a summary of properties for each demographics data column. You will use this file to help you make cleaning decisions during this stage of the project. First of all, you should assess the demographics data in terms of missing data. Pay attention to the following points as you perform your analysis, and take notes on what you observe. Make sure that you fill in the **Discussion** cell with your findings and decisions at the end of each step that has one!\n",
    "\n",
    "#### Step 1.1.1: Convert Missing Value Codes to NaNs\n",
    "The fourth column of the feature attributes summary (loaded in above as `feat_info`) documents the codes from the data dictionary that indicate missing or unknown data. While the file encodes this as a list (e.g. `[-1,0]`), this will get read in as a string object. You'll need to do a little bit of parsing to make use of it to identify and clean the data. Convert data that matches a 'missing' or 'unknown' value code into a numpy NaN value. You might want to see how much data takes on a 'missing' or 'unknown' code, and how much data is naturally missing, as a point of interest.\n",
    "\n",
    "**As one more reminder, you are encouraged to add additional cells to break up your analysis into manageable chunks.**"
   ]
  },
  {
   "cell_type": "code",
   "execution_count": 10,
   "metadata": {},
   "outputs": [
    {
     "data": {
      "text/plain": [
       "4896838"
      ]
     },
     "execution_count": 10,
     "metadata": {},
     "output_type": "execute_result"
    }
   ],
   "source": [
    "# Get the naturally missing null values\n",
    "original_missing = azdias.isnull().sum()\n",
    "original_missing.sum()"
   ]
  },
  {
   "cell_type": "code",
   "execution_count": 11,
   "metadata": {},
   "outputs": [
    {
     "data": {
      "text/html": [
       "<div>\n",
       "<style scoped>\n",
       "    .dataframe tbody tr th:only-of-type {\n",
       "        vertical-align: middle;\n",
       "    }\n",
       "\n",
       "    .dataframe tbody tr th {\n",
       "        vertical-align: top;\n",
       "    }\n",
       "\n",
       "    .dataframe thead th {\n",
       "        text-align: right;\n",
       "    }\n",
       "</style>\n",
       "<table border=\"1\" class=\"dataframe\">\n",
       "  <thead>\n",
       "    <tr style=\"text-align: right;\">\n",
       "      <th></th>\n",
       "      <th>attribute</th>\n",
       "      <th>information_level</th>\n",
       "      <th>type</th>\n",
       "      <th>missing_or_unknown</th>\n",
       "    </tr>\n",
       "  </thead>\n",
       "  <tbody>\n",
       "    <tr>\n",
       "      <th>0</th>\n",
       "      <td>AGER_TYP</td>\n",
       "      <td>person</td>\n",
       "      <td>categorical</td>\n",
       "      <td>[-1,0]</td>\n",
       "    </tr>\n",
       "    <tr>\n",
       "      <th>1</th>\n",
       "      <td>ALTERSKATEGORIE_GROB</td>\n",
       "      <td>person</td>\n",
       "      <td>ordinal</td>\n",
       "      <td>[-1,0,9]</td>\n",
       "    </tr>\n",
       "    <tr>\n",
       "      <th>2</th>\n",
       "      <td>ANREDE_KZ</td>\n",
       "      <td>person</td>\n",
       "      <td>categorical</td>\n",
       "      <td>[-1,0]</td>\n",
       "    </tr>\n",
       "    <tr>\n",
       "      <th>3</th>\n",
       "      <td>CJT_GESAMTTYP</td>\n",
       "      <td>person</td>\n",
       "      <td>categorical</td>\n",
       "      <td>[0]</td>\n",
       "    </tr>\n",
       "    <tr>\n",
       "      <th>4</th>\n",
       "      <td>FINANZ_MINIMALIST</td>\n",
       "      <td>person</td>\n",
       "      <td>ordinal</td>\n",
       "      <td>[-1]</td>\n",
       "    </tr>\n",
       "  </tbody>\n",
       "</table>\n",
       "</div>"
      ],
      "text/plain": [
       "              attribute information_level         type missing_or_unknown\n",
       "0              AGER_TYP            person  categorical             [-1,0]\n",
       "1  ALTERSKATEGORIE_GROB            person      ordinal           [-1,0,9]\n",
       "2             ANREDE_KZ            person  categorical             [-1,0]\n",
       "3         CJT_GESAMTTYP            person  categorical                [0]\n",
       "4     FINANZ_MINIMALIST            person      ordinal               [-1]"
      ]
     },
     "execution_count": 11,
     "metadata": {},
     "output_type": "execute_result"
    }
   ],
   "source": [
    "# Check the first five rows of the feature summary file\n",
    "feat_info.head()"
   ]
  },
  {
   "cell_type": "code",
   "execution_count": 12,
   "metadata": {},
   "outputs": [
    {
     "data": {
      "text/html": [
       "<div>\n",
       "<style scoped>\n",
       "    .dataframe tbody tr th:only-of-type {\n",
       "        vertical-align: middle;\n",
       "    }\n",
       "\n",
       "    .dataframe tbody tr th {\n",
       "        vertical-align: top;\n",
       "    }\n",
       "\n",
       "    .dataframe thead th {\n",
       "        text-align: right;\n",
       "    }\n",
       "</style>\n",
       "<table border=\"1\" class=\"dataframe\">\n",
       "  <thead>\n",
       "    <tr style=\"text-align: right;\">\n",
       "      <th></th>\n",
       "      <th>information_level</th>\n",
       "      <th>type</th>\n",
       "      <th>missing_or_unknown</th>\n",
       "    </tr>\n",
       "    <tr>\n",
       "      <th>attribute</th>\n",
       "      <th></th>\n",
       "      <th></th>\n",
       "      <th></th>\n",
       "    </tr>\n",
       "  </thead>\n",
       "  <tbody>\n",
       "    <tr>\n",
       "      <th>AGER_TYP</th>\n",
       "      <td>person</td>\n",
       "      <td>categorical</td>\n",
       "      <td>[-1,0]</td>\n",
       "    </tr>\n",
       "    <tr>\n",
       "      <th>ALTERSKATEGORIE_GROB</th>\n",
       "      <td>person</td>\n",
       "      <td>ordinal</td>\n",
       "      <td>[-1,0,9]</td>\n",
       "    </tr>\n",
       "    <tr>\n",
       "      <th>ANREDE_KZ</th>\n",
       "      <td>person</td>\n",
       "      <td>categorical</td>\n",
       "      <td>[-1,0]</td>\n",
       "    </tr>\n",
       "    <tr>\n",
       "      <th>CJT_GESAMTTYP</th>\n",
       "      <td>person</td>\n",
       "      <td>categorical</td>\n",
       "      <td>[0]</td>\n",
       "    </tr>\n",
       "    <tr>\n",
       "      <th>FINANZ_MINIMALIST</th>\n",
       "      <td>person</td>\n",
       "      <td>ordinal</td>\n",
       "      <td>[-1]</td>\n",
       "    </tr>\n",
       "  </tbody>\n",
       "</table>\n",
       "</div>"
      ],
      "text/plain": [
       "                     information_level         type missing_or_unknown\n",
       "attribute                                                             \n",
       "AGER_TYP                        person  categorical             [-1,0]\n",
       "ALTERSKATEGORIE_GROB            person      ordinal           [-1,0,9]\n",
       "ANREDE_KZ                       person  categorical             [-1,0]\n",
       "CJT_GESAMTTYP                   person  categorical                [0]\n",
       "FINANZ_MINIMALIST               person      ordinal               [-1]"
      ]
     },
     "execution_count": 12,
     "metadata": {},
     "output_type": "execute_result"
    }
   ],
   "source": [
    "# Set the attribute column of the feature summary file as index\n",
    "feat_info.set_index('attribute',inplace=True)\n",
    "feat_info.head()"
   ]
  },
  {
   "cell_type": "code",
   "execution_count": 13,
   "metadata": {},
   "outputs": [
    {
     "data": {
      "text/plain": [
       "'[-1,0]'"
      ]
     },
     "execution_count": 13,
     "metadata": {},
     "output_type": "execute_result"
    }
   ],
   "source": [
    "# Check the value of a missing_or_unknown of a particular row in the feature summary file\n",
    "feat_info.loc['AGER_TYP','missing_or_unknown']"
   ]
  },
  {
   "cell_type": "code",
   "execution_count": 14,
   "metadata": {},
   "outputs": [
    {
     "data": {
      "text/plain": [
       "['-1', '0']"
      ]
     },
     "execution_count": 14,
     "metadata": {},
     "output_type": "execute_result"
    }
   ],
   "source": [
    "# So even the missing_or_unknown values look like a list, it is saved as a string\n",
    "# Convert these values as a list of strings or symbols\n",
    "feat_info.missing_or_unknown = feat_info.missing_or_unknown.str.strip('[').str.strip(']').str.split(',')\n",
    "feat_info.loc['AGER_TYP','missing_or_unknown']"
   ]
  },
  {
   "cell_type": "code",
   "execution_count": 15,
   "metadata": {},
   "outputs": [],
   "source": [
    "# Convert the blank and 'XX' symbols in the missing_or_unknown values list into -1\n",
    "col_names=feat_info.index\n",
    "for col_name in col_names:\n",
    "    if feat_info.loc[col_name,'missing_or_unknown'][0]=='':\n",
    "        feat_info.loc[col_name,'missing_or_unknown'][0]='-1'\n",
    "    if feat_info.loc[col_name,'missing_or_unknown'][0]=='XX':\n",
    "        feat_info.loc[col_name,'missing_or_unknown'][0]='-1' "
   ]
  },
  {
   "cell_type": "code",
   "execution_count": 16,
   "metadata": {},
   "outputs": [],
   "source": [
    "# There is one binary variable (OST_WEST_KZ) that takes on non-numeric values. \n",
    "# So re-encode the values as numbers\n",
    "ost_west_dict = {'OST_WEST_KZ': {'W':0, 'O':1}}\n",
    "azdias = azdias.replace(ost_west_dict)"
   ]
  },
  {
   "cell_type": "code",
   "execution_count": 17,
   "metadata": {},
   "outputs": [],
   "source": [
    "# There is one multi-lavel categorical variable (CAMEO_DEU_2015) that takes on non-numeric values. \n",
    "# So re-encode the values as numbers\n",
    "cameo_deu_dict = {'CAMEO_DEU_2015': {'1A':0, '1B':1,'1C':2,'1D':3,'1E':4,'2A':5,'2B':6,'2C':7,'2D':8,'3A':9,'3B':10,'3C':11,'3D':12,'4A':13,'4B':14,'4C':15,'4D':16,'4E':17,'5A':18,'5B':19,'5C':20,'5D':21, \\\n",
    "                                    '5E':22,'5F':23,'6A':24,'6B':25,'6C':26,'6D':27,'6E':28,'6F':29,'7A':30,'7B':31,'7C':32,'7D':33,'7E':34,'8A':35,'8B':36,'8C':37,'8D':38,'9A':39,'9B':40,'9C':41,'9D':42,'9E':43,'XX':-1}}\n",
    "azdias = azdias.replace(cameo_deu_dict)"
   ]
  },
  {
   "cell_type": "code",
   "execution_count": 18,
   "metadata": {},
   "outputs": [],
   "source": [
    "# Convert all missing or unknown or naturally missing values to the first value of missing_or_unknown list\n",
    "azdias=azdias.applymap(str)\n",
    "for col_name in col_names:\n",
    "    azdias[col_name].replace('nan', feat_info.loc[col_name,'missing_or_unknown'][0], inplace=True)\n",
    "azdias['CAMEO_DEUG_2015'].replace('X', feat_info.loc[col_name,'missing_or_unknown'][0], inplace=True)\n",
    "\n",
    "azdias['CAMEO_INTL_2015'].replace('XX', feat_info.loc[col_name,'missing_or_unknown'][0], inplace=True)"
   ]
  },
  {
   "cell_type": "code",
   "execution_count": 19,
   "metadata": {},
   "outputs": [],
   "source": [
    "# Convert the float variable to integer\n",
    "def convert_int(value):\n",
    "    try:\n",
    "        x=value.split(\".\",1)\n",
    "        return int(x[0])\n",
    "    except:\n",
    "        return x"
   ]
  },
  {
   "cell_type": "code",
   "execution_count": 20,
   "metadata": {},
   "outputs": [
    {
     "data": {
      "text/html": [
       "<div>\n",
       "<style scoped>\n",
       "    .dataframe tbody tr th:only-of-type {\n",
       "        vertical-align: middle;\n",
       "    }\n",
       "\n",
       "    .dataframe tbody tr th {\n",
       "        vertical-align: top;\n",
       "    }\n",
       "\n",
       "    .dataframe thead th {\n",
       "        text-align: right;\n",
       "    }\n",
       "</style>\n",
       "<table border=\"1\" class=\"dataframe\">\n",
       "  <thead>\n",
       "    <tr style=\"text-align: right;\">\n",
       "      <th></th>\n",
       "      <th>AGER_TYP</th>\n",
       "      <th>ALTERSKATEGORIE_GROB</th>\n",
       "      <th>ANREDE_KZ</th>\n",
       "      <th>CJT_GESAMTTYP</th>\n",
       "      <th>FINANZ_MINIMALIST</th>\n",
       "      <th>FINANZ_SPARER</th>\n",
       "      <th>FINANZ_VORSORGER</th>\n",
       "      <th>FINANZ_ANLEGER</th>\n",
       "      <th>FINANZ_UNAUFFAELLIGER</th>\n",
       "      <th>FINANZ_HAUSBAUER</th>\n",
       "      <th>...</th>\n",
       "      <th>PLZ8_ANTG1</th>\n",
       "      <th>PLZ8_ANTG2</th>\n",
       "      <th>PLZ8_ANTG3</th>\n",
       "      <th>PLZ8_ANTG4</th>\n",
       "      <th>PLZ8_BAUMAX</th>\n",
       "      <th>PLZ8_HHZ</th>\n",
       "      <th>PLZ8_GBZ</th>\n",
       "      <th>ARBEIT</th>\n",
       "      <th>ORTSGR_KLS9</th>\n",
       "      <th>RELAT_AB</th>\n",
       "    </tr>\n",
       "  </thead>\n",
       "  <tbody>\n",
       "    <tr>\n",
       "      <th>0</th>\n",
       "      <td>-1</td>\n",
       "      <td>2</td>\n",
       "      <td>1</td>\n",
       "      <td>2.0</td>\n",
       "      <td>3</td>\n",
       "      <td>4</td>\n",
       "      <td>3</td>\n",
       "      <td>5</td>\n",
       "      <td>5</td>\n",
       "      <td>3</td>\n",
       "      <td>...</td>\n",
       "      <td>-1</td>\n",
       "      <td>-1</td>\n",
       "      <td>-1</td>\n",
       "      <td>-1</td>\n",
       "      <td>-1</td>\n",
       "      <td>-1</td>\n",
       "      <td>-1</td>\n",
       "      <td>-1</td>\n",
       "      <td>-1</td>\n",
       "      <td>-1</td>\n",
       "    </tr>\n",
       "    <tr>\n",
       "      <th>1</th>\n",
       "      <td>-1</td>\n",
       "      <td>1</td>\n",
       "      <td>2</td>\n",
       "      <td>5.0</td>\n",
       "      <td>1</td>\n",
       "      <td>5</td>\n",
       "      <td>2</td>\n",
       "      <td>5</td>\n",
       "      <td>4</td>\n",
       "      <td>5</td>\n",
       "      <td>...</td>\n",
       "      <td>2.0</td>\n",
       "      <td>3.0</td>\n",
       "      <td>2.0</td>\n",
       "      <td>1.0</td>\n",
       "      <td>1.0</td>\n",
       "      <td>5.0</td>\n",
       "      <td>4.0</td>\n",
       "      <td>3.0</td>\n",
       "      <td>5.0</td>\n",
       "      <td>4.0</td>\n",
       "    </tr>\n",
       "    <tr>\n",
       "      <th>2</th>\n",
       "      <td>-1</td>\n",
       "      <td>3</td>\n",
       "      <td>2</td>\n",
       "      <td>3.0</td>\n",
       "      <td>1</td>\n",
       "      <td>4</td>\n",
       "      <td>1</td>\n",
       "      <td>2</td>\n",
       "      <td>3</td>\n",
       "      <td>5</td>\n",
       "      <td>...</td>\n",
       "      <td>3.0</td>\n",
       "      <td>3.0</td>\n",
       "      <td>1.0</td>\n",
       "      <td>0.0</td>\n",
       "      <td>1.0</td>\n",
       "      <td>4.0</td>\n",
       "      <td>4.0</td>\n",
       "      <td>3.0</td>\n",
       "      <td>5.0</td>\n",
       "      <td>2.0</td>\n",
       "    </tr>\n",
       "    <tr>\n",
       "      <th>3</th>\n",
       "      <td>2</td>\n",
       "      <td>4</td>\n",
       "      <td>2</td>\n",
       "      <td>2.0</td>\n",
       "      <td>4</td>\n",
       "      <td>2</td>\n",
       "      <td>5</td>\n",
       "      <td>2</td>\n",
       "      <td>1</td>\n",
       "      <td>2</td>\n",
       "      <td>...</td>\n",
       "      <td>2.0</td>\n",
       "      <td>2.0</td>\n",
       "      <td>2.0</td>\n",
       "      <td>0.0</td>\n",
       "      <td>1.0</td>\n",
       "      <td>3.0</td>\n",
       "      <td>4.0</td>\n",
       "      <td>2.0</td>\n",
       "      <td>3.0</td>\n",
       "      <td>3.0</td>\n",
       "    </tr>\n",
       "    <tr>\n",
       "      <th>4</th>\n",
       "      <td>-1</td>\n",
       "      <td>3</td>\n",
       "      <td>1</td>\n",
       "      <td>5.0</td>\n",
       "      <td>4</td>\n",
       "      <td>3</td>\n",
       "      <td>4</td>\n",
       "      <td>1</td>\n",
       "      <td>3</td>\n",
       "      <td>2</td>\n",
       "      <td>...</td>\n",
       "      <td>2.0</td>\n",
       "      <td>4.0</td>\n",
       "      <td>2.0</td>\n",
       "      <td>1.0</td>\n",
       "      <td>2.0</td>\n",
       "      <td>3.0</td>\n",
       "      <td>3.0</td>\n",
       "      <td>4.0</td>\n",
       "      <td>6.0</td>\n",
       "      <td>5.0</td>\n",
       "    </tr>\n",
       "  </tbody>\n",
       "</table>\n",
       "<p>5 rows × 85 columns</p>\n",
       "</div>"
      ],
      "text/plain": [
       "  AGER_TYP ALTERSKATEGORIE_GROB ANREDE_KZ CJT_GESAMTTYP FINANZ_MINIMALIST  \\\n",
       "0       -1                    2         1           2.0                 3   \n",
       "1       -1                    1         2           5.0                 1   \n",
       "2       -1                    3         2           3.0                 1   \n",
       "3        2                    4         2           2.0                 4   \n",
       "4       -1                    3         1           5.0                 4   \n",
       "\n",
       "  FINANZ_SPARER FINANZ_VORSORGER FINANZ_ANLEGER FINANZ_UNAUFFAELLIGER  \\\n",
       "0             4                3              5                     5   \n",
       "1             5                2              5                     4   \n",
       "2             4                1              2                     3   \n",
       "3             2                5              2                     1   \n",
       "4             3                4              1                     3   \n",
       "\n",
       "  FINANZ_HAUSBAUER  ... PLZ8_ANTG1 PLZ8_ANTG2 PLZ8_ANTG3 PLZ8_ANTG4  \\\n",
       "0                3  ...         -1         -1         -1         -1   \n",
       "1                5  ...        2.0        3.0        2.0        1.0   \n",
       "2                5  ...        3.0        3.0        1.0        0.0   \n",
       "3                2  ...        2.0        2.0        2.0        0.0   \n",
       "4                2  ...        2.0        4.0        2.0        1.0   \n",
       "\n",
       "  PLZ8_BAUMAX PLZ8_HHZ PLZ8_GBZ ARBEIT ORTSGR_KLS9 RELAT_AB  \n",
       "0          -1       -1       -1     -1          -1       -1  \n",
       "1         1.0      5.0      4.0    3.0         5.0      4.0  \n",
       "2         1.0      4.0      4.0    3.0         5.0      2.0  \n",
       "3         1.0      3.0      4.0    2.0         3.0      3.0  \n",
       "4         2.0      3.0      3.0    4.0         6.0      5.0  \n",
       "\n",
       "[5 rows x 85 columns]"
      ]
     },
     "execution_count": 20,
     "metadata": {},
     "output_type": "execute_result"
    }
   ],
   "source": [
    "# Check the first five rows of the general demographics data\n",
    "azdias.head()"
   ]
  },
  {
   "cell_type": "code",
   "execution_count": 21,
   "metadata": {},
   "outputs": [],
   "source": [
    "# Convert the float values to integer\n",
    "azdias=azdias.applymap(convert_int)"
   ]
  },
  {
   "cell_type": "code",
   "execution_count": 22,
   "metadata": {},
   "outputs": [
    {
     "data": {
      "text/html": [
       "<div>\n",
       "<style scoped>\n",
       "    .dataframe tbody tr th:only-of-type {\n",
       "        vertical-align: middle;\n",
       "    }\n",
       "\n",
       "    .dataframe tbody tr th {\n",
       "        vertical-align: top;\n",
       "    }\n",
       "\n",
       "    .dataframe thead th {\n",
       "        text-align: right;\n",
       "    }\n",
       "</style>\n",
       "<table border=\"1\" class=\"dataframe\">\n",
       "  <thead>\n",
       "    <tr style=\"text-align: right;\">\n",
       "      <th></th>\n",
       "      <th>AGER_TYP</th>\n",
       "      <th>ALTERSKATEGORIE_GROB</th>\n",
       "      <th>ANREDE_KZ</th>\n",
       "      <th>CJT_GESAMTTYP</th>\n",
       "      <th>FINANZ_MINIMALIST</th>\n",
       "      <th>FINANZ_SPARER</th>\n",
       "      <th>FINANZ_VORSORGER</th>\n",
       "      <th>FINANZ_ANLEGER</th>\n",
       "      <th>FINANZ_UNAUFFAELLIGER</th>\n",
       "      <th>FINANZ_HAUSBAUER</th>\n",
       "      <th>...</th>\n",
       "      <th>PLZ8_ANTG1</th>\n",
       "      <th>PLZ8_ANTG2</th>\n",
       "      <th>PLZ8_ANTG3</th>\n",
       "      <th>PLZ8_ANTG4</th>\n",
       "      <th>PLZ8_BAUMAX</th>\n",
       "      <th>PLZ8_HHZ</th>\n",
       "      <th>PLZ8_GBZ</th>\n",
       "      <th>ARBEIT</th>\n",
       "      <th>ORTSGR_KLS9</th>\n",
       "      <th>RELAT_AB</th>\n",
       "    </tr>\n",
       "  </thead>\n",
       "  <tbody>\n",
       "    <tr>\n",
       "      <th>0</th>\n",
       "      <td>-1</td>\n",
       "      <td>2</td>\n",
       "      <td>1</td>\n",
       "      <td>2</td>\n",
       "      <td>3</td>\n",
       "      <td>4</td>\n",
       "      <td>3</td>\n",
       "      <td>5</td>\n",
       "      <td>5</td>\n",
       "      <td>3</td>\n",
       "      <td>...</td>\n",
       "      <td>-1</td>\n",
       "      <td>-1</td>\n",
       "      <td>-1</td>\n",
       "      <td>-1</td>\n",
       "      <td>-1</td>\n",
       "      <td>-1</td>\n",
       "      <td>-1</td>\n",
       "      <td>-1</td>\n",
       "      <td>-1</td>\n",
       "      <td>-1</td>\n",
       "    </tr>\n",
       "    <tr>\n",
       "      <th>1</th>\n",
       "      <td>-1</td>\n",
       "      <td>1</td>\n",
       "      <td>2</td>\n",
       "      <td>5</td>\n",
       "      <td>1</td>\n",
       "      <td>5</td>\n",
       "      <td>2</td>\n",
       "      <td>5</td>\n",
       "      <td>4</td>\n",
       "      <td>5</td>\n",
       "      <td>...</td>\n",
       "      <td>2</td>\n",
       "      <td>3</td>\n",
       "      <td>2</td>\n",
       "      <td>1</td>\n",
       "      <td>1</td>\n",
       "      <td>5</td>\n",
       "      <td>4</td>\n",
       "      <td>3</td>\n",
       "      <td>5</td>\n",
       "      <td>4</td>\n",
       "    </tr>\n",
       "    <tr>\n",
       "      <th>2</th>\n",
       "      <td>-1</td>\n",
       "      <td>3</td>\n",
       "      <td>2</td>\n",
       "      <td>3</td>\n",
       "      <td>1</td>\n",
       "      <td>4</td>\n",
       "      <td>1</td>\n",
       "      <td>2</td>\n",
       "      <td>3</td>\n",
       "      <td>5</td>\n",
       "      <td>...</td>\n",
       "      <td>3</td>\n",
       "      <td>3</td>\n",
       "      <td>1</td>\n",
       "      <td>0</td>\n",
       "      <td>1</td>\n",
       "      <td>4</td>\n",
       "      <td>4</td>\n",
       "      <td>3</td>\n",
       "      <td>5</td>\n",
       "      <td>2</td>\n",
       "    </tr>\n",
       "    <tr>\n",
       "      <th>3</th>\n",
       "      <td>2</td>\n",
       "      <td>4</td>\n",
       "      <td>2</td>\n",
       "      <td>2</td>\n",
       "      <td>4</td>\n",
       "      <td>2</td>\n",
       "      <td>5</td>\n",
       "      <td>2</td>\n",
       "      <td>1</td>\n",
       "      <td>2</td>\n",
       "      <td>...</td>\n",
       "      <td>2</td>\n",
       "      <td>2</td>\n",
       "      <td>2</td>\n",
       "      <td>0</td>\n",
       "      <td>1</td>\n",
       "      <td>3</td>\n",
       "      <td>4</td>\n",
       "      <td>2</td>\n",
       "      <td>3</td>\n",
       "      <td>3</td>\n",
       "    </tr>\n",
       "    <tr>\n",
       "      <th>4</th>\n",
       "      <td>-1</td>\n",
       "      <td>3</td>\n",
       "      <td>1</td>\n",
       "      <td>5</td>\n",
       "      <td>4</td>\n",
       "      <td>3</td>\n",
       "      <td>4</td>\n",
       "      <td>1</td>\n",
       "      <td>3</td>\n",
       "      <td>2</td>\n",
       "      <td>...</td>\n",
       "      <td>2</td>\n",
       "      <td>4</td>\n",
       "      <td>2</td>\n",
       "      <td>1</td>\n",
       "      <td>2</td>\n",
       "      <td>3</td>\n",
       "      <td>3</td>\n",
       "      <td>4</td>\n",
       "      <td>6</td>\n",
       "      <td>5</td>\n",
       "    </tr>\n",
       "  </tbody>\n",
       "</table>\n",
       "<p>5 rows × 85 columns</p>\n",
       "</div>"
      ],
      "text/plain": [
       "   AGER_TYP  ALTERSKATEGORIE_GROB  ANREDE_KZ  CJT_GESAMTTYP  \\\n",
       "0        -1                     2          1              2   \n",
       "1        -1                     1          2              5   \n",
       "2        -1                     3          2              3   \n",
       "3         2                     4          2              2   \n",
       "4        -1                     3          1              5   \n",
       "\n",
       "   FINANZ_MINIMALIST  FINANZ_SPARER  FINANZ_VORSORGER  FINANZ_ANLEGER  \\\n",
       "0                  3              4                 3               5   \n",
       "1                  1              5                 2               5   \n",
       "2                  1              4                 1               2   \n",
       "3                  4              2                 5               2   \n",
       "4                  4              3                 4               1   \n",
       "\n",
       "   FINANZ_UNAUFFAELLIGER  FINANZ_HAUSBAUER  ...  PLZ8_ANTG1  PLZ8_ANTG2  \\\n",
       "0                      5                 3  ...          -1          -1   \n",
       "1                      4                 5  ...           2           3   \n",
       "2                      3                 5  ...           3           3   \n",
       "3                      1                 2  ...           2           2   \n",
       "4                      3                 2  ...           2           4   \n",
       "\n",
       "   PLZ8_ANTG3  PLZ8_ANTG4  PLZ8_BAUMAX  PLZ8_HHZ  PLZ8_GBZ  ARBEIT  \\\n",
       "0          -1          -1           -1        -1        -1      -1   \n",
       "1           2           1            1         5         4       3   \n",
       "2           1           0            1         4         4       3   \n",
       "3           2           0            1         3         4       2   \n",
       "4           2           1            2         3         3       4   \n",
       "\n",
       "   ORTSGR_KLS9  RELAT_AB  \n",
       "0           -1        -1  \n",
       "1            5         4  \n",
       "2            5         2  \n",
       "3            3         3  \n",
       "4            6         5  \n",
       "\n",
       "[5 rows x 85 columns]"
      ]
     },
     "execution_count": 22,
     "metadata": {},
     "output_type": "execute_result"
    }
   ],
   "source": [
    "# Again check the first five rows of the general demographics data after the integer conversion\n",
    "azdias.head()"
   ]
  },
  {
   "cell_type": "code",
   "execution_count": 23,
   "metadata": {},
   "outputs": [],
   "source": [
    "# Convert all missing or unknown or naturally missing values to np.nan\n",
    "azdias=azdias.applymap(str)\n",
    "for col_name in col_names:\n",
    "    azdias[col_name].replace(feat_info.loc[col_name].missing_or_unknown, np.nan, inplace=True)\n",
    "    azdias[col_name].replace('nan', np.nan, inplace=True)"
   ]
  },
  {
   "cell_type": "code",
   "execution_count": 24,
   "metadata": {},
   "outputs": [
    {
     "data": {
      "text/plain": [
       "TITEL_KZ                 889061\n",
       "AGER_TYP                 685843\n",
       "KK_KUNDENTYP             584612\n",
       "KBA05_BAUMAX             476524\n",
       "GEBURTSJAHR              392318\n",
       "ALTER_HH                 310267\n",
       "REGIOTYP                 158064\n",
       "KKK                      158064\n",
       "W_KEIT_KIND_HH           147988\n",
       "KBA05_ANTG4              133324\n",
       "KBA05_GBZ                133324\n",
       "MOBI_REGIO               133324\n",
       "KBA05_ANTG1              133324\n",
       "KBA05_ANTG2              133324\n",
       "KBA05_ANTG3              133324\n",
       "PLZ8_GBZ                 116515\n",
       "PLZ8_HHZ                 116515\n",
       "PLZ8_BAUMAX              116515\n",
       "PLZ8_ANTG4               116515\n",
       "PLZ8_ANTG1               116515\n",
       "PLZ8_ANTG3               116515\n",
       "PLZ8_ANTG2               116515\n",
       "SHOPPER_TYP              111196\n",
       "VERS_TYP                 111196\n",
       "HEALTH_TYP               111196\n",
       "NATIONALITAET_KZ         108315\n",
       "PRAEGENDE_JUGENDJAHRE    108164\n",
       "KBA13_ANZAHL_PKW         105800\n",
       "ANZ_HAUSHALTE_AKTIV       99611\n",
       "CAMEO_INTL_2015           99352\n",
       "                          ...  \n",
       "RETOURTYP_BK_S             4854\n",
       "ONLINE_AFFINITAET          4854\n",
       "LP_STATUS_FEIN             4854\n",
       "LP_STATUS_GROB             4854\n",
       "GFK_URLAUBERTYP            4854\n",
       "ALTERSKATEGORIE_GROB       2881\n",
       "FINANZTYP                     0\n",
       "GREEN_AVANTGARDE              0\n",
       "FINANZ_HAUSBAUER              0\n",
       "FINANZ_UNAUFFAELLIGER         0\n",
       "FINANZ_ANLEGER                0\n",
       "FINANZ_SPARER                 0\n",
       "FINANZ_MINIMALIST             0\n",
       "ANREDE_KZ                     0\n",
       "FINANZ_VORSORGER              0\n",
       "SEMIO_FAM                     0\n",
       "SEMIO_SOZ                     0\n",
       "SEMIO_REL                     0\n",
       "SEMIO_MAT                     0\n",
       "SEMIO_VERT                    0\n",
       "SEMIO_LUST                    0\n",
       "SEMIO_ERL                     0\n",
       "SEMIO_KULT                    0\n",
       "SEMIO_RAT                     0\n",
       "SEMIO_KRIT                    0\n",
       "SEMIO_DOM                     0\n",
       "SEMIO_KAEM                    0\n",
       "SEMIO_PFLICHT                 0\n",
       "SEMIO_TRADV                   0\n",
       "ZABEOTYP                      0\n",
       "Length: 85, dtype: int64"
      ]
     },
     "execution_count": 24,
     "metadata": {},
     "output_type": "execute_result"
    }
   ],
   "source": [
    "# Get the counts of all missing or unknown or naturally missing values\n",
    "total_missing = azdias.isnull().sum()\n",
    "total_missing.sort_values(ascending=False)"
   ]
  },
  {
   "cell_type": "code",
   "execution_count": 25,
   "metadata": {},
   "outputs": [
    {
     "data": {
      "text/plain": [
       "8373929"
      ]
     },
     "execution_count": 25,
     "metadata": {},
     "output_type": "execute_result"
    }
   ],
   "source": [
    "# Get the total missing values\n",
    "total_missing.sum()"
   ]
  },
  {
   "cell_type": "code",
   "execution_count": 26,
   "metadata": {},
   "outputs": [
    {
     "name": "stdout",
     "output_type": "stream",
     "text": [
      "<class 'pandas.core.frame.DataFrame'>\n",
      "RangeIndex: 891221 entries, 0 to 891220\n",
      "Data columns (total 85 columns):\n",
      "AGER_TYP                 205378 non-null object\n",
      "ALTERSKATEGORIE_GROB     888340 non-null object\n",
      "ANREDE_KZ                891221 non-null object\n",
      "CJT_GESAMTTYP            886367 non-null object\n",
      "FINANZ_MINIMALIST        891221 non-null object\n",
      "FINANZ_SPARER            891221 non-null object\n",
      "FINANZ_VORSORGER         891221 non-null object\n",
      "FINANZ_ANLEGER           891221 non-null object\n",
      "FINANZ_UNAUFFAELLIGER    891221 non-null object\n",
      "FINANZ_HAUSBAUER         891221 non-null object\n",
      "FINANZTYP                891221 non-null object\n",
      "GEBURTSJAHR              498903 non-null object\n",
      "GFK_URLAUBERTYP          886367 non-null object\n",
      "GREEN_AVANTGARDE         891221 non-null object\n",
      "HEALTH_TYP               780025 non-null object\n",
      "LP_LEBENSPHASE_FEIN      793589 non-null object\n",
      "LP_LEBENSPHASE_GROB      796649 non-null object\n",
      "LP_FAMILIE_FEIN          813429 non-null object\n",
      "LP_FAMILIE_GROB          813429 non-null object\n",
      "LP_STATUS_FEIN           886367 non-null object\n",
      "LP_STATUS_GROB           886367 non-null object\n",
      "NATIONALITAET_KZ         782906 non-null object\n",
      "PRAEGENDE_JUGENDJAHRE    783057 non-null object\n",
      "RETOURTYP_BK_S           886367 non-null object\n",
      "SEMIO_SOZ                891221 non-null object\n",
      "SEMIO_FAM                891221 non-null object\n",
      "SEMIO_REL                891221 non-null object\n",
      "SEMIO_MAT                891221 non-null object\n",
      "SEMIO_VERT               891221 non-null object\n",
      "SEMIO_LUST               891221 non-null object\n",
      "SEMIO_ERL                891221 non-null object\n",
      "SEMIO_KULT               891221 non-null object\n",
      "SEMIO_RAT                891221 non-null object\n",
      "SEMIO_KRIT               891221 non-null object\n",
      "SEMIO_DOM                891221 non-null object\n",
      "SEMIO_KAEM               891221 non-null object\n",
      "SEMIO_PFLICHT            891221 non-null object\n",
      "SEMIO_TRADV              891221 non-null object\n",
      "SHOPPER_TYP              780025 non-null object\n",
      "SOHO_KZ                  817722 non-null object\n",
      "TITEL_KZ                 2160 non-null object\n",
      "VERS_TYP                 780025 non-null object\n",
      "ZABEOTYP                 891221 non-null object\n",
      "ALTER_HH                 580954 non-null object\n",
      "ANZ_PERSONEN             817722 non-null object\n",
      "ANZ_TITEL                817722 non-null object\n",
      "HH_EINKOMMEN_SCORE       872873 non-null object\n",
      "KK_KUNDENTYP             306609 non-null object\n",
      "W_KEIT_KIND_HH           743233 non-null object\n",
      "WOHNDAUER_2008           817722 non-null object\n",
      "ANZ_HAUSHALTE_AKTIV      791610 non-null object\n",
      "ANZ_HH_TITEL             794213 non-null object\n",
      "GEBAEUDETYP              798073 non-null object\n",
      "KONSUMNAEHE              817252 non-null object\n",
      "MIN_GEBAEUDEJAHR         798073 non-null object\n",
      "OST_WEST_KZ              798073 non-null object\n",
      "WOHNLAGE                 798073 non-null object\n",
      "CAMEO_DEUG_2015          791869 non-null object\n",
      "CAMEO_DEU_2015           791869 non-null object\n",
      "CAMEO_INTL_2015          791869 non-null object\n",
      "KBA05_ANTG1              757897 non-null object\n",
      "KBA05_ANTG2              757897 non-null object\n",
      "KBA05_ANTG3              757897 non-null object\n",
      "KBA05_ANTG4              757897 non-null object\n",
      "KBA05_BAUMAX             414697 non-null object\n",
      "KBA05_GBZ                757897 non-null object\n",
      "BALLRAUM                 797481 non-null object\n",
      "EWDICHTE                 797481 non-null object\n",
      "INNENSTADT               797481 non-null object\n",
      "GEBAEUDETYP_RASTER       798066 non-null object\n",
      "KKK                      733157 non-null object\n",
      "MOBI_REGIO               757897 non-null object\n",
      "ONLINE_AFFINITAET        886367 non-null object\n",
      "REGIOTYP                 733157 non-null object\n",
      "KBA13_ANZAHL_PKW         785421 non-null object\n",
      "PLZ8_ANTG1               774706 non-null object\n",
      "PLZ8_ANTG2               774706 non-null object\n",
      "PLZ8_ANTG3               774706 non-null object\n",
      "PLZ8_ANTG4               774706 non-null object\n",
      "PLZ8_BAUMAX              774706 non-null object\n",
      "PLZ8_HHZ                 774706 non-null object\n",
      "PLZ8_GBZ                 774706 non-null object\n",
      "ARBEIT                   793846 non-null object\n",
      "ORTSGR_KLS9              793947 non-null object\n",
      "RELAT_AB                 793846 non-null object\n",
      "dtypes: object(85)\n",
      "memory usage: 578.0+ MB\n"
     ]
    }
   ],
   "source": [
    "azdias.info()"
   ]
  },
  {
   "cell_type": "markdown",
   "metadata": {},
   "source": [
    "#### Step 1.1.2: Assess Missing Data in Each Column\n",
    "\n",
    "How much missing data is present in each column? There are a few columns that are outliers in terms of the proportion of values that are missing. You will want to use matplotlib's [`hist()`](https://matplotlib.org/api/_as_gen/matplotlib.pyplot.hist.html) function to visualize the distribution of missing value counts to find these columns. Identify and document these columns. While some of these columns might have justifications for keeping or re-encoding the data, for this project you should just remove them from the dataframe. (Feel free to make remarks about these outlier columns in the discussion, however!)\n",
    "\n",
    "For the remaining features, are there any patterns in which columns have, or share, missing data?"
   ]
  },
  {
   "cell_type": "code",
   "execution_count": 27,
   "metadata": {},
   "outputs": [
    {
     "data": {
      "text/plain": [
       "TITEL_KZ                 889061\n",
       "AGER_TYP                 685843\n",
       "KK_KUNDENTYP             584612\n",
       "KBA05_BAUMAX             476524\n",
       "GEBURTSJAHR              392318\n",
       "ALTER_HH                 310267\n",
       "REGIOTYP                 158064\n",
       "KKK                      158064\n",
       "W_KEIT_KIND_HH           147988\n",
       "KBA05_ANTG4              133324\n",
       "KBA05_GBZ                133324\n",
       "MOBI_REGIO               133324\n",
       "KBA05_ANTG1              133324\n",
       "KBA05_ANTG2              133324\n",
       "KBA05_ANTG3              133324\n",
       "PLZ8_GBZ                 116515\n",
       "PLZ8_HHZ                 116515\n",
       "PLZ8_BAUMAX              116515\n",
       "PLZ8_ANTG4               116515\n",
       "PLZ8_ANTG1               116515\n",
       "PLZ8_ANTG3               116515\n",
       "PLZ8_ANTG2               116515\n",
       "SHOPPER_TYP              111196\n",
       "VERS_TYP                 111196\n",
       "HEALTH_TYP               111196\n",
       "NATIONALITAET_KZ         108315\n",
       "PRAEGENDE_JUGENDJAHRE    108164\n",
       "KBA13_ANZAHL_PKW         105800\n",
       "ANZ_HAUSHALTE_AKTIV       99611\n",
       "CAMEO_INTL_2015           99352\n",
       "                          ...  \n",
       "RETOURTYP_BK_S             4854\n",
       "ONLINE_AFFINITAET          4854\n",
       "LP_STATUS_FEIN             4854\n",
       "LP_STATUS_GROB             4854\n",
       "GFK_URLAUBERTYP            4854\n",
       "ALTERSKATEGORIE_GROB       2881\n",
       "FINANZTYP                     0\n",
       "GREEN_AVANTGARDE              0\n",
       "FINANZ_HAUSBAUER              0\n",
       "FINANZ_UNAUFFAELLIGER         0\n",
       "FINANZ_ANLEGER                0\n",
       "FINANZ_SPARER                 0\n",
       "FINANZ_MINIMALIST             0\n",
       "ANREDE_KZ                     0\n",
       "FINANZ_VORSORGER              0\n",
       "SEMIO_FAM                     0\n",
       "SEMIO_SOZ                     0\n",
       "SEMIO_REL                     0\n",
       "SEMIO_MAT                     0\n",
       "SEMIO_VERT                    0\n",
       "SEMIO_LUST                    0\n",
       "SEMIO_ERL                     0\n",
       "SEMIO_KULT                    0\n",
       "SEMIO_RAT                     0\n",
       "SEMIO_KRIT                    0\n",
       "SEMIO_DOM                     0\n",
       "SEMIO_KAEM                    0\n",
       "SEMIO_PFLICHT                 0\n",
       "SEMIO_TRADV                   0\n",
       "ZABEOTYP                      0\n",
       "Length: 85, dtype: int64"
      ]
     },
     "execution_count": 27,
     "metadata": {},
     "output_type": "execute_result"
    }
   ],
   "source": [
    "# Perform an assessment of how much missing data there is in each column of the dataset.\n",
    "# Get the counts of all missing or unknown or naturally missing values\n",
    "total_missing = azdias.isnull().sum()\n",
    "total_missing.sort_values(ascending=False)"
   ]
  },
  {
   "cell_type": "code",
   "execution_count": 28,
   "metadata": {},
   "outputs": [
    {
     "data": {
      "text/plain": [
       "<matplotlib.axes._subplots.AxesSubplot at 0x21a426e2160>"
      ]
     },
     "execution_count": 28,
     "metadata": {},
     "output_type": "execute_result"
    },
    {
     "data": {
      "image/png": "[encoded data removed]",
      "text/plain": [
       "<Figure size 432x288 with 1 Axes>"
      ]
     },
     "metadata": {
      "needs_background": "light"
     },
     "output_type": "display_data"
    }
   ],
   "source": [
    "# Investigate patterns in the amount of missing data in each column.\n",
    "total_missing.hist(bins=100)"
   ]
  },
  {
   "cell_type": "code",
   "execution_count": 29,
   "metadata": {},
   "outputs": [
    {
     "data": {
      "text/plain": [
       "Index(['AGER_TYP', 'GEBURTSJAHR', 'TITEL_KZ', 'ALTER_HH', 'KK_KUNDENTYP',\n",
       "       'KBA05_BAUMAX'],\n",
       "      dtype='object')"
      ]
     },
     "execution_count": 29,
     "metadata": {},
     "output_type": "execute_result"
    }
   ],
   "source": [
    "# Outlier columns have more than 200000 missing values\n",
    "missing_outliers=total_missing[total_missing > 200000].index\n",
    "missing_outliers"
   ]
  },
  {
   "cell_type": "code",
   "execution_count": 30,
   "metadata": {},
   "outputs": [
    {
     "data": {
      "text/plain": [
       "(891221, 79)"
      ]
     },
     "execution_count": 30,
     "metadata": {},
     "output_type": "execute_result"
    }
   ],
   "source": [
    "# Remove the outlier columns from the dataset. (You'll perform other data\n",
    "# engineering tasks such as re-encoding and imputation later.)\n",
    "azdias.drop(missing_outliers, axis=1, inplace=True)\n",
    "azdias.shape"
   ]
  },
  {
   "cell_type": "code",
   "execution_count": 31,
   "metadata": {},
   "outputs": [
    {
     "data": {
      "text/plain": [
       "(85, 3)"
      ]
     },
     "execution_count": 31,
     "metadata": {},
     "output_type": "execute_result"
    }
   ],
   "source": [
    "# Check rows and columns of feature summary file\n",
    "feat_info.shape"
   ]
  },
  {
   "cell_type": "code",
   "execution_count": 32,
   "metadata": {},
   "outputs": [
    {
     "data": {
      "text/plain": [
       "(79, 3)"
      ]
     },
     "execution_count": 32,
     "metadata": {},
     "output_type": "execute_result"
    }
   ],
   "source": [
    "# Drop the outlier index from feature summary file\n",
    "feat_info_clean=feat_info.drop(missing_outliers,inplace=False)\n",
    "feat_info_clean.shape"
   ]
  },
  {
   "cell_type": "markdown",
   "metadata": {},
   "source": [
    "#### Discussion 1.1.2: Assess Missing Data in Each Column\n",
    "\n",
    "There are a total of 8373929 values missing in 891221 rows and 85 columns. There are 6 outlier columns which have more than  200000 observations missing. These columns are ```'AGER_TYP', 'GEBURTSJAHR', 'TITEL_KZ', 'ALTER_HH', 'KK_KUNDENTYP' and 'KBA05_BAUMAX'```. So these columns are removed from the population dataset.\n"
   ]
  },
  {
   "cell_type": "markdown",
   "metadata": {},
   "source": [
    "#### Step 1.1.3: Assess Missing Data in Each Row\n",
    "\n",
    "Now, you'll perform a similar assessment for the rows of the dataset. How much data is missing in each row? As with the columns, you should see some groups of points that have a very different numbers of missing values. Divide the data into two subsets: one for data points that are above some threshold for missing values, and a second subset for points below that threshold.\n",
    "\n",
    "In order to know what to do with the outlier rows, we should see if the distribution of data values on columns that are not missing data (or are missing very little data) are similar or different between the two groups. Select at least five of these columns and compare the distribution of values.\n",
    "- You can use seaborn's [`countplot()`](https://seaborn.pydata.org/generated/seaborn.countplot.html) function to create a bar chart of code frequencies and matplotlib's [`subplot()`](https://matplotlib.org/api/_as_gen/matplotlib.pyplot.subplot.html) function to put bar charts for the two subplots side by side.\n",
    "- To reduce repeated code, you might want to write a function that can perform this comparison, taking as one of its arguments a column to be compared.\n",
    "\n",
    "Depending on what you observe in your comparison, this will have implications on how you approach your conclusions later in the analysis. If the distributions of non-missing features look similar between the data with many missing values and the data with few or no missing values, then we could argue that simply dropping those points from the analysis won't present a major issue. On the other hand, if the data with many missing values looks very different from the data with few or no missing values, then we should make a note on those data as special. We'll revisit these data later on. **Either way, you should continue your analysis for now using just the subset of the data with few or no missing values.**"
   ]
  },
  {
   "cell_type": "code",
   "execution_count": 33,
   "metadata": {},
   "outputs": [
    {
     "data": {
      "text/plain": [
       "<matplotlib.axes._subplots.AxesSubplot at 0x21995eb2978>"
      ]
     },
     "execution_count": 33,
     "metadata": {},
     "output_type": "execute_result"
    },
    {
     "data": {
      "image/png": "[encoded data removed]",
      "text/plain": [
       "<Figure size 432x288 with 1 Axes>"
      ]
     },
     "metadata": {
      "needs_background": "light"
     },
     "output_type": "display_data"
    }
   ],
   "source": [
    "# How much data is missing in each row of the dataset?\n",
    "missing_rows = azdias.isnull()\n",
    "missing_rows.sum(axis=1).hist(bins=49)"
   ]
  },
  {
   "cell_type": "code",
   "execution_count": 34,
   "metadata": {},
   "outputs": [
    {
     "data": {
      "text/html": [
       "<div>\n",
       "<style scoped>\n",
       "    .dataframe tbody tr th:only-of-type {\n",
       "        vertical-align: middle;\n",
       "    }\n",
       "\n",
       "    .dataframe tbody tr th {\n",
       "        vertical-align: top;\n",
       "    }\n",
       "\n",
       "    .dataframe thead th {\n",
       "        text-align: right;\n",
       "    }\n",
       "</style>\n",
       "<table border=\"1\" class=\"dataframe\">\n",
       "  <thead>\n",
       "    <tr style=\"text-align: right;\">\n",
       "      <th></th>\n",
       "      <th>ALTERSKATEGORIE_GROB</th>\n",
       "      <th>ANREDE_KZ</th>\n",
       "      <th>CJT_GESAMTTYP</th>\n",
       "      <th>FINANZ_MINIMALIST</th>\n",
       "      <th>FINANZ_SPARER</th>\n",
       "      <th>FINANZ_VORSORGER</th>\n",
       "      <th>FINANZ_ANLEGER</th>\n",
       "      <th>FINANZ_UNAUFFAELLIGER</th>\n",
       "      <th>FINANZ_HAUSBAUER</th>\n",
       "      <th>FINANZTYP</th>\n",
       "      <th>...</th>\n",
       "      <th>PLZ8_ANTG2</th>\n",
       "      <th>PLZ8_ANTG3</th>\n",
       "      <th>PLZ8_ANTG4</th>\n",
       "      <th>PLZ8_BAUMAX</th>\n",
       "      <th>PLZ8_HHZ</th>\n",
       "      <th>PLZ8_GBZ</th>\n",
       "      <th>ARBEIT</th>\n",
       "      <th>ORTSGR_KLS9</th>\n",
       "      <th>RELAT_AB</th>\n",
       "      <th>COMPLETE</th>\n",
       "    </tr>\n",
       "  </thead>\n",
       "  <tbody>\n",
       "    <tr>\n",
       "      <th>0</th>\n",
       "      <td>2</td>\n",
       "      <td>1</td>\n",
       "      <td>2</td>\n",
       "      <td>3</td>\n",
       "      <td>4</td>\n",
       "      <td>3</td>\n",
       "      <td>5</td>\n",
       "      <td>5</td>\n",
       "      <td>3</td>\n",
       "      <td>4</td>\n",
       "      <td>...</td>\n",
       "      <td>NaN</td>\n",
       "      <td>NaN</td>\n",
       "      <td>NaN</td>\n",
       "      <td>NaN</td>\n",
       "      <td>NaN</td>\n",
       "      <td>NaN</td>\n",
       "      <td>NaN</td>\n",
       "      <td>NaN</td>\n",
       "      <td>NaN</td>\n",
       "      <td>False</td>\n",
       "    </tr>\n",
       "    <tr>\n",
       "      <th>1</th>\n",
       "      <td>1</td>\n",
       "      <td>2</td>\n",
       "      <td>5</td>\n",
       "      <td>1</td>\n",
       "      <td>5</td>\n",
       "      <td>2</td>\n",
       "      <td>5</td>\n",
       "      <td>4</td>\n",
       "      <td>5</td>\n",
       "      <td>1</td>\n",
       "      <td>...</td>\n",
       "      <td>3</td>\n",
       "      <td>2</td>\n",
       "      <td>1</td>\n",
       "      <td>1</td>\n",
       "      <td>5</td>\n",
       "      <td>4</td>\n",
       "      <td>3</td>\n",
       "      <td>5</td>\n",
       "      <td>4</td>\n",
       "      <td>True</td>\n",
       "    </tr>\n",
       "    <tr>\n",
       "      <th>2</th>\n",
       "      <td>3</td>\n",
       "      <td>2</td>\n",
       "      <td>3</td>\n",
       "      <td>1</td>\n",
       "      <td>4</td>\n",
       "      <td>1</td>\n",
       "      <td>2</td>\n",
       "      <td>3</td>\n",
       "      <td>5</td>\n",
       "      <td>1</td>\n",
       "      <td>...</td>\n",
       "      <td>3</td>\n",
       "      <td>1</td>\n",
       "      <td>0</td>\n",
       "      <td>1</td>\n",
       "      <td>4</td>\n",
       "      <td>4</td>\n",
       "      <td>3</td>\n",
       "      <td>5</td>\n",
       "      <td>2</td>\n",
       "      <td>True</td>\n",
       "    </tr>\n",
       "    <tr>\n",
       "      <th>3</th>\n",
       "      <td>4</td>\n",
       "      <td>2</td>\n",
       "      <td>2</td>\n",
       "      <td>4</td>\n",
       "      <td>2</td>\n",
       "      <td>5</td>\n",
       "      <td>2</td>\n",
       "      <td>1</td>\n",
       "      <td>2</td>\n",
       "      <td>6</td>\n",
       "      <td>...</td>\n",
       "      <td>2</td>\n",
       "      <td>2</td>\n",
       "      <td>0</td>\n",
       "      <td>1</td>\n",
       "      <td>3</td>\n",
       "      <td>4</td>\n",
       "      <td>2</td>\n",
       "      <td>3</td>\n",
       "      <td>3</td>\n",
       "      <td>False</td>\n",
       "    </tr>\n",
       "    <tr>\n",
       "      <th>4</th>\n",
       "      <td>3</td>\n",
       "      <td>1</td>\n",
       "      <td>5</td>\n",
       "      <td>4</td>\n",
       "      <td>3</td>\n",
       "      <td>4</td>\n",
       "      <td>1</td>\n",
       "      <td>3</td>\n",
       "      <td>2</td>\n",
       "      <td>5</td>\n",
       "      <td>...</td>\n",
       "      <td>4</td>\n",
       "      <td>2</td>\n",
       "      <td>1</td>\n",
       "      <td>2</td>\n",
       "      <td>3</td>\n",
       "      <td>3</td>\n",
       "      <td>4</td>\n",
       "      <td>6</td>\n",
       "      <td>5</td>\n",
       "      <td>True</td>\n",
       "    </tr>\n",
       "  </tbody>\n",
       "</table>\n",
       "<p>5 rows × 80 columns</p>\n",
       "</div>"
      ],
      "text/plain": [
       "  ALTERSKATEGORIE_GROB ANREDE_KZ CJT_GESAMTTYP FINANZ_MINIMALIST  \\\n",
       "0                    2         1             2                 3   \n",
       "1                    1         2             5                 1   \n",
       "2                    3         2             3                 1   \n",
       "3                    4         2             2                 4   \n",
       "4                    3         1             5                 4   \n",
       "\n",
       "  FINANZ_SPARER FINANZ_VORSORGER FINANZ_ANLEGER FINANZ_UNAUFFAELLIGER  \\\n",
       "0             4                3              5                     5   \n",
       "1             5                2              5                     4   \n",
       "2             4                1              2                     3   \n",
       "3             2                5              2                     1   \n",
       "4             3                4              1                     3   \n",
       "\n",
       "  FINANZ_HAUSBAUER FINANZTYP  ... PLZ8_ANTG2 PLZ8_ANTG3 PLZ8_ANTG4  \\\n",
       "0                3         4  ...        NaN        NaN        NaN   \n",
       "1                5         1  ...          3          2          1   \n",
       "2                5         1  ...          3          1          0   \n",
       "3                2         6  ...          2          2          0   \n",
       "4                2         5  ...          4          2          1   \n",
       "\n",
       "  PLZ8_BAUMAX PLZ8_HHZ PLZ8_GBZ ARBEIT ORTSGR_KLS9 RELAT_AB COMPLETE  \n",
       "0         NaN      NaN      NaN    NaN         NaN      NaN    False  \n",
       "1           1        5        4      3           5        4     True  \n",
       "2           1        4        4      3           5        2     True  \n",
       "3           1        3        4      2           3        3    False  \n",
       "4           2        3        3      4           6        5     True  \n",
       "\n",
       "[5 rows x 80 columns]"
      ]
     },
     "execution_count": 34,
     "metadata": {},
     "output_type": "execute_result"
    }
   ],
   "source": [
    "# Write code to divide the data into two subsets based on the number of missing\n",
    "# values in each row.\n",
    "azdias['COMPLETE'] = azdias.isnull().sum(axis=1) == 0\n",
    "azdias.head()"
   ]
  },
  {
   "cell_type": "code",
   "execution_count": 35,
   "metadata": {},
   "outputs": [],
   "source": [
    "# function for comparison countplots for a column\n",
    "def facetplot_complete(col):\n",
    "    sns.catplot(x=col, col=\"COMPLETE\",data=azdias, kind=\"count\",height=4, aspect=.7);"
   ]
  },
  {
   "cell_type": "code",
   "execution_count": 36,
   "metadata": {},
   "outputs": [
    {
     "data": {
      "text/plain": [
       "Index(['ANREDE_KZ', 'FINANZ_MINIMALIST', 'FINANZ_SPARER', 'FINANZ_VORSORGER',\n",
       "       'FINANZ_ANLEGER', 'FINANZ_UNAUFFAELLIGER', 'FINANZ_HAUSBAUER',\n",
       "       'FINANZTYP', 'GREEN_AVANTGARDE', 'SEMIO_SOZ', 'SEMIO_FAM', 'SEMIO_REL',\n",
       "       'SEMIO_MAT', 'SEMIO_VERT', 'SEMIO_LUST', 'SEMIO_ERL', 'SEMIO_KULT',\n",
       "       'SEMIO_RAT', 'SEMIO_KRIT', 'SEMIO_DOM', 'SEMIO_KAEM', 'SEMIO_PFLICHT',\n",
       "       'SEMIO_TRADV', 'ZABEOTYP'],\n",
       "      dtype='object')"
      ]
     },
     "execution_count": 36,
     "metadata": {},
     "output_type": "execute_result"
    }
   ],
   "source": [
    "# Compare the distribution of values for at least five columns where there are\n",
    "# no or few missing values, between the two subsets.\n",
    "no_missing_columns=total_missing[total_missing==0].index\n",
    "no_missing_columns"
   ]
  },
  {
   "cell_type": "code",
   "execution_count": 37,
   "metadata": {},
   "outputs": [
    {
     "data": {
      "image/png": "[encoded data removed]",
      "text/plain": [
       "<Figure size 403.2x288 with 2 Axes>"
      ]
     },
     "metadata": {
      "needs_background": "light"
     },
     "output_type": "display_data"
    },
    {
     "data": {
      "image/png": "[encoded data removed]",
      "text/plain": [
       "<Figure size 403.2x288 with 2 Axes>"
      ]
     },
     "metadata": {
      "needs_background": "light"
     },
     "output_type": "display_data"
    },
    {
     "data": {
      "image/png": "[encoded data removed]",
      "text/plain": [
       "<Figure size 403.2x288 with 2 Axes>"
      ]
     },
     "metadata": {
      "needs_background": "light"
     },
     "output_type": "display_data"
    },
    {
     "data": {
      "image/png": "[encoded data removed]",
      "text/plain": [
       "<Figure size 403.2x288 with 2 Axes>"
      ]
     },
     "metadata": {
      "needs_background": "light"
     },
     "output_type": "display_data"
    },
    {
     "data": {
      "image/png": "[encoded data removed]",
      "text/plain": [
       "<Figure size 403.2x288 with 2 Axes>"
      ]
     },
     "metadata": {
      "needs_background": "light"
     },
     "output_type": "display_data"
    }
   ],
   "source": [
    "# Choose five columns for comparison between two subsets of observations\n",
    "plot_columns=pd.Index(['ANREDE_KZ','GREEN_AVANTGARDE','ZABEOTYP','FINANZTYP','SEMIO_TRADV'])\n",
    "\n",
    "for col in plot_columns:\n",
    "    facetplot_complete(col)"
   ]
  },
  {
   "cell_type": "markdown",
   "metadata": {},
   "source": [
    "#### Discussion 1.1.3: Assess Missing Data in Each Row\n",
    "\n",
    "We divided the observations into two subsets: one for data points with no missing values, and a second subset for points with missing values. We have found that, the distributions of three non-missing features (```'ANREDE_KZ','GREEN_AVANTGARDE','ZABEOTYP'```) look similar between the data with many missing values and the data with no missing values. But for other non-missing features the distributions look different. So we are not going to drop any rows from the observations at this point.\n"
   ]
  },
  {
   "cell_type": "markdown",
   "metadata": {},
   "source": [
    "### Step 1.2: Select and Re-Encode Features\n",
    "\n",
    "Checking for missing data isn't the only way in which you can prepare a dataset for analysis. Since the unsupervised learning techniques to be used will only work on data that is encoded numerically, you need to make a few encoding changes or additional assumptions to be able to make progress. In addition, while almost all of the values in the dataset are encoded using numbers, not all of them represent numeric values. Check the third column of the feature summary (`feat_info`) for a summary of types of measurement.\n",
    "- For numeric and interval data, these features can be kept without changes.\n",
    "- Most of the variables in the dataset are ordinal in nature. While ordinal values may technically be non-linear in spacing, make the simplifying assumption that the ordinal variables can be treated as being interval in nature (that is, kept without any changes).\n",
    "- Special handling may be necessary for the remaining two variable types: categorical, and 'mixed'.\n",
    "\n",
    "In the first two parts of this sub-step, you will perform an investigation of the categorical and mixed-type features and make a decision on each of them, whether you will keep, drop, or re-encode each. Then, in the last part, you will create a new data frame with only the selected and engineered columns.\n",
    "\n",
    "Data wrangling is often the trickiest part of the data analysis process, and there's a lot of it to be done here. But stick with it: once you're done with this step, you'll be ready to get to the machine learning parts of the project!"
   ]
  },
  {
   "cell_type": "code",
   "execution_count": 38,
   "metadata": {},
   "outputs": [
    {
     "data": {
      "text/plain": [
       "ordinal        49\n",
       "categorical    18\n",
       "numeric         6\n",
       "mixed           6\n",
       "Name: type, dtype: int64"
      ]
     },
     "execution_count": 38,
     "metadata": {},
     "output_type": "execute_result"
    }
   ],
   "source": [
    "# How many features are there of each data type?\n",
    "feat_info_clean.type.value_counts()"
   ]
  },
  {
   "cell_type": "markdown",
   "metadata": {},
   "source": [
    "#### Step 1.2.1: Re-Encode Categorical Features\n",
    "\n",
    "For categorical data, you would ordinarily need to encode the levels as dummy variables. Depending on the number of categories, perform one of the following:\n",
    "- For binary (two-level) categoricals that take numeric values, you can keep them without needing to do anything.\n",
    "- There is one binary variable that takes on non-numeric values. For this one, you need to re-encode the values as numbers or create a dummy variable.\n",
    "- For multi-level categoricals (three or more values), you can choose to encode the values using multiple dummy variables (e.g. via [OneHotEncoder](http://scikit-learn.org/stable/modules/generated/sklearn.preprocessing.OneHotEncoder.html)), or (to keep things straightforward) just drop them from the analysis. As always, document your choices in the Discussion section."
   ]
  },
  {
   "cell_type": "code",
   "execution_count": 39,
   "metadata": {},
   "outputs": [
    {
     "data": {
      "text/plain": [
       "4    210963\n",
       "3    156449\n",
       "6    153915\n",
       "2    148795\n",
       "5    117376\n",
       "1     98869\n",
       "Name: CJT_GESAMTTYP, dtype: int64"
      ]
     },
     "execution_count": 39,
     "metadata": {},
     "output_type": "execute_result"
    }
   ],
   "source": [
    "azdias['CJT_GESAMTTYP'].value_counts(dropna=True)"
   ]
  },
  {
   "cell_type": "code",
   "execution_count": 40,
   "metadata": {},
   "outputs": [],
   "source": [
    "# Assess categorical variables: which are binary, which are multi-level\n",
    "cat_columns=feat_info_clean[feat_info_clean['type'] == 'categorical'].index\n",
    "binary_cat = []\n",
    "multi_cat = []\n",
    "for column in cat_columns:\n",
    "    if azdias[column].nunique(dropna=True) > 2:\n",
    "        multi_cat.append(column)\n",
    "    else:\n",
    "        binary_cat.append(column)\n"
   ]
  },
  {
   "cell_type": "code",
   "execution_count": 41,
   "metadata": {},
   "outputs": [
    {
     "data": {
      "text/plain": [
       "['ANREDE_KZ', 'GREEN_AVANTGARDE', 'SOHO_KZ', 'VERS_TYP', 'OST_WEST_KZ']"
      ]
     },
     "execution_count": 41,
     "metadata": {},
     "output_type": "execute_result"
    }
   ],
   "source": [
    "# Check binary categorical features\n",
    "binary_cat"
   ]
  },
  {
   "cell_type": "code",
   "execution_count": 42,
   "metadata": {},
   "outputs": [
    {
     "name": "stdout",
     "output_type": "stream",
     "text": [
      "2    465305\n",
      "1    425916\n",
      "Name: ANREDE_KZ, dtype: int64\n",
      "0    715996\n",
      "1    175225\n",
      "Name: GREEN_AVANTGARDE, dtype: int64\n",
      "0    810834\n",
      "1      6888\n",
      "Name: SOHO_KZ, dtype: int64\n",
      "2    398722\n",
      "1    381303\n",
      "Name: VERS_TYP, dtype: int64\n",
      "0    629528\n",
      "1    168545\n",
      "Name: OST_WEST_KZ, dtype: int64\n"
     ]
    }
   ],
   "source": [
    "# Check the different values of the binary variables\n",
    "# 'OST_WEST_KZ' is encoded to numerical values in the earlier pre-processing step\n",
    "for c in binary_cat:\n",
    "    print(azdias[c].value_counts())"
   ]
  },
  {
   "cell_type": "code",
   "execution_count": 43,
   "metadata": {},
   "outputs": [
    {
     "data": {
      "text/plain": [
       "['CJT_GESAMTTYP',\n",
       " 'FINANZTYP',\n",
       " 'GFK_URLAUBERTYP',\n",
       " 'LP_FAMILIE_FEIN',\n",
       " 'LP_FAMILIE_GROB',\n",
       " 'LP_STATUS_FEIN',\n",
       " 'LP_STATUS_GROB',\n",
       " 'NATIONALITAET_KZ',\n",
       " 'SHOPPER_TYP',\n",
       " 'ZABEOTYP',\n",
       " 'GEBAEUDETYP',\n",
       " 'CAMEO_DEUG_2015',\n",
       " 'CAMEO_DEU_2015']"
      ]
     },
     "execution_count": 43,
     "metadata": {},
     "output_type": "execute_result"
    }
   ],
   "source": [
    "# Check the multi-level categorical features\n",
    "multi_cat"
   ]
  },
  {
   "cell_type": "code",
   "execution_count": 45,
   "metadata": {},
   "outputs": [],
   "source": [
    "# Some of the multi-level categorical variables are encoded by dummy variables\n",
    "keep_cat=['CJT_GESAMTTYP', 'LP_FAMILIE_GROB', 'LP_STATUS_GROB', 'NATIONALITAET_KZ', 'SHOPPER_TYP', 'ZABEOTYP']"
   ]
  },
  {
   "cell_type": "code",
   "execution_count": 46,
   "metadata": {},
   "outputs": [],
   "source": [
    "# separte the columns\n",
    "azdias_keep_cat=azdias[keep_cat]"
   ]
  },
  {
   "cell_type": "code",
   "execution_count": 47,
   "metadata": {},
   "outputs": [],
   "source": [
    "# Impute the missing values by the median values\n",
    "imputer = SimpleImputer(strategy='median')\n",
    "imputed_features = imputer.fit_transform(azdias_keep_cat)"
   ]
  },
  {
   "cell_type": "code",
   "execution_count": 48,
   "metadata": {},
   "outputs": [],
   "source": [
    "# Create a dataframe with the imputed values\n",
    "azdias_keep_cat=pd.DataFrame(imputed_features,columns=keep_cat)"
   ]
  },
  {
   "cell_type": "code",
   "execution_count": 49,
   "metadata": {},
   "outputs": [],
   "source": [
    "# Convert to string\n",
    "azdias_dummy=azdias_keep_cat.astype(str)"
   ]
  },
  {
   "cell_type": "code",
   "execution_count": 50,
   "metadata": {},
   "outputs": [],
   "source": [
    "# Create dummy variables for the multi-level variables\n",
    "azdias_dummy=pd.get_dummies(azdias_dummy, columns=keep_cat)"
   ]
  },
  {
   "cell_type": "code",
   "execution_count": 51,
   "metadata": {},
   "outputs": [
    {
     "data": {
      "text/html": [
       "<div>\n",
       "<style scoped>\n",
       "    .dataframe tbody tr th:only-of-type {\n",
       "        vertical-align: middle;\n",
       "    }\n",
       "\n",
       "    .dataframe tbody tr th {\n",
       "        vertical-align: top;\n",
       "    }\n",
       "\n",
       "    .dataframe thead th {\n",
       "        text-align: right;\n",
       "    }\n",
       "</style>\n",
       "<table border=\"1\" class=\"dataframe\">\n",
       "  <thead>\n",
       "    <tr style=\"text-align: right;\">\n",
       "      <th></th>\n",
       "      <th>CJT_GESAMTTYP_1.0</th>\n",
       "      <th>CJT_GESAMTTYP_2.0</th>\n",
       "      <th>CJT_GESAMTTYP_3.0</th>\n",
       "      <th>CJT_GESAMTTYP_4.0</th>\n",
       "      <th>CJT_GESAMTTYP_5.0</th>\n",
       "      <th>CJT_GESAMTTYP_6.0</th>\n",
       "      <th>LP_FAMILIE_GROB_1.0</th>\n",
       "      <th>LP_FAMILIE_GROB_2.0</th>\n",
       "      <th>LP_FAMILIE_GROB_3.0</th>\n",
       "      <th>LP_FAMILIE_GROB_4.0</th>\n",
       "      <th>...</th>\n",
       "      <th>SHOPPER_TYP_0.0</th>\n",
       "      <th>SHOPPER_TYP_1.0</th>\n",
       "      <th>SHOPPER_TYP_2.0</th>\n",
       "      <th>SHOPPER_TYP_3.0</th>\n",
       "      <th>ZABEOTYP_1.0</th>\n",
       "      <th>ZABEOTYP_2.0</th>\n",
       "      <th>ZABEOTYP_3.0</th>\n",
       "      <th>ZABEOTYP_4.0</th>\n",
       "      <th>ZABEOTYP_5.0</th>\n",
       "      <th>ZABEOTYP_6.0</th>\n",
       "    </tr>\n",
       "  </thead>\n",
       "  <tbody>\n",
       "    <tr>\n",
       "      <th>0</th>\n",
       "      <td>0</td>\n",
       "      <td>1</td>\n",
       "      <td>0</td>\n",
       "      <td>0</td>\n",
       "      <td>0</td>\n",
       "      <td>0</td>\n",
       "      <td>0</td>\n",
       "      <td>1</td>\n",
       "      <td>0</td>\n",
       "      <td>0</td>\n",
       "      <td>...</td>\n",
       "      <td>0</td>\n",
       "      <td>0</td>\n",
       "      <td>1</td>\n",
       "      <td>0</td>\n",
       "      <td>0</td>\n",
       "      <td>0</td>\n",
       "      <td>1</td>\n",
       "      <td>0</td>\n",
       "      <td>0</td>\n",
       "      <td>0</td>\n",
       "    </tr>\n",
       "    <tr>\n",
       "      <th>1</th>\n",
       "      <td>0</td>\n",
       "      <td>0</td>\n",
       "      <td>0</td>\n",
       "      <td>0</td>\n",
       "      <td>1</td>\n",
       "      <td>0</td>\n",
       "      <td>0</td>\n",
       "      <td>0</td>\n",
       "      <td>1</td>\n",
       "      <td>0</td>\n",
       "      <td>...</td>\n",
       "      <td>0</td>\n",
       "      <td>0</td>\n",
       "      <td>0</td>\n",
       "      <td>1</td>\n",
       "      <td>0</td>\n",
       "      <td>0</td>\n",
       "      <td>0</td>\n",
       "      <td>0</td>\n",
       "      <td>1</td>\n",
       "      <td>0</td>\n",
       "    </tr>\n",
       "    <tr>\n",
       "      <th>2</th>\n",
       "      <td>0</td>\n",
       "      <td>0</td>\n",
       "      <td>1</td>\n",
       "      <td>0</td>\n",
       "      <td>0</td>\n",
       "      <td>0</td>\n",
       "      <td>1</td>\n",
       "      <td>0</td>\n",
       "      <td>0</td>\n",
       "      <td>0</td>\n",
       "      <td>...</td>\n",
       "      <td>0</td>\n",
       "      <td>0</td>\n",
       "      <td>1</td>\n",
       "      <td>0</td>\n",
       "      <td>0</td>\n",
       "      <td>0</td>\n",
       "      <td>0</td>\n",
       "      <td>0</td>\n",
       "      <td>1</td>\n",
       "      <td>0</td>\n",
       "    </tr>\n",
       "    <tr>\n",
       "      <th>3</th>\n",
       "      <td>0</td>\n",
       "      <td>1</td>\n",
       "      <td>0</td>\n",
       "      <td>0</td>\n",
       "      <td>0</td>\n",
       "      <td>0</td>\n",
       "      <td>1</td>\n",
       "      <td>0</td>\n",
       "      <td>0</td>\n",
       "      <td>0</td>\n",
       "      <td>...</td>\n",
       "      <td>0</td>\n",
       "      <td>1</td>\n",
       "      <td>0</td>\n",
       "      <td>0</td>\n",
       "      <td>0</td>\n",
       "      <td>0</td>\n",
       "      <td>1</td>\n",
       "      <td>0</td>\n",
       "      <td>0</td>\n",
       "      <td>0</td>\n",
       "    </tr>\n",
       "    <tr>\n",
       "      <th>4</th>\n",
       "      <td>0</td>\n",
       "      <td>0</td>\n",
       "      <td>0</td>\n",
       "      <td>0</td>\n",
       "      <td>1</td>\n",
       "      <td>0</td>\n",
       "      <td>0</td>\n",
       "      <td>0</td>\n",
       "      <td>0</td>\n",
       "      <td>0</td>\n",
       "      <td>...</td>\n",
       "      <td>0</td>\n",
       "      <td>0</td>\n",
       "      <td>1</td>\n",
       "      <td>0</td>\n",
       "      <td>0</td>\n",
       "      <td>0</td>\n",
       "      <td>0</td>\n",
       "      <td>1</td>\n",
       "      <td>0</td>\n",
       "      <td>0</td>\n",
       "    </tr>\n",
       "  </tbody>\n",
       "</table>\n",
       "<p>5 rows × 29 columns</p>\n",
       "</div>"
      ],
      "text/plain": [
       "   CJT_GESAMTTYP_1.0  CJT_GESAMTTYP_2.0  CJT_GESAMTTYP_3.0  CJT_GESAMTTYP_4.0  \\\n",
       "0                  0                  1                  0                  0   \n",
       "1                  0                  0                  0                  0   \n",
       "2                  0                  0                  1                  0   \n",
       "3                  0                  1                  0                  0   \n",
       "4                  0                  0                  0                  0   \n",
       "\n",
       "   CJT_GESAMTTYP_5.0  CJT_GESAMTTYP_6.0  LP_FAMILIE_GROB_1.0  \\\n",
       "0                  0                  0                    0   \n",
       "1                  1                  0                    0   \n",
       "2                  0                  0                    1   \n",
       "3                  0                  0                    1   \n",
       "4                  1                  0                    0   \n",
       "\n",
       "   LP_FAMILIE_GROB_2.0  LP_FAMILIE_GROB_3.0  LP_FAMILIE_GROB_4.0  ...  \\\n",
       "0                    1                    0                    0  ...   \n",
       "1                    0                    1                    0  ...   \n",
       "2                    0                    0                    0  ...   \n",
       "3                    0                    0                    0  ...   \n",
       "4                    0                    0                    0  ...   \n",
       "\n",
       "   SHOPPER_TYP_0.0  SHOPPER_TYP_1.0  SHOPPER_TYP_2.0  SHOPPER_TYP_3.0  \\\n",
       "0                0                0                1                0   \n",
       "1                0                0                0                1   \n",
       "2                0                0                1                0   \n",
       "3                0                1                0                0   \n",
       "4                0                0                1                0   \n",
       "\n",
       "   ZABEOTYP_1.0  ZABEOTYP_2.0  ZABEOTYP_3.0  ZABEOTYP_4.0  ZABEOTYP_5.0  \\\n",
       "0             0             0             1             0             0   \n",
       "1             0             0             0             0             1   \n",
       "2             0             0             0             0             1   \n",
       "3             0             0             1             0             0   \n",
       "4             0             0             0             1             0   \n",
       "\n",
       "   ZABEOTYP_6.0  \n",
       "0             0  \n",
       "1             0  \n",
       "2             0  \n",
       "3             0  \n",
       "4             0  \n",
       "\n",
       "[5 rows x 29 columns]"
      ]
     },
     "execution_count": 51,
     "metadata": {},
     "output_type": "execute_result"
    }
   ],
   "source": [
    "azdias_dummy.head()"
   ]
  },
  {
   "cell_type": "code",
   "execution_count": 52,
   "metadata": {},
   "outputs": [
    {
     "data": {
      "text/plain": [
       "(891221, 29)"
      ]
     },
     "execution_count": 52,
     "metadata": {},
     "output_type": "execute_result"
    }
   ],
   "source": [
    "azdias_dummy.shape"
   ]
  },
  {
   "cell_type": "code",
   "execution_count": 53,
   "metadata": {},
   "outputs": [],
   "source": [
    "# Concate the old and new dataframes\n",
    "azdias=pd.concat([azdias,azdias_dummy],axis=1)"
   ]
  },
  {
   "cell_type": "code",
   "execution_count": 54,
   "metadata": {},
   "outputs": [
    {
     "data": {
      "text/plain": [
       "(891221, 109)"
      ]
     },
     "execution_count": 54,
     "metadata": {},
     "output_type": "execute_result"
    }
   ],
   "source": [
    "azdias.shape"
   ]
  },
  {
   "cell_type": "code",
   "execution_count": 55,
   "metadata": {},
   "outputs": [
    {
     "data": {
      "text/plain": [
       "(891221, 96)"
      ]
     },
     "execution_count": 55,
     "metadata": {},
     "output_type": "execute_result"
    }
   ],
   "source": [
    "# Drop the multi-level categorical variables\n",
    "azdias.drop(multi_cat, axis=1, inplace=True)\n",
    "azdias.shape"
   ]
  },
  {
   "cell_type": "code",
   "execution_count": null,
   "metadata": {},
   "outputs": [],
   "source": [
    "feat_info.shape"
   ]
  },
  {
   "cell_type": "code",
   "execution_count": 56,
   "metadata": {},
   "outputs": [
    {
     "data": {
      "text/plain": [
       "(66, 3)"
      ]
     },
     "execution_count": 56,
     "metadata": {},
     "output_type": "execute_result"
    }
   ],
   "source": [
    "# Drop the index from the summary features\n",
    "feat_info_clean.drop(multi_cat,inplace=True)\n",
    "feat_info_clean.shape"
   ]
  },
  {
   "cell_type": "code",
   "execution_count": 57,
   "metadata": {},
   "outputs": [
    {
     "name": "stdout",
     "output_type": "stream",
     "text": [
      "<class 'pandas.core.frame.DataFrame'>\n",
      "RangeIndex: 891221 entries, 0 to 891220\n",
      "Data columns (total 96 columns):\n",
      "ALTERSKATEGORIE_GROB     888340 non-null object\n",
      "ANREDE_KZ                891221 non-null object\n",
      "FINANZ_MINIMALIST        891221 non-null object\n",
      "FINANZ_SPARER            891221 non-null object\n",
      "FINANZ_VORSORGER         891221 non-null object\n",
      "FINANZ_ANLEGER           891221 non-null object\n",
      "FINANZ_UNAUFFAELLIGER    891221 non-null object\n",
      "FINANZ_HAUSBAUER         891221 non-null object\n",
      "GREEN_AVANTGARDE         891221 non-null object\n",
      "HEALTH_TYP               780025 non-null object\n",
      "LP_LEBENSPHASE_FEIN      793589 non-null object\n",
      "LP_LEBENSPHASE_GROB      796649 non-null object\n",
      "PRAEGENDE_JUGENDJAHRE    783057 non-null object\n",
      "RETOURTYP_BK_S           886367 non-null object\n",
      "SEMIO_SOZ                891221 non-null object\n",
      "SEMIO_FAM                891221 non-null object\n",
      "SEMIO_REL                891221 non-null object\n",
      "SEMIO_MAT                891221 non-null object\n",
      "SEMIO_VERT               891221 non-null object\n",
      "SEMIO_LUST               891221 non-null object\n",
      "SEMIO_ERL                891221 non-null object\n",
      "SEMIO_KULT               891221 non-null object\n",
      "SEMIO_RAT                891221 non-null object\n",
      "SEMIO_KRIT               891221 non-null object\n",
      "SEMIO_DOM                891221 non-null object\n",
      "SEMIO_KAEM               891221 non-null object\n",
      "SEMIO_PFLICHT            891221 non-null object\n",
      "SEMIO_TRADV              891221 non-null object\n",
      "SOHO_KZ                  817722 non-null object\n",
      "VERS_TYP                 780025 non-null object\n",
      "ANZ_PERSONEN             817722 non-null object\n",
      "ANZ_TITEL                817722 non-null object\n",
      "HH_EINKOMMEN_SCORE       872873 non-null object\n",
      "W_KEIT_KIND_HH           743233 non-null object\n",
      "WOHNDAUER_2008           817722 non-null object\n",
      "ANZ_HAUSHALTE_AKTIV      791610 non-null object\n",
      "ANZ_HH_TITEL             794213 non-null object\n",
      "KONSUMNAEHE              817252 non-null object\n",
      "MIN_GEBAEUDEJAHR         798073 non-null object\n",
      "OST_WEST_KZ              798073 non-null object\n",
      "WOHNLAGE                 798073 non-null object\n",
      "CAMEO_INTL_2015          791869 non-null object\n",
      "KBA05_ANTG1              757897 non-null object\n",
      "KBA05_ANTG2              757897 non-null object\n",
      "KBA05_ANTG3              757897 non-null object\n",
      "KBA05_ANTG4              757897 non-null object\n",
      "KBA05_GBZ                757897 non-null object\n",
      "BALLRAUM                 797481 non-null object\n",
      "EWDICHTE                 797481 non-null object\n",
      "INNENSTADT               797481 non-null object\n",
      "GEBAEUDETYP_RASTER       798066 non-null object\n",
      "KKK                      733157 non-null object\n",
      "MOBI_REGIO               757897 non-null object\n",
      "ONLINE_AFFINITAET        886367 non-null object\n",
      "REGIOTYP                 733157 non-null object\n",
      "KBA13_ANZAHL_PKW         785421 non-null object\n",
      "PLZ8_ANTG1               774706 non-null object\n",
      "PLZ8_ANTG2               774706 non-null object\n",
      "PLZ8_ANTG3               774706 non-null object\n",
      "PLZ8_ANTG4               774706 non-null object\n",
      "PLZ8_BAUMAX              774706 non-null object\n",
      "PLZ8_HHZ                 774706 non-null object\n",
      "PLZ8_GBZ                 774706 non-null object\n",
      "ARBEIT                   793846 non-null object\n",
      "ORTSGR_KLS9              793947 non-null object\n",
      "RELAT_AB                 793846 non-null object\n",
      "COMPLETE                 891221 non-null bool\n",
      "CJT_GESAMTTYP_1.0        891221 non-null uint8\n",
      "CJT_GESAMTTYP_2.0        891221 non-null uint8\n",
      "CJT_GESAMTTYP_3.0        891221 non-null uint8\n",
      "CJT_GESAMTTYP_4.0        891221 non-null uint8\n",
      "CJT_GESAMTTYP_5.0        891221 non-null uint8\n",
      "CJT_GESAMTTYP_6.0        891221 non-null uint8\n",
      "LP_FAMILIE_GROB_1.0      891221 non-null uint8\n",
      "LP_FAMILIE_GROB_2.0      891221 non-null uint8\n",
      "LP_FAMILIE_GROB_3.0      891221 non-null uint8\n",
      "LP_FAMILIE_GROB_4.0      891221 non-null uint8\n",
      "LP_FAMILIE_GROB_5.0      891221 non-null uint8\n",
      "LP_STATUS_GROB_1.0       891221 non-null uint8\n",
      "LP_STATUS_GROB_2.0       891221 non-null uint8\n",
      "LP_STATUS_GROB_3.0       891221 non-null uint8\n",
      "LP_STATUS_GROB_4.0       891221 non-null uint8\n",
      "LP_STATUS_GROB_5.0       891221 non-null uint8\n",
      "NATIONALITAET_KZ_1.0     891221 non-null uint8\n",
      "NATIONALITAET_KZ_2.0     891221 non-null uint8\n",
      "NATIONALITAET_KZ_3.0     891221 non-null uint8\n",
      "SHOPPER_TYP_0.0          891221 non-null uint8\n",
      "SHOPPER_TYP_1.0          891221 non-null uint8\n",
      "SHOPPER_TYP_2.0          891221 non-null uint8\n",
      "SHOPPER_TYP_3.0          891221 non-null uint8\n",
      "ZABEOTYP_1.0             891221 non-null uint8\n",
      "ZABEOTYP_2.0             891221 non-null uint8\n",
      "ZABEOTYP_3.0             891221 non-null uint8\n",
      "ZABEOTYP_4.0             891221 non-null uint8\n",
      "ZABEOTYP_5.0             891221 non-null uint8\n",
      "ZABEOTYP_6.0             891221 non-null uint8\n",
      "dtypes: bool(1), object(66), uint8(29)\n",
      "memory usage: 474.3+ MB\n"
     ]
    }
   ],
   "source": [
    "azdias.info()"
   ]
  },
  {
   "cell_type": "markdown",
   "metadata": {},
   "source": [
    "#### Discussion 1.2.1: Re-Encode Categorical Features\n",
    "\n",
    "We have decided to keep six multi-level categorical features such as ```'CJT_GESAMTTYP', 'LP_FAMILIE_GROB', 'LP_STATUS_GROB', 'NATIONALITAET_KZ', 'SHOPPER_TYP', 'ZABEOTYP'```. We chose to encode the values using multiple dummy variables. Before we encode them, we have imputed the missing values of these features by their respective median values. the other multi-level catteforical features ``` 'FINANZTYP','GFK_URLAUBERTYP','LP_FAMILIE_FEIN', 'LP_STATUS_FEIN', 'LP_STATUS_GROB', 'GEBAEUDETYP',\n",
    " 'CAMEO_DEUG_2015', 'CAMEO_DEU_2015'``` are not encoded and simply dropped because they have more than eight levels and some of them are captured by other features in the dataset.\n",
    " \n",
    " ```'OST_WEST_KZ'``` binary variable takes on non-numeric values. So it is encoded to numeric values 0 and 1 in an earlier pre-processing step 1.1.1."
   ]
  },
  {
   "cell_type": "markdown",
   "metadata": {},
   "source": [
    "#### Step 1.2.2: Engineer Mixed-Type Features\n",
    "\n",
    "There are a handful of features that are marked as \"mixed\" in the feature summary that require special treatment in order to be included in the analysis. There are two in particular that deserve attention; the handling of the rest are up to your own choices:\n",
    "- \"PRAEGENDE_JUGENDJAHRE\" combines information on three dimensions: generation by decade, movement (mainstream vs. avantgarde), and nation (east vs. west). While there aren't enough levels to disentangle east from west, you should create two new variables to capture the other two dimensions: an interval-type variable for decade, and a binary variable for movement.\n",
    "- \"CAMEO_INTL_2015\" combines information on two axes: wealth and life stage. Break up the two-digit codes by their 'tens'-place and 'ones'-place digits into two new ordinal variables (which, for the purposes of this project, is equivalent to just treating them as their raw numeric values).\n",
    "- If you decide to keep or engineer new features around the other mixed-type features, make sure you note your steps in the Discussion section.\n",
    "\n",
    "Be sure to check `Data_Dictionary.md` for the details needed to finish these tasks."
   ]
  },
  {
   "cell_type": "code",
   "execution_count": 58,
   "metadata": {},
   "outputs": [
    {
     "data": {
      "text/plain": [
       "Index(['LP_LEBENSPHASE_FEIN', 'LP_LEBENSPHASE_GROB', 'PRAEGENDE_JUGENDJAHRE',\n",
       "       'WOHNLAGE', 'CAMEO_INTL_2015', 'PLZ8_BAUMAX'],\n",
       "      dtype='object', name='attribute')"
      ]
     },
     "execution_count": 58,
     "metadata": {},
     "output_type": "execute_result"
    }
   ],
   "source": [
    "mixed_columns=feat_info_clean[feat_info_clean['type'] == 'mixed'].index\n",
    "mixed_columns"
   ]
  },
  {
   "cell_type": "code",
   "execution_count": 59,
   "metadata": {},
   "outputs": [
    {
     "data": {
      "text/plain": [
       "14     188697\n",
       "8      145988\n",
       "NaN    108164\n",
       "5       86416\n",
       "10      85808\n",
       "3       55195\n",
       "15      42547\n",
       "11      35752\n",
       "9       33570\n",
       "6       25652\n",
       "12      24446\n",
       "1       21282\n",
       "4       20451\n",
       "2        7479\n",
       "13       5764\n",
       "7        4010\n",
       "Name: PRAEGENDE_JUGENDJAHRE, dtype: int64"
      ]
     },
     "execution_count": 59,
     "metadata": {},
     "output_type": "execute_result"
    }
   ],
   "source": [
    "# Investigate \"PRAEGENDE_JUGENDJAHRE\" and engineer two new variables.\n",
    "azdias.PRAEGENDE_JUGENDJAHRE.value_counts(dropna=False)"
   ]
  },
  {
   "cell_type": "markdown",
   "metadata": {},
   "source": [
    "### PRAEGENDE_JUGENDJAHRE\n",
    "Dominating movement of person's youth (avantgarde vs. mainstream; east vs. west)\n",
    "- -1: unknown\n",
    "-  0: unknown\n",
    "-  1: 40s - war years (Mainstream, E+W)\n",
    "-  2: 40s - reconstruction years (Avantgarde, E+W)\n",
    "-  3: 50s - economic miracle (Mainstream, E+W)\n",
    "-  4: 50s - milk bar / Individualisation (Avantgarde, E+W)\n",
    "-  5: 60s - economic miracle (Mainstream, E+W)\n",
    "-  6: 60s - generation 68 / student protestors (Avantgarde, W)\n",
    "-  7: 60s - opponents to the building of the Wall (Avantgarde, E)\n",
    "-  8: 70s - family orientation (Mainstream, E+W)\n",
    "-  9: 70s - peace movement (Avantgarde, E+W)\n",
    "- 10: 80s - Generation Golf (Mainstream, W)\n",
    "- 11: 80s - ecological awareness (Avantgarde, W)\n",
    "- 12: 80s - FDJ / communist party youth organisation (Mainstream, E)\n",
    "- 13: 80s - Swords into ploughshares (Avantgarde, E)\n",
    "- 14: 90s - digital media kids (Mainstream, E+W)\n",
    "- 15: 90s - ecological awareness (Avantgarde, E+W)"
   ]
  },
  {
   "cell_type": "code",
   "execution_count": 60,
   "metadata": {},
   "outputs": [],
   "source": [
    "# Map generation \n",
    "generation_dict = {0: [1, 2], 1: [3, 4], 2: [5, 6, 7], 3: [8, 9], 4: [10, 11, 12, 13], 5:[14, 15]}\n",
    "\n",
    "def map_generation(x):\n",
    "    try:\n",
    "        for key, array in generation_dict.items():\n",
    "            if int(x) in array:\n",
    "                return int(key)\n",
    "    except ValueError:\n",
    "        return np.nan\n",
    "    \n",
    "# Map movement \n",
    "mainstream = [1, 3, 5, 8, 10, 12, 14]\n",
    "\n",
    "def map_movement(x):\n",
    "    try:\n",
    "        if int(x) in mainstream:\n",
    "            return int(0)\n",
    "        else:\n",
    "            return int(1)\n",
    "    except ValueError:\n",
    "        return np.nan"
   ]
  },
  {
   "cell_type": "code",
   "execution_count": 61,
   "metadata": {},
   "outputs": [],
   "source": [
    "# Create generation column\n",
    "azdias['PRAEGENDE_JUGENDJAHRE_GENERATION'] = azdias['PRAEGENDE_JUGENDJAHRE'].apply(map_generation)\n",
    "\n",
    "# Create movement column\n",
    "azdias['PRAEGENDE_JUGENDJAHRE_MOVEMENT'] = azdias['PRAEGENDE_JUGENDJAHRE'].apply(map_movement)"
   ]
  },
  {
   "cell_type": "code",
   "execution_count": 62,
   "metadata": {},
   "outputs": [
    {
     "data": {
      "text/plain": [
       "0.0    607832\n",
       "1.0    175225\n",
       "NaN    108164\n",
       "Name: PRAEGENDE_JUGENDJAHRE_MOVEMENT, dtype: int64"
      ]
     },
     "execution_count": 62,
     "metadata": {},
     "output_type": "execute_result"
    }
   ],
   "source": [
    "# Check value count of the new feature\n",
    "azdias['PRAEGENDE_JUGENDJAHRE_MOVEMENT'].value_counts(dropna=False)"
   ]
  },
  {
   "cell_type": "code",
   "execution_count": 63,
   "metadata": {},
   "outputs": [
    {
     "data": {
      "text/plain": [
       "51     133694\n",
       "NaN     99352\n",
       "41      92336\n",
       "24      91158\n",
       "14      62884\n",
       "43      56672\n",
       "54      45391\n",
       "25      39628\n",
       "22      33155\n",
       "23      26750\n",
       "13      26336\n",
       "45      26132\n",
       "55      23955\n",
       "52      20542\n",
       "31      19024\n",
       "34      18524\n",
       "15      16974\n",
       "44      14820\n",
       "12      13249\n",
       "35      10356\n",
       "32      10354\n",
       "33       9935\n",
       "Name: CAMEO_INTL_2015, dtype: int64"
      ]
     },
     "execution_count": 63,
     "metadata": {},
     "output_type": "execute_result"
    }
   ],
   "source": [
    "# Investigate \"CAMEO_INTL_2015\" and engineer two new variables.\n",
    "azdias.CAMEO_INTL_2015.value_counts(dropna=False)"
   ]
  },
  {
   "cell_type": "markdown",
   "metadata": {},
   "source": [
    "###  CAMEO_INTL_2015\n",
    "German CAMEO: Wealth / Life Stage Typology, mapped to international code\n",
    "- -1: unknown\n",
    "- 11: Wealthy Households - Pre-Family Couples & Singles\n",
    "- 12: Wealthy Households - Young Couples With Children\n",
    "- 13: Wealthy Households - Families With School Age Children\n",
    "- 14: Wealthy Households - Older Families &  Mature Couples\n",
    "- 15: Wealthy Households - Elders In Retirement\n",
    "- 21: Prosperous Households - Pre-Family Couples & Singles\n",
    "- 22: Prosperous Households - Young Couples With Children\n",
    "- 23: Prosperous Households - Families With School Age Children\n",
    "- 24: Prosperous Households - Older Families & Mature Couples\n",
    "- 25: Prosperous Households - Elders In Retirement\n",
    "- 31: Comfortable Households - Pre-Family Couples & Singles\n",
    "- 32: Comfortable Households - Young Couples With Children\n",
    "- 33: Comfortable Households - Families With School Age Children\n",
    "- 34: Comfortable Households - Older Families & Mature Couples\n",
    "- 35: Comfortable Households - Elders In Retirement\n",
    "- 41: Less Affluent Households - Pre-Family Couples & Singles\n",
    "- 42: Less Affluent Households - Young Couples With Children\n",
    "- 43: Less Affluent Households - Families With School Age Children\n",
    "- 44: Less Affluent Households - Older Families & Mature Couples\n",
    "- 45: Less Affluent Households - Elders In Retirement\n",
    "- 51: Poorer Households - Pre-Family Couples & Singles\n",
    "- 52: Poorer Households - Young Couples With Children\n",
    "- 53: Poorer Households - Families With School Age Children\n",
    "- 54: Poorer Households - Older Families & Mature Couples\n",
    "- 55: Poorer Households - Elders In Retirement\n",
    "- XX: unknown"
   ]
  },
  {
   "cell_type": "code",
   "execution_count": 64,
   "metadata": {},
   "outputs": [],
   "source": [
    "def map_wealth(x):\n",
    "    try:\n",
    "        w=int(x)//10\n",
    "        return w\n",
    "    except ValueError:\n",
    "        return np.nan\n",
    "    \n",
    "def map_stage(x):\n",
    "    try:\n",
    "        s=int(x)%10\n",
    "        return s\n",
    "    except ValueError:\n",
    "        return np.nan"
   ]
  },
  {
   "cell_type": "code",
   "execution_count": 65,
   "metadata": {},
   "outputs": [],
   "source": [
    "# Create wealth  and life stage columns\n",
    "azdias['CAMEO_INTL_2015_WEALTH'] = azdias['CAMEO_INTL_2015'].apply(map_wealth)\n",
    "\n",
    "azdias['CAMEO_INTL_2015_STAGE'] = azdias['CAMEO_INTL_2015'].apply(map_stage)"
   ]
  },
  {
   "cell_type": "code",
   "execution_count": 66,
   "metadata": {},
   "outputs": [
    {
     "data": {
      "text/plain": [
       "3      249719\n",
       "7      169318\n",
       "4      135973\n",
       "2      100376\n",
       "NaN     93148\n",
       "5       74346\n",
       "1       43918\n",
       "8       17473\n",
       "0        6950\n",
       "Name: WOHNLAGE, dtype: int64"
      ]
     },
     "execution_count": 66,
     "metadata": {},
     "output_type": "execute_result"
    }
   ],
   "source": [
    "# Investigate \"CAMEO_INTL_2015\" and engineer two new variables.\n",
    "azdias.WOHNLAGE.value_counts(dropna=False)"
   ]
  },
  {
   "cell_type": "markdown",
   "metadata": {},
   "source": [
    "###  WOHNLAGE\n",
    "Neighborhood quality (or rural flag)\n",
    "- -1: unknown\n",
    "-  0: no score calculated\n",
    "-  1: very good neighborhood\n",
    "-  2: good neighborhood\n",
    "-  3: average neighborhood\n",
    "-  4: poor neighborhood\n",
    "-  5: very poor neighborhood\n",
    "-  7: rural neighborhood\n",
    "-  8: new building in rural neighborhood\n",
    "\n",
    "level 1,2,3,4,5 looks like an ordinal varible, level 7 and 8 are replaced by nan as the rural information is captured by ```BALLRAUM``` variable"
   ]
  },
  {
   "cell_type": "code",
   "execution_count": 67,
   "metadata": {},
   "outputs": [],
   "source": [
    "neighborhood = [1, 2, 3, 4, 5]\n",
    "\n",
    "def map_neighborhood(x):\n",
    "    try:\n",
    "        if int(x) in neighborhood:\n",
    "            return int(x)\n",
    "        else:\n",
    "            return np.nan\n",
    "    except ValueError:\n",
    "        return np.nan"
   ]
  },
  {
   "cell_type": "code",
   "execution_count": 68,
   "metadata": {},
   "outputs": [],
   "source": [
    "# Create neighborhood column\n",
    "azdias['WOHNLAGE_NEIGHBORHOOD'] = azdias['WOHNLAGE'].apply(map_neighborhood)"
   ]
  },
  {
   "cell_type": "code",
   "execution_count": 69,
   "metadata": {},
   "outputs": [
    {
     "data": {
      "text/plain": [
       "3      249719\n",
       "7      169318\n",
       "4      135973\n",
       "2      100376\n",
       "NaN     93148\n",
       "5       74346\n",
       "1       43918\n",
       "8       17473\n",
       "0        6950\n",
       "Name: WOHNLAGE, dtype: int64"
      ]
     },
     "execution_count": 69,
     "metadata": {},
     "output_type": "execute_result"
    }
   ],
   "source": [
    "# Check value counts of old feature\n",
    "azdias['WOHNLAGE'].value_counts(dropna=False)"
   ]
  },
  {
   "cell_type": "code",
   "execution_count": 70,
   "metadata": {},
   "outputs": [
    {
     "data": {
      "text/plain": [
       "NaN    286889\n",
       "3.0    249719\n",
       "4.0    135973\n",
       "2.0    100376\n",
       "5.0     74346\n",
       "1.0     43918\n",
       "Name: WOHNLAGE_NEIGHBORHOOD, dtype: int64"
      ]
     },
     "execution_count": 70,
     "metadata": {},
     "output_type": "execute_result"
    }
   ],
   "source": [
    "# check value counts of new engineered features\n",
    "azdias['WOHNLAGE_NEIGHBORHOOD'].value_counts(dropna=False)"
   ]
  },
  {
   "cell_type": "code",
   "execution_count": 71,
   "metadata": {},
   "outputs": [
    {
     "data": {
      "text/plain": [
       "(891221, 95)"
      ]
     },
     "execution_count": 71,
     "metadata": {},
     "output_type": "execute_result"
    }
   ],
   "source": [
    "# Drop the mixed variables\n",
    "azdias.drop(mixed_columns, axis=1, inplace=True)\n",
    "azdias.shape"
   ]
  },
  {
   "cell_type": "code",
   "execution_count": 72,
   "metadata": {},
   "outputs": [
    {
     "data": {
      "text/plain": [
       "(60, 3)"
      ]
     },
     "execution_count": 72,
     "metadata": {},
     "output_type": "execute_result"
    }
   ],
   "source": [
    "# Drop index from feature summary\n",
    "feat_info_clean.drop(mixed_columns,inplace=True)\n",
    "feat_info_clean.shape"
   ]
  },
  {
   "cell_type": "markdown",
   "metadata": {},
   "source": [
    "#### Discussion 1.2.2: Engineer Mixed-Type Features\n",
    "\n",
    "Out of the six mixed variables ```'LP_LEBENSPHASE_FEIN', 'LP_LEBENSPHASE_GROB', 'PRAEGENDE_JUGENDJAHRE','WOHNLAGE', 'CAMEO_INTL_2015', 'PLZ8_BAUMAX'``` we have engineered three features ```'PRAEGENDE_JUGENDJAHRE','WOHNLAGE', 'CAMEO_INTL_2015'```. \n",
    "*```\"PRAEGENDE_JUGENDJAHRE\"``` combines information on three dimensions: generation by decade, movement (mainstream vs. avantgarde), and nation (east vs. west). While there aren't enough levels to disentangle east from west, we create two new variables to capture the other two dimensions: an interval-type variable for decade, and a binary variable for movement. *```\"CAMEO_INTL_2015\"``` combines information on two axes: wealth and life stage. Break up the two-digit codes by their 'tens'-place and 'ones'-place digits into two new ordinal variables (which, for the purposes of this project, is equivalent to just treating them as their raw numeric values). *```'WOHNLAGE' ``` combines neighborhood and rural levels. The rural levels are replaced by nan and other levels are used as an ordinal variable. The remaining mised varibales are dropped because they are captured by other features.\n"
   ]
  },
  {
   "cell_type": "markdown",
   "metadata": {},
   "source": [
    "#### Step 1.2.3: Complete Feature Selection\n",
    "\n",
    "In order to finish this step up, you need to make sure that your data frame now only has the columns that you want to keep. To summarize, the dataframe should consist of the following:\n",
    "- All numeric, interval, and ordinal type columns from the original dataset.\n",
    "- Binary categorical features (all numerically-encoded).\n",
    "- Engineered features from other multi-level categorical features and mixed features.\n",
    "\n",
    "Make sure that for any new columns that you have engineered, that you've excluded the original columns from the final dataset. Otherwise, their values will interfere with the analysis later on the project. For example, you should not keep \"PRAEGENDE_JUGENDJAHRE\", since its values won't be useful for the algorithm: only the values derived from it in the engineered features you created should be retained. As a reminder, your data should only be from **the subset with few or no missing values**."
   ]
  },
  {
   "cell_type": "code",
   "execution_count": 73,
   "metadata": {},
   "outputs": [],
   "source": [
    "# Drop the boolean feature\n",
    "azdias.drop(['COMPLETE'],axis=1,inplace=True)"
   ]
  },
  {
   "cell_type": "code",
   "execution_count": 74,
   "metadata": {},
   "outputs": [
    {
     "data": {
      "text/html": [
       "<div>\n",
       "<style scoped>\n",
       "    .dataframe tbody tr th:only-of-type {\n",
       "        vertical-align: middle;\n",
       "    }\n",
       "\n",
       "    .dataframe tbody tr th {\n",
       "        vertical-align: top;\n",
       "    }\n",
       "\n",
       "    .dataframe thead th {\n",
       "        text-align: right;\n",
       "    }\n",
       "</style>\n",
       "<table border=\"1\" class=\"dataframe\">\n",
       "  <thead>\n",
       "    <tr style=\"text-align: right;\">\n",
       "      <th></th>\n",
       "      <th>CJT_GESAMTTYP_1.0</th>\n",
       "      <th>CJT_GESAMTTYP_2.0</th>\n",
       "      <th>CJT_GESAMTTYP_3.0</th>\n",
       "      <th>CJT_GESAMTTYP_4.0</th>\n",
       "      <th>CJT_GESAMTTYP_5.0</th>\n",
       "      <th>CJT_GESAMTTYP_6.0</th>\n",
       "      <th>LP_FAMILIE_GROB_1.0</th>\n",
       "      <th>LP_FAMILIE_GROB_2.0</th>\n",
       "      <th>LP_FAMILIE_GROB_3.0</th>\n",
       "      <th>LP_FAMILIE_GROB_4.0</th>\n",
       "      <th>...</th>\n",
       "      <th>ZABEOTYP_2.0</th>\n",
       "      <th>ZABEOTYP_3.0</th>\n",
       "      <th>ZABEOTYP_4.0</th>\n",
       "      <th>ZABEOTYP_5.0</th>\n",
       "      <th>ZABEOTYP_6.0</th>\n",
       "      <th>PRAEGENDE_JUGENDJAHRE_GENERATION</th>\n",
       "      <th>PRAEGENDE_JUGENDJAHRE_MOVEMENT</th>\n",
       "      <th>CAMEO_INTL_2015_WEALTH</th>\n",
       "      <th>CAMEO_INTL_2015_STAGE</th>\n",
       "      <th>WOHNLAGE_NEIGHBORHOOD</th>\n",
       "    </tr>\n",
       "  </thead>\n",
       "  <tbody>\n",
       "    <tr>\n",
       "      <th>count</th>\n",
       "      <td>891221.000000</td>\n",
       "      <td>891221.000000</td>\n",
       "      <td>891221.000000</td>\n",
       "      <td>891221.000000</td>\n",
       "      <td>891221.000000</td>\n",
       "      <td>891221.000000</td>\n",
       "      <td>891221.000000</td>\n",
       "      <td>891221.000000</td>\n",
       "      <td>891221.000000</td>\n",
       "      <td>891221.000000</td>\n",
       "      <td>...</td>\n",
       "      <td>891221.000000</td>\n",
       "      <td>891221.000000</td>\n",
       "      <td>891221.000000</td>\n",
       "      <td>891221.000000</td>\n",
       "      <td>891221.000000</td>\n",
       "      <td>783057.000000</td>\n",
       "      <td>783057.00000</td>\n",
       "      <td>791869.000000</td>\n",
       "      <td>791869.000000</td>\n",
       "      <td>604332.000000</td>\n",
       "    </tr>\n",
       "    <tr>\n",
       "      <th>mean</th>\n",
       "      <td>0.110937</td>\n",
       "      <td>0.166956</td>\n",
       "      <td>0.175545</td>\n",
       "      <td>0.242159</td>\n",
       "      <td>0.131702</td>\n",
       "      <td>0.172701</td>\n",
       "      <td>0.565708</td>\n",
       "      <td>0.117036</td>\n",
       "      <td>0.032743</td>\n",
       "      <td>0.059227</td>\n",
       "      <td>...</td>\n",
       "      <td>0.037219</td>\n",
       "      <td>0.409444</td>\n",
       "      <td>0.235738</td>\n",
       "      <td>0.095325</td>\n",
       "      <td>0.083563</td>\n",
       "      <td>3.332805</td>\n",
       "      <td>0.22377</td>\n",
       "      <td>3.262098</td>\n",
       "      <td>2.873033</td>\n",
       "      <td>3.159603</td>\n",
       "    </tr>\n",
       "    <tr>\n",
       "      <th>std</th>\n",
       "      <td>0.314054</td>\n",
       "      <td>0.372937</td>\n",
       "      <td>0.380432</td>\n",
       "      <td>0.428390</td>\n",
       "      <td>0.338167</td>\n",
       "      <td>0.377989</td>\n",
       "      <td>0.495664</td>\n",
       "      <td>0.321463</td>\n",
       "      <td>0.177963</td>\n",
       "      <td>0.236048</td>\n",
       "      <td>...</td>\n",
       "      <td>0.189297</td>\n",
       "      <td>0.491731</td>\n",
       "      <td>0.424460</td>\n",
       "      <td>0.293664</td>\n",
       "      <td>0.276731</td>\n",
       "      <td>1.459284</td>\n",
       "      <td>0.41677</td>\n",
       "      <td>1.464494</td>\n",
       "      <td>1.484771</td>\n",
       "      <td>1.071632</td>\n",
       "    </tr>\n",
       "    <tr>\n",
       "      <th>min</th>\n",
       "      <td>0.000000</td>\n",
       "      <td>0.000000</td>\n",
       "      <td>0.000000</td>\n",
       "      <td>0.000000</td>\n",
       "      <td>0.000000</td>\n",
       "      <td>0.000000</td>\n",
       "      <td>0.000000</td>\n",
       "      <td>0.000000</td>\n",
       "      <td>0.000000</td>\n",
       "      <td>0.000000</td>\n",
       "      <td>...</td>\n",
       "      <td>0.000000</td>\n",
       "      <td>0.000000</td>\n",
       "      <td>0.000000</td>\n",
       "      <td>0.000000</td>\n",
       "      <td>0.000000</td>\n",
       "      <td>0.000000</td>\n",
       "      <td>0.00000</td>\n",
       "      <td>1.000000</td>\n",
       "      <td>1.000000</td>\n",
       "      <td>1.000000</td>\n",
       "    </tr>\n",
       "    <tr>\n",
       "      <th>25%</th>\n",
       "      <td>0.000000</td>\n",
       "      <td>0.000000</td>\n",
       "      <td>0.000000</td>\n",
       "      <td>0.000000</td>\n",
       "      <td>0.000000</td>\n",
       "      <td>0.000000</td>\n",
       "      <td>0.000000</td>\n",
       "      <td>0.000000</td>\n",
       "      <td>0.000000</td>\n",
       "      <td>0.000000</td>\n",
       "      <td>...</td>\n",
       "      <td>0.000000</td>\n",
       "      <td>0.000000</td>\n",
       "      <td>0.000000</td>\n",
       "      <td>0.000000</td>\n",
       "      <td>0.000000</td>\n",
       "      <td>2.000000</td>\n",
       "      <td>0.00000</td>\n",
       "      <td>2.000000</td>\n",
       "      <td>1.000000</td>\n",
       "      <td>3.000000</td>\n",
       "    </tr>\n",
       "    <tr>\n",
       "      <th>50%</th>\n",
       "      <td>0.000000</td>\n",
       "      <td>0.000000</td>\n",
       "      <td>0.000000</td>\n",
       "      <td>0.000000</td>\n",
       "      <td>0.000000</td>\n",
       "      <td>0.000000</td>\n",
       "      <td>1.000000</td>\n",
       "      <td>0.000000</td>\n",
       "      <td>0.000000</td>\n",
       "      <td>0.000000</td>\n",
       "      <td>...</td>\n",
       "      <td>0.000000</td>\n",
       "      <td>0.000000</td>\n",
       "      <td>0.000000</td>\n",
       "      <td>0.000000</td>\n",
       "      <td>0.000000</td>\n",
       "      <td>3.000000</td>\n",
       "      <td>0.00000</td>\n",
       "      <td>4.000000</td>\n",
       "      <td>3.000000</td>\n",
       "      <td>3.000000</td>\n",
       "    </tr>\n",
       "    <tr>\n",
       "      <th>75%</th>\n",
       "      <td>0.000000</td>\n",
       "      <td>0.000000</td>\n",
       "      <td>0.000000</td>\n",
       "      <td>0.000000</td>\n",
       "      <td>0.000000</td>\n",
       "      <td>0.000000</td>\n",
       "      <td>1.000000</td>\n",
       "      <td>0.000000</td>\n",
       "      <td>0.000000</td>\n",
       "      <td>0.000000</td>\n",
       "      <td>...</td>\n",
       "      <td>0.000000</td>\n",
       "      <td>1.000000</td>\n",
       "      <td>0.000000</td>\n",
       "      <td>0.000000</td>\n",
       "      <td>0.000000</td>\n",
       "      <td>5.000000</td>\n",
       "      <td>0.00000</td>\n",
       "      <td>5.000000</td>\n",
       "      <td>4.000000</td>\n",
       "      <td>4.000000</td>\n",
       "    </tr>\n",
       "    <tr>\n",
       "      <th>max</th>\n",
       "      <td>1.000000</td>\n",
       "      <td>1.000000</td>\n",
       "      <td>1.000000</td>\n",
       "      <td>1.000000</td>\n",
       "      <td>1.000000</td>\n",
       "      <td>1.000000</td>\n",
       "      <td>1.000000</td>\n",
       "      <td>1.000000</td>\n",
       "      <td>1.000000</td>\n",
       "      <td>1.000000</td>\n",
       "      <td>...</td>\n",
       "      <td>1.000000</td>\n",
       "      <td>1.000000</td>\n",
       "      <td>1.000000</td>\n",
       "      <td>1.000000</td>\n",
       "      <td>1.000000</td>\n",
       "      <td>5.000000</td>\n",
       "      <td>1.00000</td>\n",
       "      <td>5.000000</td>\n",
       "      <td>5.000000</td>\n",
       "      <td>5.000000</td>\n",
       "    </tr>\n",
       "  </tbody>\n",
       "</table>\n",
       "<p>8 rows × 34 columns</p>\n",
       "</div>"
      ],
      "text/plain": [
       "       CJT_GESAMTTYP_1.0  CJT_GESAMTTYP_2.0  CJT_GESAMTTYP_3.0  \\\n",
       "count      891221.000000      891221.000000      891221.000000   \n",
       "mean            0.110937           0.166956           0.175545   \n",
       "std             0.314054           0.372937           0.380432   \n",
       "min             0.000000           0.000000           0.000000   \n",
       "25%             0.000000           0.000000           0.000000   \n",
       "50%             0.000000           0.000000           0.000000   \n",
       "75%             0.000000           0.000000           0.000000   \n",
       "max             1.000000           1.000000           1.000000   \n",
       "\n",
       "       CJT_GESAMTTYP_4.0  CJT_GESAMTTYP_5.0  CJT_GESAMTTYP_6.0  \\\n",
       "count      891221.000000      891221.000000      891221.000000   \n",
       "mean            0.242159           0.131702           0.172701   \n",
       "std             0.428390           0.338167           0.377989   \n",
       "min             0.000000           0.000000           0.000000   \n",
       "25%             0.000000           0.000000           0.000000   \n",
       "50%             0.000000           0.000000           0.000000   \n",
       "75%             0.000000           0.000000           0.000000   \n",
       "max             1.000000           1.000000           1.000000   \n",
       "\n",
       "       LP_FAMILIE_GROB_1.0  LP_FAMILIE_GROB_2.0  LP_FAMILIE_GROB_3.0  \\\n",
       "count        891221.000000        891221.000000        891221.000000   \n",
       "mean              0.565708             0.117036             0.032743   \n",
       "std               0.495664             0.321463             0.177963   \n",
       "min               0.000000             0.000000             0.000000   \n",
       "25%               0.000000             0.000000             0.000000   \n",
       "50%               1.000000             0.000000             0.000000   \n",
       "75%               1.000000             0.000000             0.000000   \n",
       "max               1.000000             1.000000             1.000000   \n",
       "\n",
       "       LP_FAMILIE_GROB_4.0  ...   ZABEOTYP_2.0   ZABEOTYP_3.0   ZABEOTYP_4.0  \\\n",
       "count        891221.000000  ...  891221.000000  891221.000000  891221.000000   \n",
       "mean              0.059227  ...       0.037219       0.409444       0.235738   \n",
       "std               0.236048  ...       0.189297       0.491731       0.424460   \n",
       "min               0.000000  ...       0.000000       0.000000       0.000000   \n",
       "25%               0.000000  ...       0.000000       0.000000       0.000000   \n",
       "50%               0.000000  ...       0.000000       0.000000       0.000000   \n",
       "75%               0.000000  ...       0.000000       1.000000       0.000000   \n",
       "max               1.000000  ...       1.000000       1.000000       1.000000   \n",
       "\n",
       "        ZABEOTYP_5.0   ZABEOTYP_6.0  PRAEGENDE_JUGENDJAHRE_GENERATION  \\\n",
       "count  891221.000000  891221.000000                     783057.000000   \n",
       "mean        0.095325       0.083563                          3.332805   \n",
       "std         0.293664       0.276731                          1.459284   \n",
       "min         0.000000       0.000000                          0.000000   \n",
       "25%         0.000000       0.000000                          2.000000   \n",
       "50%         0.000000       0.000000                          3.000000   \n",
       "75%         0.000000       0.000000                          5.000000   \n",
       "max         1.000000       1.000000                          5.000000   \n",
       "\n",
       "       PRAEGENDE_JUGENDJAHRE_MOVEMENT  CAMEO_INTL_2015_WEALTH  \\\n",
       "count                    783057.00000           791869.000000   \n",
       "mean                          0.22377                3.262098   \n",
       "std                           0.41677                1.464494   \n",
       "min                           0.00000                1.000000   \n",
       "25%                           0.00000                2.000000   \n",
       "50%                           0.00000                4.000000   \n",
       "75%                           0.00000                5.000000   \n",
       "max                           1.00000                5.000000   \n",
       "\n",
       "       CAMEO_INTL_2015_STAGE  WOHNLAGE_NEIGHBORHOOD  \n",
       "count          791869.000000          604332.000000  \n",
       "mean                2.873033               3.159603  \n",
       "std                 1.484771               1.071632  \n",
       "min                 1.000000               1.000000  \n",
       "25%                 1.000000               3.000000  \n",
       "50%                 3.000000               3.000000  \n",
       "75%                 4.000000               4.000000  \n",
       "max                 5.000000               5.000000  \n",
       "\n",
       "[8 rows x 34 columns]"
      ]
     },
     "execution_count": 74,
     "metadata": {},
     "output_type": "execute_result"
    }
   ],
   "source": [
    "# Check that columns have the right type\n",
    "azdias.describe()"
   ]
  },
  {
   "cell_type": "code",
   "execution_count": 75,
   "metadata": {},
   "outputs": [
    {
     "name": "stdout",
     "output_type": "stream",
     "text": [
      "<class 'pandas.core.frame.DataFrame'>\n",
      "RangeIndex: 891221 entries, 0 to 891220\n",
      "Data columns (total 94 columns):\n",
      "ALTERSKATEGORIE_GROB                888340 non-null object\n",
      "ANREDE_KZ                           891221 non-null object\n",
      "FINANZ_MINIMALIST                   891221 non-null object\n",
      "FINANZ_SPARER                       891221 non-null object\n",
      "FINANZ_VORSORGER                    891221 non-null object\n",
      "FINANZ_ANLEGER                      891221 non-null object\n",
      "FINANZ_UNAUFFAELLIGER               891221 non-null object\n",
      "FINANZ_HAUSBAUER                    891221 non-null object\n",
      "GREEN_AVANTGARDE                    891221 non-null object\n",
      "HEALTH_TYP                          780025 non-null object\n",
      "RETOURTYP_BK_S                      886367 non-null object\n",
      "SEMIO_SOZ                           891221 non-null object\n",
      "SEMIO_FAM                           891221 non-null object\n",
      "SEMIO_REL                           891221 non-null object\n",
      "SEMIO_MAT                           891221 non-null object\n",
      "SEMIO_VERT                          891221 non-null object\n",
      "SEMIO_LUST                          891221 non-null object\n",
      "SEMIO_ERL                           891221 non-null object\n",
      "SEMIO_KULT                          891221 non-null object\n",
      "SEMIO_RAT                           891221 non-null object\n",
      "SEMIO_KRIT                          891221 non-null object\n",
      "SEMIO_DOM                           891221 non-null object\n",
      "SEMIO_KAEM                          891221 non-null object\n",
      "SEMIO_PFLICHT                       891221 non-null object\n",
      "SEMIO_TRADV                         891221 non-null object\n",
      "SOHO_KZ                             817722 non-null object\n",
      "VERS_TYP                            780025 non-null object\n",
      "ANZ_PERSONEN                        817722 non-null object\n",
      "ANZ_TITEL                           817722 non-null object\n",
      "HH_EINKOMMEN_SCORE                  872873 non-null object\n",
      "W_KEIT_KIND_HH                      743233 non-null object\n",
      "WOHNDAUER_2008                      817722 non-null object\n",
      "ANZ_HAUSHALTE_AKTIV                 791610 non-null object\n",
      "ANZ_HH_TITEL                        794213 non-null object\n",
      "KONSUMNAEHE                         817252 non-null object\n",
      "MIN_GEBAEUDEJAHR                    798073 non-null object\n",
      "OST_WEST_KZ                         798073 non-null object\n",
      "KBA05_ANTG1                         757897 non-null object\n",
      "KBA05_ANTG2                         757897 non-null object\n",
      "KBA05_ANTG3                         757897 non-null object\n",
      "KBA05_ANTG4                         757897 non-null object\n",
      "KBA05_GBZ                           757897 non-null object\n",
      "BALLRAUM                            797481 non-null object\n",
      "EWDICHTE                            797481 non-null object\n",
      "INNENSTADT                          797481 non-null object\n",
      "GEBAEUDETYP_RASTER                  798066 non-null object\n",
      "KKK                                 733157 non-null object\n",
      "MOBI_REGIO                          757897 non-null object\n",
      "ONLINE_AFFINITAET                   886367 non-null object\n",
      "REGIOTYP                            733157 non-null object\n",
      "KBA13_ANZAHL_PKW                    785421 non-null object\n",
      "PLZ8_ANTG1                          774706 non-null object\n",
      "PLZ8_ANTG2                          774706 non-null object\n",
      "PLZ8_ANTG3                          774706 non-null object\n",
      "PLZ8_ANTG4                          774706 non-null object\n",
      "PLZ8_HHZ                            774706 non-null object\n",
      "PLZ8_GBZ                            774706 non-null object\n",
      "ARBEIT                              793846 non-null object\n",
      "ORTSGR_KLS9                         793947 non-null object\n",
      "RELAT_AB                            793846 non-null object\n",
      "CJT_GESAMTTYP_1.0                   891221 non-null uint8\n",
      "CJT_GESAMTTYP_2.0                   891221 non-null uint8\n",
      "CJT_GESAMTTYP_3.0                   891221 non-null uint8\n",
      "CJT_GESAMTTYP_4.0                   891221 non-null uint8\n",
      "CJT_GESAMTTYP_5.0                   891221 non-null uint8\n",
      "CJT_GESAMTTYP_6.0                   891221 non-null uint8\n",
      "LP_FAMILIE_GROB_1.0                 891221 non-null uint8\n",
      "LP_FAMILIE_GROB_2.0                 891221 non-null uint8\n",
      "LP_FAMILIE_GROB_3.0                 891221 non-null uint8\n",
      "LP_FAMILIE_GROB_4.0                 891221 non-null uint8\n",
      "LP_FAMILIE_GROB_5.0                 891221 non-null uint8\n",
      "LP_STATUS_GROB_1.0                  891221 non-null uint8\n",
      "LP_STATUS_GROB_2.0                  891221 non-null uint8\n",
      "LP_STATUS_GROB_3.0                  891221 non-null uint8\n",
      "LP_STATUS_GROB_4.0                  891221 non-null uint8\n",
      "LP_STATUS_GROB_5.0                  891221 non-null uint8\n",
      "NATIONALITAET_KZ_1.0                891221 non-null uint8\n",
      "NATIONALITAET_KZ_2.0                891221 non-null uint8\n",
      "NATIONALITAET_KZ_3.0                891221 non-null uint8\n",
      "SHOPPER_TYP_0.0                     891221 non-null uint8\n",
      "SHOPPER_TYP_1.0                     891221 non-null uint8\n",
      "SHOPPER_TYP_2.0                     891221 non-null uint8\n",
      "SHOPPER_TYP_3.0                     891221 non-null uint8\n",
      "ZABEOTYP_1.0                        891221 non-null uint8\n",
      "ZABEOTYP_2.0                        891221 non-null uint8\n",
      "ZABEOTYP_3.0                        891221 non-null uint8\n",
      "ZABEOTYP_4.0                        891221 non-null uint8\n",
      "ZABEOTYP_5.0                        891221 non-null uint8\n",
      "ZABEOTYP_6.0                        891221 non-null uint8\n",
      "PRAEGENDE_JUGENDJAHRE_GENERATION    783057 non-null float64\n",
      "PRAEGENDE_JUGENDJAHRE_MOVEMENT      783057 non-null float64\n",
      "CAMEO_INTL_2015_WEALTH              791869 non-null float64\n",
      "CAMEO_INTL_2015_STAGE               791869 non-null float64\n",
      "WOHNLAGE_NEIGHBORHOOD               604332 non-null float64\n",
      "dtypes: float64(5), object(60), uint8(29)\n",
      "memory usage: 466.6+ MB\n"
     ]
    }
   ],
   "source": [
    "azdias.info()"
   ]
  },
  {
   "cell_type": "markdown",
   "metadata": {},
   "source": [
    "### Step 1.3: Create a Cleaning Function\n",
    "\n",
    "Even though you've finished cleaning up the general population demographics data, it's important to look ahead to the future and realize that you'll need to perform the same cleaning steps on the customer demographics data. In this substep, complete the function below to execute the main feature selection, encoding, and re-engineering steps you performed above. Then, when it comes to looking at the customer data in Step 3, you can just run this function on that DataFrame to get the trimmed dataset in a single step."
   ]
  },
  {
   "cell_type": "code",
   "execution_count": 76,
   "metadata": {},
   "outputs": [],
   "source": [
    "def clean_data(df):\n",
    "    \"\"\"\n",
    "    Perform feature trimming, re-encoding, and engineering for demographics\n",
    "    data\n",
    "    \n",
    "    INPUT: Demographics DataFrame\n",
    "    OUTPUT: Trimmed and cleaned demographics DataFrame\n",
    "    \"\"\"\n",
    "    \n",
    "    # Put in code here to execute all main cleaning steps:\n",
    "    # convert missing value codes into NaNs, ...\n",
    "    ost_west_dict = {'OST_WEST_KZ': {'W':0, 'O':1}}\n",
    "    df = df.replace(ost_west_dict)\n",
    "    cameo_deu_dict = {'CAMEO_DEU_2015': {'1A':0, '1B':1,'1C':2,'1D':3,'1E':4,'2A':5,'2B':6,'2C':7,'2D':8,'3A':9,'3B':10,'3C':11,'3D':12,'4A':13,'4B':14,'4C':15,'4D':16,'4E':17,'5A':18,'5B':19,'5C':20,'5D':21, \\\n",
    "                                        '5E':22,'5F':23,'6A':24,'6B':25,'6C':26,'6D':27,'6E':28,'6F':29,'7A':30,'7B':31,'7C':32,'7D':33,'7E':34,'8A':35,'8B':36,'8C':37,'8D':38,'9A':39,'9B':40,'9C':41,'9D':42,'9E':43,'XX':-1}}\n",
    "    df = df.replace(cameo_deu_dict)\n",
    "    df = df.applymap(str)\n",
    "    col_names=df.columns\n",
    "    for col_name in col_names:\n",
    "        df[col_name].replace('nan', feat_info.loc[col_name,'missing_or_unknown'][0], inplace=True)\n",
    "    df['CAMEO_DEUG_2015'].replace('X', feat_info.loc[col_name,'missing_or_unknown'][0], inplace=True)\n",
    "\n",
    "    df['CAMEO_INTL_2015'].replace('XX', feat_info.loc[col_name,'missing_or_unknown'][0], inplace=True)\n",
    "    df=df.applymap(convert_int)\n",
    "    df=df.applymap(str)\n",
    "    for col_name in col_names:\n",
    "        df[col_name].replace(feat_info.loc[col_name].missing_or_unknown, np.nan, inplace=True)\n",
    "        df[col_name].replace('nan', np.nan, inplace=True)\n",
    "    \n",
    "    \n",
    "    # remove selected columns and rows, ...\n",
    "    df.drop(missing_outliers, axis=1, inplace=True)\n",
    "    \n",
    "    # select, re-encode, and engineer column values.\n",
    "    df_keep_cat=df[keep_cat]\n",
    "    imputer = SimpleImputer(strategy='median')\n",
    "    imputed_features = imputer.fit_transform(df_keep_cat)\n",
    "    df_keep_cat=pd.DataFrame(imputed_features,columns=keep_cat)\n",
    "    df_dummy=df_keep_cat.astype(str)\n",
    "    df_dummy=pd.get_dummies(df_dummy, columns=keep_cat)\n",
    "    df=pd.concat([df,df_dummy],axis=1)\n",
    "    df.drop(multi_cat, axis=1, inplace=True)\n",
    "    df['PRAEGENDE_JUGENDJAHRE_GENERATION'] = df['PRAEGENDE_JUGENDJAHRE'].apply(map_generation)\n",
    "    df['PRAEGENDE_JUGENDJAHRE_MOVEMENT'] = df['PRAEGENDE_JUGENDJAHRE'].apply(map_movement)\n",
    "    df['CAMEO_INTL_2015_WEALTH'] = df['CAMEO_INTL_2015'].apply(map_wealth)\n",
    "    df['CAMEO_INTL_2015_STAGE'] = df['CAMEO_INTL_2015'].apply(map_stage)\n",
    "    df['WOHNLAGE_NEIGHBORHOOD'] = df['WOHNLAGE'].apply(map_neighborhood)\n",
    "    \n",
    "    # Return the cleaned dataframe.\n",
    "    df.drop(mixed_columns, axis=1, inplace=True)\n",
    "    return df\n",
    "    "
   ]
  },
  {
   "cell_type": "markdown",
   "metadata": {},
   "source": [
    "## Step 2: Feature Transformation\n",
    "\n",
    "### Step 2.1: Apply Feature Scaling\n",
    "\n",
    "Before we apply dimensionality reduction techniques to the data, we need to perform feature scaling so that the principal component vectors are not influenced by the natural differences in scale for features. Starting from this part of the project, you'll want to keep an eye on the [API reference page for sklearn](http://scikit-learn.org/stable/modules/classes.html) to help you navigate to all of the classes and functions that you'll need. In this substep, you'll need to check the following:\n",
    "\n",
    "- sklearn requires that data not have missing values in order for its estimators to work properly. So, before applying the scaler to your data, make sure that you've cleaned the DataFrame of the remaining missing values. This can be as simple as just removing all data points with missing data, or applying an [Imputer](http://scikit-learn.org/stable/modules/generated/sklearn.preprocessing.Imputer.html) to replace all missing values. You might also try a more complicated procedure where you temporarily remove missing values in order to compute the scaling parameters before re-introducing those missing values and applying imputation. Think about how much missing data you have and what possible effects each approach might have on your analysis, and justify your decision in the discussion section below.\n",
    "- For the actual scaling function, a [StandardScaler](http://scikit-learn.org/stable/modules/generated/sklearn.preprocessing.StandardScaler.html) instance is suggested, scaling each feature to mean 0 and standard deviation 1.\n",
    "- For these classes, you can make use of the `.fit_transform()` method to both fit a procedure to the data as well as apply the transformation to the data at the same time. Don't forget to keep the fit sklearn objects handy, since you'll be applying them to the customer demographics data towards the end of the project."
   ]
  },
  {
   "cell_type": "code",
   "execution_count": 77,
   "metadata": {},
   "outputs": [],
   "source": [
    "# Column names\n",
    "col_names=azdias.columns"
   ]
  },
  {
   "cell_type": "code",
   "execution_count": 78,
   "metadata": {},
   "outputs": [],
   "source": [
    "# Copy the dataset\n",
    "features = azdias.copy()\n",
    "\n",
    "# Impute nans\n",
    "imputer = SimpleImputer(strategy='median')\n",
    "imputed_features = imputer.fit_transform(features)"
   ]
  },
  {
   "cell_type": "code",
   "execution_count": 79,
   "metadata": {},
   "outputs": [],
   "source": [
    "# Apply feature scaling to the general population demographics data.\n",
    "scaler = StandardScaler()\n",
    "standardized_features = scaler.fit_transform(imputed_features)"
   ]
  },
  {
   "cell_type": "code",
   "execution_count": 80,
   "metadata": {},
   "outputs": [
    {
     "data": {
      "text/plain": [
       "array([[2., 1., 3., ..., 4., 3., 3.],\n",
       "       [1., 2., 1., ..., 5., 1., 4.],\n",
       "       [3., 2., 1., ..., 2., 4., 2.],\n",
       "       ...,\n",
       "       [2., 2., 2., ..., 2., 4., 3.],\n",
       "       [1., 1., 1., ..., 5., 1., 5.],\n",
       "       [4., 1., 4., ..., 4., 3., 4.]])"
      ]
     },
     "execution_count": 80,
     "metadata": {},
     "output_type": "execute_result"
    }
   ],
   "source": [
    "imputed_features"
   ]
  },
  {
   "cell_type": "markdown",
   "metadata": {},
   "source": [
    "### Discussion 2.1: Apply Feature Scaling\n",
    "\n",
    "We have replaced the missing values by imputing them with the median value of the column. For the actual scaling function, a StandardScaler instance is used, scaling each feature to mean 0 and standard deviation 1."
   ]
  },
  {
   "cell_type": "markdown",
   "metadata": {},
   "source": [
    "### Step 2.2: Perform Dimensionality Reduction\n",
    "\n",
    "On your scaled data, you are now ready to apply dimensionality reduction techniques.\n",
    "\n",
    "- Use sklearn's [PCA](http://scikit-learn.org/stable/modules/generated/sklearn.decomposition.PCA.html) class to apply principal component analysis on the data, thus finding the vectors of maximal variance in the data. To start, you should not set any parameters (so all components are computed) or set a number of components that is at least half the number of features (so there's enough features to see the general trend in variability).\n",
    "- Check out the ratio of variance explained by each principal component as well as the cumulative variance explained. Try plotting the cumulative or sequential values using matplotlib's [`plot()`](https://matplotlib.org/api/_as_gen/matplotlib.pyplot.plot.html) function. Based on what you find, select a value for the number of transformed features you'll retain for the clustering part of the project.\n",
    "- Once you've made a choice for the number of components to keep, make sure you re-fit a PCA instance to perform the decided-on transformation."
   ]
  },
  {
   "cell_type": "code",
   "execution_count": 81,
   "metadata": {},
   "outputs": [],
   "source": [
    "# Apply PCA to the data.\n",
    "pca = PCA(0.9)\n",
    "pca_features = pca.fit_transform(standardized_features)"
   ]
  },
  {
   "cell_type": "code",
   "execution_count": 82,
   "metadata": {},
   "outputs": [],
   "source": [
    "# Investigate the variance accounted for by each principal component.\n",
    "# Define scree plot function\n",
    "def scree_plot(pca):\n",
    "    '''\n",
    "    Creates a scree plot associated with the principal components \n",
    "    \n",
    "    INPUT: pca - the result of instantian of PCA in scikit learn\n",
    "            \n",
    "    OUTPUT:\n",
    "            None\n",
    "    '''\n",
    "    num_components=len(pca.explained_variance_ratio_)\n",
    "    ind = np.arange(num_components)\n",
    "    vals = pca.explained_variance_ratio_\n",
    " \n",
    "    plt.figure(figsize=(18, 6))\n",
    "    ax = plt.subplot(111)\n",
    "    cumvals = np.cumsum(vals)\n",
    "    ax.bar(ind, vals)\n",
    "    ax.plot(ind, cumvals)\n",
    "    for i in range(num_components):\n",
    "        ax.annotate(r\"%s\" % ((str(vals[i]*100)[:3])), (ind[i], vals[i]), va=\"bottom\", ha=\"center\", fontsize=4.5)\n",
    " \n",
    "    ax.xaxis.set_tick_params(width=0)\n",
    "    ax.yaxis.set_tick_params(width=2, length=12)\n",
    " \n",
    "    ax.set_xlabel(\"Principal Component\")\n",
    "    ax.set_ylabel(\"Variance Explained (%)\")\n",
    "    plt.title('Explained Variance Per Principal Component')\n"
   ]
  },
  {
   "cell_type": "code",
   "execution_count": 83,
   "metadata": {},
   "outputs": [
    {
     "data": {
      "image/png": "[encoded data removed]",
      "text/plain": [
       "<Figure size 1296x432 with 1 Axes>"
      ]
     },
     "metadata": {
      "needs_background": "light"
     },
     "output_type": "display_data"
    }
   ],
   "source": [
    "scree_plot(pca)"
   ]
  },
  {
   "cell_type": "code",
   "execution_count": 84,
   "metadata": {},
   "outputs": [
    {
     "data": {
      "text/plain": [
       "49"
      ]
     },
     "execution_count": 84,
     "metadata": {},
     "output_type": "execute_result"
    }
   ],
   "source": [
    "num_components=len(pca.explained_variance_ratio_)\n",
    "num_components"
   ]
  },
  {
   "cell_type": "markdown",
   "metadata": {},
   "source": [
    "### Discussion 2.2: Perform Dimensionality Reduction\n",
    "\n",
    "We have reduced the dimension of features from 94 to 49 by using PCA. 90% of the variace is conserved in this dimensionality reduction step."
   ]
  },
  {
   "cell_type": "markdown",
   "metadata": {},
   "source": [
    "### Step 2.3: Interpret Principal Components\n",
    "\n",
    "Now that we have our transformed principal components, it's a nice idea to check out the weight of each variable on the first few components to see if they can be interpreted in some fashion.\n",
    "\n",
    "As a reminder, each principal component is a unit vector that points in the direction of highest variance (after accounting for the variance captured by earlier principal components). The further a weight is from zero, the more the principal component is in the direction of the corresponding feature. If two features have large weights of the same sign (both positive or both negative), then increases in one tend expect to be associated with increases in the other. To contrast, features with different signs can be expected to show a negative correlation: increases in one variable should result in a decrease in the other.\n",
    "\n",
    "- To investigate the features, you should map each weight to their corresponding feature name, then sort the features according to weight. The most interesting features for each principal component, then, will be those at the beginning and end of the sorted list. Use the data dictionary document to help you understand these most prominent features, their relationships, and what a positive or negative value on the principal component might indicate.\n",
    "- You should investigate and interpret feature associations from the first three principal components in this substep. To help facilitate this, you should write a function that you can call at any time to print the sorted list of feature weights, for the *i*-th principal component. This might come in handy in the next step of the project, when you interpret the tendencies of the discovered clusters."
   ]
  },
  {
   "cell_type": "code",
   "execution_count": 85,
   "metadata": {},
   "outputs": [],
   "source": [
    "# Implement collection of results based off Udacity defined function\n",
    "def pca_results(full_dataset, pca):\n",
    "    # Create dimensions index\n",
    "    dimensions = ['Dimension {}'.format(i) for i \\\n",
    "                  in range(1, len(pca.components_) + 1)]\n",
    "    \n",
    "    # Capture pca components\n",
    "    pca_comp = pca.components_\n",
    "    \n",
    "    # Create components df\n",
    "    components_df = pd.DataFrame(np.round(pca_comp, 4), \n",
    "                              columns= full_dataset.columns)\n",
    "    components_df.index = dimensions\n",
    "    \n",
    "    # Create PCA variance explained df\n",
    "    ratios = pca.explained_variance_ratio_.reshape(len(pca_comp), 1)\n",
    "    ratios_df = pd.DataFrame(np.round(ratios, 4), \n",
    "                             columns=['Explained Variance'])\n",
    "    ratios_df.index = dimensions\n",
    "    \n",
    "    # Return combined df\n",
    "    return pd.merge(ratios_df, components_df, left_index=True, right_index=True)"
   ]
  },
  {
   "cell_type": "code",
   "execution_count": 86,
   "metadata": {},
   "outputs": [
    {
     "data": {
      "text/html": [
       "<div>\n",
       "<style scoped>\n",
       "    .dataframe tbody tr th:only-of-type {\n",
       "        vertical-align: middle;\n",
       "    }\n",
       "\n",
       "    .dataframe tbody tr th {\n",
       "        vertical-align: top;\n",
       "    }\n",
       "\n",
       "    .dataframe thead th {\n",
       "        text-align: right;\n",
       "    }\n",
       "</style>\n",
       "<table border=\"1\" class=\"dataframe\">\n",
       "  <thead>\n",
       "    <tr style=\"text-align: right;\">\n",
       "      <th></th>\n",
       "      <th>Explained Variance</th>\n",
       "      <th>ALTERSKATEGORIE_GROB</th>\n",
       "      <th>ANREDE_KZ</th>\n",
       "      <th>FINANZ_MINIMALIST</th>\n",
       "      <th>FINANZ_SPARER</th>\n",
       "      <th>FINANZ_VORSORGER</th>\n",
       "      <th>FINANZ_ANLEGER</th>\n",
       "      <th>FINANZ_UNAUFFAELLIGER</th>\n",
       "      <th>FINANZ_HAUSBAUER</th>\n",
       "      <th>GREEN_AVANTGARDE</th>\n",
       "      <th>...</th>\n",
       "      <th>ZABEOTYP_2.0</th>\n",
       "      <th>ZABEOTYP_3.0</th>\n",
       "      <th>ZABEOTYP_4.0</th>\n",
       "      <th>ZABEOTYP_5.0</th>\n",
       "      <th>ZABEOTYP_6.0</th>\n",
       "      <th>PRAEGENDE_JUGENDJAHRE_GENERATION</th>\n",
       "      <th>PRAEGENDE_JUGENDJAHRE_MOVEMENT</th>\n",
       "      <th>CAMEO_INTL_2015_WEALTH</th>\n",
       "      <th>CAMEO_INTL_2015_STAGE</th>\n",
       "      <th>WOHNLAGE_NEIGHBORHOOD</th>\n",
       "    </tr>\n",
       "  </thead>\n",
       "  <tbody>\n",
       "    <tr>\n",
       "      <th>Dimension 1</th>\n",
       "      <td>0.1283</td>\n",
       "      <td>-0.1092</td>\n",
       "      <td>0.0179</td>\n",
       "      <td>-0.2134</td>\n",
       "      <td>0.1418</td>\n",
       "      <td>-0.1089</td>\n",
       "      <td>0.0766</td>\n",
       "      <td>0.0747</td>\n",
       "      <td>0.1542</td>\n",
       "      <td>-0.1164</td>\n",
       "      <td>...</td>\n",
       "      <td>-0.0525</td>\n",
       "      <td>-0.0141</td>\n",
       "      <td>0.0427</td>\n",
       "      <td>0.0862</td>\n",
       "      <td>0.0383</td>\n",
       "      <td>0.0926</td>\n",
       "      <td>-0.1164</td>\n",
       "      <td>0.1957</td>\n",
       "      <td>-0.1173</td>\n",
       "      <td>0.0883</td>\n",
       "    </tr>\n",
       "    <tr>\n",
       "      <th>Dimension 2</th>\n",
       "      <td>0.0989</td>\n",
       "      <td>0.2442</td>\n",
       "      <td>0.0673</td>\n",
       "      <td>0.0661</td>\n",
       "      <td>-0.2265</td>\n",
       "      <td>0.2276</td>\n",
       "      <td>-0.1921</td>\n",
       "      <td>-0.2064</td>\n",
       "      <td>0.1151</td>\n",
       "      <td>-0.0160</td>\n",
       "      <td>...</td>\n",
       "      <td>-0.0380</td>\n",
       "      <td>0.1976</td>\n",
       "      <td>-0.0995</td>\n",
       "      <td>-0.0917</td>\n",
       "      <td>0.0202</td>\n",
       "      <td>-0.2459</td>\n",
       "      <td>-0.0160</td>\n",
       "      <td>0.0688</td>\n",
       "      <td>0.0007</td>\n",
       "      <td>0.0159</td>\n",
       "    </tr>\n",
       "    <tr>\n",
       "      <th>Dimension 3</th>\n",
       "      <td>0.0689</td>\n",
       "      <td>0.0482</td>\n",
       "      <td>-0.3209</td>\n",
       "      <td>0.1123</td>\n",
       "      <td>-0.0934</td>\n",
       "      <td>0.0708</td>\n",
       "      <td>-0.1910</td>\n",
       "      <td>-0.1195</td>\n",
       "      <td>-0.0270</td>\n",
       "      <td>0.0649</td>\n",
       "      <td>...</td>\n",
       "      <td>-0.0219</td>\n",
       "      <td>-0.0722</td>\n",
       "      <td>-0.0306</td>\n",
       "      <td>-0.0107</td>\n",
       "      <td>0.0619</td>\n",
       "      <td>-0.0514</td>\n",
       "      <td>0.0649</td>\n",
       "      <td>0.0173</td>\n",
       "      <td>-0.0240</td>\n",
       "      <td>0.0233</td>\n",
       "    </tr>\n",
       "    <tr>\n",
       "      <th>Dimension 4</th>\n",
       "      <td>0.0428</td>\n",
       "      <td>-0.0250</td>\n",
       "      <td>0.0915</td>\n",
       "      <td>0.0128</td>\n",
       "      <td>-0.0069</td>\n",
       "      <td>-0.0228</td>\n",
       "      <td>-0.0952</td>\n",
       "      <td>0.0174</td>\n",
       "      <td>-0.0514</td>\n",
       "      <td>0.3444</td>\n",
       "      <td>...</td>\n",
       "      <td>0.1197</td>\n",
       "      <td>-0.1116</td>\n",
       "      <td>0.0231</td>\n",
       "      <td>-0.0134</td>\n",
       "      <td>-0.0300</td>\n",
       "      <td>0.0560</td>\n",
       "      <td>0.3444</td>\n",
       "      <td>-0.0812</td>\n",
       "      <td>0.0333</td>\n",
       "      <td>-0.0993</td>\n",
       "    </tr>\n",
       "    <tr>\n",
       "      <th>Dimension 5</th>\n",
       "      <td>0.0342</td>\n",
       "      <td>0.0381</td>\n",
       "      <td>0.1170</td>\n",
       "      <td>-0.0643</td>\n",
       "      <td>-0.0391</td>\n",
       "      <td>-0.0212</td>\n",
       "      <td>-0.0167</td>\n",
       "      <td>-0.1654</td>\n",
       "      <td>0.0310</td>\n",
       "      <td>-0.1206</td>\n",
       "      <td>...</td>\n",
       "      <td>0.0245</td>\n",
       "      <td>-0.1712</td>\n",
       "      <td>0.2142</td>\n",
       "      <td>0.0249</td>\n",
       "      <td>-0.0111</td>\n",
       "      <td>0.0848</td>\n",
       "      <td>-0.1206</td>\n",
       "      <td>0.0053</td>\n",
       "      <td>-0.0384</td>\n",
       "      <td>0.1076</td>\n",
       "    </tr>\n",
       "  </tbody>\n",
       "</table>\n",
       "<p>5 rows × 95 columns</p>\n",
       "</div>"
      ],
      "text/plain": [
       "             Explained Variance  ALTERSKATEGORIE_GROB  ANREDE_KZ  \\\n",
       "Dimension 1              0.1283               -0.1092     0.0179   \n",
       "Dimension 2              0.0989                0.2442     0.0673   \n",
       "Dimension 3              0.0689                0.0482    -0.3209   \n",
       "Dimension 4              0.0428               -0.0250     0.0915   \n",
       "Dimension 5              0.0342                0.0381     0.1170   \n",
       "\n",
       "             FINANZ_MINIMALIST  FINANZ_SPARER  FINANZ_VORSORGER  \\\n",
       "Dimension 1            -0.2134         0.1418           -0.1089   \n",
       "Dimension 2             0.0661        -0.2265            0.2276   \n",
       "Dimension 3             0.1123        -0.0934            0.0708   \n",
       "Dimension 4             0.0128        -0.0069           -0.0228   \n",
       "Dimension 5            -0.0643        -0.0391           -0.0212   \n",
       "\n",
       "             FINANZ_ANLEGER  FINANZ_UNAUFFAELLIGER  FINANZ_HAUSBAUER  \\\n",
       "Dimension 1          0.0766                 0.0747            0.1542   \n",
       "Dimension 2         -0.1921                -0.2064            0.1151   \n",
       "Dimension 3         -0.1910                -0.1195           -0.0270   \n",
       "Dimension 4         -0.0952                 0.0174           -0.0514   \n",
       "Dimension 5         -0.0167                -0.1654            0.0310   \n",
       "\n",
       "             GREEN_AVANTGARDE  ...  ZABEOTYP_2.0  ZABEOTYP_3.0  ZABEOTYP_4.0  \\\n",
       "Dimension 1           -0.1164  ...       -0.0525       -0.0141        0.0427   \n",
       "Dimension 2           -0.0160  ...       -0.0380        0.1976       -0.0995   \n",
       "Dimension 3            0.0649  ...       -0.0219       -0.0722       -0.0306   \n",
       "Dimension 4            0.3444  ...        0.1197       -0.1116        0.0231   \n",
       "Dimension 5           -0.1206  ...        0.0245       -0.1712        0.2142   \n",
       "\n",
       "             ZABEOTYP_5.0  ZABEOTYP_6.0  PRAEGENDE_JUGENDJAHRE_GENERATION  \\\n",
       "Dimension 1        0.0862        0.0383                            0.0926   \n",
       "Dimension 2       -0.0917        0.0202                           -0.2459   \n",
       "Dimension 3       -0.0107        0.0619                           -0.0514   \n",
       "Dimension 4       -0.0134       -0.0300                            0.0560   \n",
       "Dimension 5        0.0249       -0.0111                            0.0848   \n",
       "\n",
       "             PRAEGENDE_JUGENDJAHRE_MOVEMENT  CAMEO_INTL_2015_WEALTH  \\\n",
       "Dimension 1                         -0.1164                  0.1957   \n",
       "Dimension 2                         -0.0160                  0.0688   \n",
       "Dimension 3                          0.0649                  0.0173   \n",
       "Dimension 4                          0.3444                 -0.0812   \n",
       "Dimension 5                         -0.1206                  0.0053   \n",
       "\n",
       "             CAMEO_INTL_2015_STAGE  WOHNLAGE_NEIGHBORHOOD  \n",
       "Dimension 1                -0.1173                 0.0883  \n",
       "Dimension 2                 0.0007                 0.0159  \n",
       "Dimension 3                -0.0240                 0.0233  \n",
       "Dimension 4                 0.0333                -0.0993  \n",
       "Dimension 5                -0.0384                 0.1076  \n",
       "\n",
       "[5 rows x 95 columns]"
      ]
     },
     "execution_count": 86,
     "metadata": {},
     "output_type": "execute_result"
    }
   ],
   "source": [
    "results=pca_results(azdias,pca)\n",
    "results.head(5)"
   ]
  },
  {
   "cell_type": "code",
   "execution_count": 87,
   "metadata": {},
   "outputs": [],
   "source": [
    "# Implement plot of results\n",
    "def plot_pca_dim(results_df, pca, dimension_name, figsize=(14, 8)):\n",
    "    # Collect dimension info\n",
    "    dimension = results_df.loc[dimension_name].sort_values(ascending=False)\n",
    "    positive = dimension[dimension >=0].head(10)\n",
    "    negative = dimension[dimension <0].tail(10)\n",
    "    \n",
    "    # Create bar plot\n",
    "    plt.figure(figsize=figsize)\n",
    "    plt.subplot(211)\n",
    "    positive.plot(kind='bar')\n",
    "    plt.axhline(y=0.15, ls='--', c='#b3b3b3', lw=1)\n",
    "    #plt.grid(axis='y')\n",
    "    plt.ylabel(\"Feature Weights\")\n",
    "    plt.subplot(212)\n",
    "    negative.plot(kind='bar')\n",
    "    plt.axhline(y=-0.15, ls='--', c='#b3b3b3', lw=1);\n",
    "    #plt.grid(axis='y')\n",
    "    plt.ylabel(\"Feature Weights\")\n",
    "    plt.subplots_adjust(bottom=0.8)\n",
    "    plt.suptitle(\"{}: {}% Variance Explained\".format(\n",
    "        dimension_name, \n",
    "        np.round(results_df.loc[dimension_name, 'Explained Variance']*100, 2)),\n",
    "                 fontsize=18)\n",
    "    plt.tight_layout()"
   ]
  },
  {
   "cell_type": "code",
   "execution_count": 88,
   "metadata": {},
   "outputs": [],
   "source": [
    "# Implement print-out of higher weighted features\n",
    "def weighted_features(results, dimension_name):\n",
    "    print(\"High Positive\\n\", \n",
    "      results.loc[dimension_name][results.loc[dimension_name] >= 0.15].sort_values(ascending=False))\n",
    "    print(\"\\nHigh Negative\\n\", \n",
    "      results.loc[dimension_name][results.loc[dimension_name] <= -0.15].sort_values())"
   ]
  },
  {
   "cell_type": "code",
   "execution_count": 89,
   "metadata": {},
   "outputs": [
    {
     "name": "stdout",
     "output_type": "stream",
     "text": [
      "High Positive\n",
      " PLZ8_ANTG3                0.2071\n",
      "LP_STATUS_GROB_1.0        0.2015\n",
      "PLZ8_ANTG4                0.2009\n",
      "CAMEO_INTL_2015_WEALTH    0.1957\n",
      "ORTSGR_KLS9               0.1768\n",
      "EWDICHTE                  0.1767\n",
      "HH_EINKOMMEN_SCORE        0.1702\n",
      "FINANZ_HAUSBAUER          0.1542\n",
      "Name: Dimension 1, dtype: float64\n",
      "\n",
      "High Negative\n",
      " MOBI_REGIO          -0.2268\n",
      "FINANZ_MINIMALIST   -0.2134\n",
      "KBA05_ANTG1         -0.2110\n",
      "PLZ8_ANTG1          -0.2074\n",
      "KBA05_GBZ           -0.2027\n",
      "PLZ8_GBZ            -0.1535\n",
      "KONSUMNAEHE         -0.1516\n",
      "Name: Dimension 1, dtype: float64\n"
     ]
    },
    {
     "data": {
      "image/png": "[encoded data removed]",
      "text/plain": [
       "<Figure size 720x720 with 2 Axes>"
      ]
     },
     "metadata": {
      "needs_background": "light"
     },
     "output_type": "display_data"
    }
   ],
   "source": [
    "# Map weights for the first principal component to corresponding feature names\n",
    "# and then print the linked values, sorted by weight.\n",
    "plot_pca_dim(results, pca, 'Dimension 1', figsize=(10, 10))\n",
    "weighted_features(results, 'Dimension 1')"
   ]
  },
  {
   "cell_type": "code",
   "execution_count": 90,
   "metadata": {},
   "outputs": [
    {
     "name": "stdout",
     "output_type": "stream",
     "text": [
      "High Positive\n",
      " ALTERSKATEGORIE_GROB    0.2442\n",
      "FINANZ_VORSORGER        0.2276\n",
      "SEMIO_ERL               0.2086\n",
      "ZABEOTYP_3.0            0.1976\n",
      "SEMIO_LUST              0.1739\n",
      "RETOURTYP_BK_S          0.1610\n",
      "Name: Dimension 2, dtype: float64\n",
      "\n",
      "High Negative\n",
      " PRAEGENDE_JUGENDJAHRE_GENERATION   -0.2459\n",
      "FINANZ_SPARER                      -0.2265\n",
      "SEMIO_TRADV                        -0.2230\n",
      "SEMIO_REL                          -0.2223\n",
      "SEMIO_PFLICHT                      -0.2180\n",
      "FINANZ_UNAUFFAELLIGER              -0.2064\n",
      "FINANZ_ANLEGER                     -0.1921\n",
      "SEMIO_KULT                         -0.1901\n",
      "ONLINE_AFFINITAET                  -0.1707\n",
      "SEMIO_RAT                          -0.1704\n",
      "SEMIO_FAM                          -0.1616\n",
      "SEMIO_MAT                          -0.1500\n",
      "Name: Dimension 2, dtype: float64\n"
     ]
    },
    {
     "data": {
      "image/png": "[encoded data removed]",
      "text/plain": [
       "<Figure size 720x720 with 2 Axes>"
      ]
     },
     "metadata": {
      "needs_background": "light"
     },
     "output_type": "display_data"
    }
   ],
   "source": [
    "# Map weights for the second principal component to corresponding feature names\n",
    "# and then print the linked values, sorted by weight.\n",
    "plot_pca_dim(results, pca, 'Dimension 2', figsize=(10, 10))\n",
    "weighted_features(results, 'Dimension 2')"
   ]
  },
  {
   "cell_type": "code",
   "execution_count": 91,
   "metadata": {},
   "outputs": [
    {
     "name": "stdout",
     "output_type": "stream",
     "text": [
      "High Positive\n",
      " SEMIO_VERT    0.3352\n",
      "SEMIO_SOZ     0.2788\n",
      "SEMIO_KULT    0.2524\n",
      "SEMIO_FAM     0.1947\n",
      "Name: Dimension 3, dtype: float64\n",
      "\n",
      "High Negative\n",
      " SEMIO_KAEM        -0.3270\n",
      "ANREDE_KZ         -0.3209\n",
      "SEMIO_DOM         -0.3043\n",
      "SEMIO_KRIT        -0.2930\n",
      "FINANZ_ANLEGER    -0.1910\n",
      "SEMIO_RAT         -0.1682\n",
      "SHOPPER_TYP_2.0   -0.1610\n",
      "Name: Dimension 3, dtype: float64\n"
     ]
    },
    {
     "data": {
      "image/png": "[encoded data removed]",
      "text/plain": [
       "<Figure size 720x720 with 2 Axes>"
      ]
     },
     "metadata": {
      "needs_background": "light"
     },
     "output_type": "display_data"
    }
   ],
   "source": [
    "# Map weights for the third principal component to corresponding feature names\n",
    "# and then print the linked values, sorted by weight.\n",
    "plot_pca_dim(results, pca, 'Dimension 3', figsize=(10, 10))\n",
    "weighted_features(results, 'Dimension 3')"
   ]
  },
  {
   "cell_type": "markdown",
   "metadata": {},
   "source": [
    "### Discussion 2.3: Interpret Principal Components\n",
    "\n",
    "* Principal Component 1\n",
    "    * High Positives\n",
    "        * PLZ8_ANTG3 (Number of 6-10 family houses in the PLZ8 region, high share)               \n",
    "        * LP_STATUS_GROB_1.0 (Social status, rough scale, low income earner)       \n",
    "        * PLZ8_ANTG4 (Number of 10+ family houses in the PLZ8 region, high share)           \n",
    "        * CAMEO_INTL_2015_WEALTH (Wealth Typology, poorer household)\n",
    "        * ORTSGR_KLS9 (Size of community)\n",
    "        * EWDICHTE (Density of households per square kilometer, high density)\n",
    "        * HH_EINKOMMEN_SCORE (Estimated household net income, very low)\n",
    "        * FINANZ_HAUSBAUER (Home ownership, very low)\n",
    "    * High Negatives\n",
    "        * MOBI_REGIO (Movement patterns, Very high movement)      \n",
    "        * FINANZ_MINIMALIST (low financial interest, very high)   \n",
    "        * KBA05_ANTG1 (Number of 1-2 family houses in the microcell, lower share)       \n",
    "        * PLZ8_ANTG1 (Number of 1-2 family houses in the PLZ8 region, lower share)       \n",
    "        * KBA05_GBZ (Number of buildings in the microcell, less buildings)\n",
    "        * KONSUMNAEHE (Distance from building to point of sale, close)\n",
    "\n",
    "This component seems to describe people, who are relatively poor, living in high density buildings/neighborhoods/community , moving a lot. They are not likely to be interested in saving. They don't own a house.\n",
    "\n",
    "* Principal Component 2\n",
    "    * High Positives\n",
    "        * ALTERSKATEGORIE_GROB (Estimated age based on given name analysis, older)    \n",
    "        * FINANZ_VORSORGER (be prepared, low)       \n",
    "        * SEMIO_ERL (personality event oriented, low)               \n",
    "        * ZABEOTYP_3.0 (Energy consumption typology, fair supplied)           \n",
    "        * SEMIO_LUST (Personality sensual-minded, lowest)             \n",
    "        * RETOURTYP_BK_S (Return type, determined)\n",
    "    * High Negatives\n",
    "        * PRAEGENDE_JUGENDJAHRE_GENERATION (generation, old)  \n",
    "        * FINANZ_SPARER (money-saver, very high)                   \n",
    "        * SEMIO_TRADV (Personality traditional, high)                        \n",
    "        * SEMIO_REL (Personality religious, high)                     \n",
    "        * SEMIO_PFLICHT (Personality dutiful, high)  \n",
    "        \n",
    "These are older people, more likely to be in their 60s/born in 1940s. They consider themselves to be traditional, religious and dutiful. They have a range of interests in money from money savers. They don't seem likely to make rash purchases.\n",
    "\n",
    "* Principal Component 3\n",
    "    * High Positives\n",
    "        * SEMIO_VERT (Personality dreamful, lowest)    \n",
    "        * SEMIO_SOZ  (Personality social-minded, lowest)   \n",
    "        * SEMIO_KULT (Personality cultural-minded, lowest)\n",
    "        * SEMIO_FAM  (Personality family-minded, lowest)   \n",
    "    * High Negatives\n",
    "        * SEMIO_KAEM (Personality combative-minded, highest)       \n",
    "        * ANREDE_KZ  (Gender, Male)   \n",
    "        * SEMIO_DOM  (Personality dominant-minded, highest)       \n",
    "        * SEMIO_KRIT (Personality critical-minded, highest)      \n",
    "        * FINANZ_ANLEGER (Investor financial typology, high)\n",
    "        * SEMIO_RAT (Personality rational, highest)      \n",
    "        * SHOPPER_TYP_2.0 (Shopper typology family-shopper, lowest)\n",
    "        \n",
    "These are men with combative, dominant, critical-minded, rational personality with practical thinking, anti-social, anti0cultural and anti-family attitude. They are interested in money, particularly around investing."
   ]
  },
  {
   "cell_type": "markdown",
   "metadata": {},
   "source": [
    "## Step 3: Clustering\n",
    "\n",
    "### Step 3.1: Apply Clustering to General Population\n",
    "\n",
    "You've assessed and cleaned the demographics data, then scaled and transformed them. Now, it's time to see how the data clusters in the principal components space. In this substep, you will apply k-means clustering to the dataset and use the average within-cluster distances from each point to their assigned cluster's centroid to decide on a number of clusters to keep.\n",
    "\n",
    "- Use sklearn's [KMeans](http://scikit-learn.org/stable/modules/generated/sklearn.cluster.KMeans.html#sklearn.cluster.KMeans) class to perform k-means clustering on the PCA-transformed data.\n",
    "- Then, compute the average difference from each point to its assigned cluster's center. **Hint**: The KMeans object's `.score()` method might be useful here, but note that in sklearn, scores tend to be defined so that larger is better. Try applying it to a small, toy dataset, or use an internet search to help your understanding.\n",
    "- Perform the above two steps for a number of different cluster counts. You can then see how the average distance decreases with an increasing number of clusters. However, each additional cluster provides a smaller net benefit. Use this fact to select a final number of clusters in which to group the data. **Warning**: because of the large size of the dataset, it can take a long time for the algorithm to resolve. The more clusters to fit, the longer the algorithm will take. You should test for cluster counts through at least 10 clusters to get the full picture, but you shouldn't need to test for a number of clusters above about 30.\n",
    "- Once you've selected a final number of clusters to use, re-fit a KMeans instance to perform the clustering operation. Make sure that you also obtain the cluster assignments for the general demographics data, since you'll be using them in the final Step 3.3."
   ]
  },
  {
   "cell_type": "code",
   "execution_count": 92,
   "metadata": {},
   "outputs": [
    {
     "name": "stdout",
     "output_type": "stream",
     "text": [
      "--- Run time: 6.35 mins ---\n"
     ]
    },
    {
     "data": {
      "image/png": "[encoded data removed]",
      "text/plain": [
       "<Figure size 432x288 with 1 Axes>"
      ]
     },
     "metadata": {
      "needs_background": "light"
     },
     "output_type": "display_data"
    }
   ],
   "source": [
    "# Over a number of different cluster counts...\n",
    "# run k-means clustering on the data and...\n",
    "# compute the average within-cluster distances.\n",
    "start_time = time.time()\n",
    "\n",
    "sse = []\n",
    "k_range = np.arange(2, 30)\n",
    "\n",
    "for k in k_range:\n",
    "    kmeans = MiniBatchKMeans(k,batch_size=100000, max_iter=1000).fit(pca_features)\n",
    "    sse.append(np.abs(kmeans.score(pca_features)))\n",
    "    kmeans_labels = kmeans.predict(pca_features)\n",
    "    \n",
    "plt.plot(k_range, sse, linestyle='-', marker='o');\n",
    "plt.xlabel('K');\n",
    "plt.ylabel('SSE');\n",
    "plt.title('SSE vs. K');\n",
    "\n",
    "print(\"--- Run time: %s mins ---\" % np.round(((time.time() - start_time)/60),2))"
   ]
  },
  {
   "cell_type": "code",
   "execution_count": 93,
   "metadata": {},
   "outputs": [
    {
     "name": "stdout",
     "output_type": "stream",
     "text": [
      "--- Run time: 0.11 mins ---\n"
     ]
    }
   ],
   "source": [
    "# Re-fit the k-means model with the selected number of clusters and obtain\n",
    "# cluster predictions for the general population demographics data.\n",
    "start_time = time.time()\n",
    "kmeans = MiniBatchKMeans(5,batch_size=100000, max_iter=1000).fit(pca_features)\n",
    "kmeans_labels = kmeans.predict(pca_features)\n",
    "\n",
    "print(\"--- Run time: %s mins ---\" % np.round(((time.time() - start_time)/60),2))"
   ]
  },
  {
   "cell_type": "markdown",
   "metadata": {},
   "source": [
    "### Discussion 3.1: Apply Clustering to General Population\n",
    "\n",
    "(Double-click this cell and replace this text with your own text, reporting your findings and decisions regarding clustering. Into how many clusters have you decided to segment the population?)"
   ]
  },
  {
   "cell_type": "markdown",
   "metadata": {},
   "source": [
    "### Step 3.2: Apply All Steps to the Customer Data\n",
    "\n",
    "Now that you have clusters and cluster centers for the general population, it's time to see how the customer data maps on to those clusters. Take care to not confuse this for re-fitting all of the models to the customer data. Instead, you're going to use the fits from the general population to clean, transform, and cluster the customer data. In the last step of the project, you will interpret how the general population fits apply to the customer data.\n",
    "\n",
    "- Don't forget when loading in the customers data, that it is semicolon (`;`) delimited.\n",
    "- Apply the same feature wrangling, selection, and engineering steps to the customer demographics using the `clean_data()` function you created earlier. (You can assume that the customer demographics data has similar meaning behind missing data patterns as the general demographics data.)\n",
    "- Use the sklearn objects from the general demographics data, and apply their transformations to the customers data. That is, you should not be using a `.fit()` or `.fit_transform()` method to re-fit the old objects, nor should you be creating new sklearn objects! Carry the data through the feature scaling, PCA, and clustering steps, obtaining cluster assignments for all of the data in the customer demographics data."
   ]
  },
  {
   "cell_type": "code",
   "execution_count": 94,
   "metadata": {},
   "outputs": [],
   "source": [
    "# Load in the customer demographics data.\n",
    "customers = pd.read_csv('Udacity_CUSTOMERS_Subset.csv', sep=';')"
   ]
  },
  {
   "cell_type": "code",
   "execution_count": 95,
   "metadata": {},
   "outputs": [
    {
     "data": {
      "text/html": [
       "<div>\n",
       "<style scoped>\n",
       "    .dataframe tbody tr th:only-of-type {\n",
       "        vertical-align: middle;\n",
       "    }\n",
       "\n",
       "    .dataframe tbody tr th {\n",
       "        vertical-align: top;\n",
       "    }\n",
       "\n",
       "    .dataframe thead th {\n",
       "        text-align: right;\n",
       "    }\n",
       "</style>\n",
       "<table border=\"1\" class=\"dataframe\">\n",
       "  <thead>\n",
       "    <tr style=\"text-align: right;\">\n",
       "      <th></th>\n",
       "      <th>AGER_TYP</th>\n",
       "      <th>ALTERSKATEGORIE_GROB</th>\n",
       "      <th>ANREDE_KZ</th>\n",
       "      <th>CJT_GESAMTTYP</th>\n",
       "      <th>FINANZ_MINIMALIST</th>\n",
       "      <th>FINANZ_SPARER</th>\n",
       "      <th>FINANZ_VORSORGER</th>\n",
       "      <th>FINANZ_ANLEGER</th>\n",
       "      <th>FINANZ_UNAUFFAELLIGER</th>\n",
       "      <th>FINANZ_HAUSBAUER</th>\n",
       "      <th>...</th>\n",
       "      <th>PLZ8_ANTG1</th>\n",
       "      <th>PLZ8_ANTG2</th>\n",
       "      <th>PLZ8_ANTG3</th>\n",
       "      <th>PLZ8_ANTG4</th>\n",
       "      <th>PLZ8_BAUMAX</th>\n",
       "      <th>PLZ8_HHZ</th>\n",
       "      <th>PLZ8_GBZ</th>\n",
       "      <th>ARBEIT</th>\n",
       "      <th>ORTSGR_KLS9</th>\n",
       "      <th>RELAT_AB</th>\n",
       "    </tr>\n",
       "  </thead>\n",
       "  <tbody>\n",
       "    <tr>\n",
       "      <th>0</th>\n",
       "      <td>2</td>\n",
       "      <td>4</td>\n",
       "      <td>1</td>\n",
       "      <td>5.0</td>\n",
       "      <td>5</td>\n",
       "      <td>1</td>\n",
       "      <td>5</td>\n",
       "      <td>1</td>\n",
       "      <td>2</td>\n",
       "      <td>2</td>\n",
       "      <td>...</td>\n",
       "      <td>3.0</td>\n",
       "      <td>3.0</td>\n",
       "      <td>1.0</td>\n",
       "      <td>0.0</td>\n",
       "      <td>1.0</td>\n",
       "      <td>5.0</td>\n",
       "      <td>5.0</td>\n",
       "      <td>1.0</td>\n",
       "      <td>2.0</td>\n",
       "      <td>1.0</td>\n",
       "    </tr>\n",
       "    <tr>\n",
       "      <th>1</th>\n",
       "      <td>-1</td>\n",
       "      <td>4</td>\n",
       "      <td>1</td>\n",
       "      <td>NaN</td>\n",
       "      <td>5</td>\n",
       "      <td>1</td>\n",
       "      <td>5</td>\n",
       "      <td>1</td>\n",
       "      <td>3</td>\n",
       "      <td>2</td>\n",
       "      <td>...</td>\n",
       "      <td>NaN</td>\n",
       "      <td>NaN</td>\n",
       "      <td>NaN</td>\n",
       "      <td>NaN</td>\n",
       "      <td>NaN</td>\n",
       "      <td>NaN</td>\n",
       "      <td>NaN</td>\n",
       "      <td>NaN</td>\n",
       "      <td>NaN</td>\n",
       "      <td>NaN</td>\n",
       "    </tr>\n",
       "    <tr>\n",
       "      <th>2</th>\n",
       "      <td>-1</td>\n",
       "      <td>4</td>\n",
       "      <td>2</td>\n",
       "      <td>2.0</td>\n",
       "      <td>5</td>\n",
       "      <td>1</td>\n",
       "      <td>5</td>\n",
       "      <td>1</td>\n",
       "      <td>4</td>\n",
       "      <td>4</td>\n",
       "      <td>...</td>\n",
       "      <td>2.0</td>\n",
       "      <td>3.0</td>\n",
       "      <td>3.0</td>\n",
       "      <td>1.0</td>\n",
       "      <td>3.0</td>\n",
       "      <td>3.0</td>\n",
       "      <td>2.0</td>\n",
       "      <td>3.0</td>\n",
       "      <td>5.0</td>\n",
       "      <td>3.0</td>\n",
       "    </tr>\n",
       "    <tr>\n",
       "      <th>3</th>\n",
       "      <td>1</td>\n",
       "      <td>4</td>\n",
       "      <td>1</td>\n",
       "      <td>2.0</td>\n",
       "      <td>5</td>\n",
       "      <td>1</td>\n",
       "      <td>5</td>\n",
       "      <td>2</td>\n",
       "      <td>1</td>\n",
       "      <td>2</td>\n",
       "      <td>...</td>\n",
       "      <td>3.0</td>\n",
       "      <td>2.0</td>\n",
       "      <td>1.0</td>\n",
       "      <td>0.0</td>\n",
       "      <td>1.0</td>\n",
       "      <td>3.0</td>\n",
       "      <td>4.0</td>\n",
       "      <td>1.0</td>\n",
       "      <td>3.0</td>\n",
       "      <td>1.0</td>\n",
       "    </tr>\n",
       "    <tr>\n",
       "      <th>4</th>\n",
       "      <td>-1</td>\n",
       "      <td>3</td>\n",
       "      <td>1</td>\n",
       "      <td>6.0</td>\n",
       "      <td>3</td>\n",
       "      <td>1</td>\n",
       "      <td>4</td>\n",
       "      <td>4</td>\n",
       "      <td>5</td>\n",
       "      <td>2</td>\n",
       "      <td>...</td>\n",
       "      <td>2.0</td>\n",
       "      <td>4.0</td>\n",
       "      <td>2.0</td>\n",
       "      <td>1.0</td>\n",
       "      <td>2.0</td>\n",
       "      <td>3.0</td>\n",
       "      <td>3.0</td>\n",
       "      <td>3.0</td>\n",
       "      <td>5.0</td>\n",
       "      <td>1.0</td>\n",
       "    </tr>\n",
       "  </tbody>\n",
       "</table>\n",
       "<p>5 rows × 85 columns</p>\n",
       "</div>"
      ],
      "text/plain": [
       "   AGER_TYP  ALTERSKATEGORIE_GROB  ANREDE_KZ  CJT_GESAMTTYP  \\\n",
       "0         2                     4          1            5.0   \n",
       "1        -1                     4          1            NaN   \n",
       "2        -1                     4          2            2.0   \n",
       "3         1                     4          1            2.0   \n",
       "4        -1                     3          1            6.0   \n",
       "\n",
       "   FINANZ_MINIMALIST  FINANZ_SPARER  FINANZ_VORSORGER  FINANZ_ANLEGER  \\\n",
       "0                  5              1                 5               1   \n",
       "1                  5              1                 5               1   \n",
       "2                  5              1                 5               1   \n",
       "3                  5              1                 5               2   \n",
       "4                  3              1                 4               4   \n",
       "\n",
       "   FINANZ_UNAUFFAELLIGER  FINANZ_HAUSBAUER  ...  PLZ8_ANTG1  PLZ8_ANTG2  \\\n",
       "0                      2                 2  ...         3.0         3.0   \n",
       "1                      3                 2  ...         NaN         NaN   \n",
       "2                      4                 4  ...         2.0         3.0   \n",
       "3                      1                 2  ...         3.0         2.0   \n",
       "4                      5                 2  ...         2.0         4.0   \n",
       "\n",
       "   PLZ8_ANTG3  PLZ8_ANTG4  PLZ8_BAUMAX  PLZ8_HHZ  PLZ8_GBZ  ARBEIT  \\\n",
       "0         1.0         0.0          1.0       5.0       5.0     1.0   \n",
       "1         NaN         NaN          NaN       NaN       NaN     NaN   \n",
       "2         3.0         1.0          3.0       3.0       2.0     3.0   \n",
       "3         1.0         0.0          1.0       3.0       4.0     1.0   \n",
       "4         2.0         1.0          2.0       3.0       3.0     3.0   \n",
       "\n",
       "   ORTSGR_KLS9  RELAT_AB  \n",
       "0          2.0       1.0  \n",
       "1          NaN       NaN  \n",
       "2          5.0       3.0  \n",
       "3          3.0       1.0  \n",
       "4          5.0       1.0  \n",
       "\n",
       "[5 rows x 85 columns]"
      ]
     },
     "execution_count": 95,
     "metadata": {},
     "output_type": "execute_result"
    }
   ],
   "source": [
    "# Check first five rows of customer dataset\n",
    "customers.head()"
   ]
  },
  {
   "cell_type": "code",
   "execution_count": 96,
   "metadata": {},
   "outputs": [],
   "source": [
    "# Apply preprocessing, feature transformation, and clustering from the general\n",
    "# demographics onto the customer data, obtaining cluster predictions for the\n",
    "# customer demographics data.\n",
    "features_customers  = clean_data(customers)"
   ]
  },
  {
   "cell_type": "code",
   "execution_count": 97,
   "metadata": {},
   "outputs": [
    {
     "data": {
      "text/plain": [
       "[]"
      ]
     },
     "execution_count": 97,
     "metadata": {},
     "output_type": "execute_result"
    }
   ],
   "source": [
    "# Check the difference between the columns of the two dataset\n",
    "list(set(azdias.columns) - set(features_customers.columns))"
   ]
  },
  {
   "cell_type": "code",
   "execution_count": 98,
   "metadata": {},
   "outputs": [],
   "source": [
    "# Use the sklearn objects from the general demographics data, \n",
    "# and apply their transformations to the customers data. \n",
    "imputed_customers = imputer.transform(features_customers)\n",
    "\n",
    "standardized_customers = scaler.transform(imputed_customers)\n",
    "\n",
    "pca_customers = pca.transform(standardized_customers)\n",
    "\n",
    "kmeans_customers = kmeans.predict(pca_customers)"
   ]
  },
  {
   "cell_type": "markdown",
   "metadata": {},
   "source": [
    "### Step 3.3: Compare Customer Data to Demographics Data\n",
    "\n",
    "At this point, you have clustered data based on demographics of the general population of Germany, and seen how the customer data for a mail-order sales company maps onto those demographic clusters. In this final substep, you will compare the two cluster distributions to see where the strongest customer base for the company is.\n",
    "\n",
    "Consider the proportion of persons in each cluster for the general population, and the proportions for the customers. If we think the company's customer base to be universal, then the cluster assignment proportions should be fairly similar between the two. If there are only particular segments of the population that are interested in the company's products, then we should see a mismatch from one to the other. If there is a higher proportion of persons in a cluster for the customer data compared to the general population (e.g. 5% of persons are assigned to a cluster for the general population, but 15% of the customer data is closest to that cluster's centroid) then that suggests the people in that cluster to be a target audience for the company. On the other hand, the proportion of the data in a cluster being larger in the general population than the customer data (e.g. only 2% of customers closest to a population centroid that captures 6% of the data) suggests that group of persons to be outside of the target demographics.\n",
    "\n",
    "Take a look at the following points in this step:\n",
    "\n",
    "- Compute the proportion of data points in each cluster for the general population and the customer data. Visualizations will be useful here: both for the individual dataset proportions, but also to visualize the ratios in cluster representation between groups. Seaborn's [`countplot()`](https://seaborn.pydata.org/generated/seaborn.countplot.html) or [`barplot()`](https://seaborn.pydata.org/generated/seaborn.barplot.html) function could be handy.\n",
    "  - Recall the analysis you performed in step 1.1.3 of the project, where you separated out certain data points from the dataset if they had more than a specified threshold of missing values. If you found that this group was qualitatively different from the main bulk of the data, you should treat this as an additional data cluster in this analysis. Make sure that you account for the number of data points in this subset, for both the general population and customer datasets, when making your computations!\n",
    "- Which cluster or clusters are overrepresented in the customer dataset compared to the general population? Select at least one such cluster and infer what kind of people might be represented by that cluster. Use the principal component interpretations from step 2.3 or look at additional components to help you make this inference. Alternatively, you can use the `.inverse_transform()` method of the PCA and StandardScaler objects to transform centroids back to the original data space and interpret the retrieved values directly.\n",
    "- Perform a similar investigation for the underrepresented clusters. Which cluster or clusters are underrepresented in the customer dataset compared to the general population, and what kinds of people are typified by these clusters?"
   ]
  },
  {
   "cell_type": "code",
   "execution_count": 99,
   "metadata": {},
   "outputs": [],
   "source": [
    "# Compare the proportion of data in each cluster for the customer data to the\n",
    "# proportion of data in each cluster for the general population.\n",
    "# Proportions for general data\n",
    "dict_data = {'proportion': pd.Series(kmeans_labels).value_counts(normalize=True, sort=False), \n",
    "          'source': 'general'}\n",
    "\n",
    "general_proportions = pd.DataFrame(dict_data)\n",
    "\n",
    "# Proportions for customer data\n",
    "dict_data = {'proportion': pd.Series(kmeans_customers).value_counts(normalize=True, sort=False), \n",
    "          'source': 'customer'}\n",
    "\n",
    "customer_proportions = pd.DataFrame(dict_data)\n",
    "\n",
    "# Concatenate proportions\n",
    "total_proportions = pd.concat([general_proportions, customer_proportions])\n"
   ]
  },
  {
   "cell_type": "code",
   "execution_count": 100,
   "metadata": {},
   "outputs": [
    {
     "data": {
      "image/png": "[encoded data removed]",
      "text/plain": [
       "<Figure size 720x288 with 1 Axes>"
      ]
     },
     "metadata": {
      "needs_background": "light"
     },
     "output_type": "display_data"
    }
   ],
   "source": [
    "# Compare the proportions per cluster for general vs customer populations\n",
    "fig, ax = plt.subplots(figsize=(10,4))\n",
    "sns.barplot(ax=ax, x=total_proportions.index, y = total_proportions.proportion, hue=total_proportions.source)\n",
    "ax.set_xlabel('cluster')\n",
    "ax.set_title('Proportions per cluster for general vs customer populations');"
   ]
  },
  {
   "cell_type": "code",
   "execution_count": 101,
   "metadata": {},
   "outputs": [
    {
     "name": "stdout",
     "output_type": "stream",
     "text": [
      "over-represented\n",
      "1    0.212558\n",
      "3    0.051650\n",
      "Name: proportion, dtype: float64\n"
     ]
    }
   ],
   "source": [
    "# What kinds of people are part of a cluster that is overrepresented in the\n",
    "# customer data compared to the general population?\n",
    "diff_customer_proportions = customer_proportions['proportion'] - general_proportions['proportion']\n",
    "diff_customer_proportions.sort_values(ascending=False, inplace=True)\n",
    "print('over-represented')\n",
    "print(diff_customer_proportions[:2])\n"
   ]
  },
  {
   "cell_type": "code",
   "execution_count": 102,
   "metadata": {},
   "outputs": [
    {
     "name": "stdout",
     "output_type": "stream",
     "text": [
      "\n",
      "under-represented\n",
      "2   -0.064154\n",
      "0   -0.161563\n",
      "Name: proportion, dtype: float64\n"
     ]
    }
   ],
   "source": [
    "# What kinds of people are part of a cluster that is underrepresented in the\n",
    "# customer data compared to the general population?\n",
    "print('\\nunder-represented')\n",
    "print(diff_customer_proportions[-2:])\n"
   ]
  },
  {
   "cell_type": "code",
   "execution_count": 104,
   "metadata": {},
   "outputs": [],
   "source": [
    "# Let's look at cluster 1, it's over represented for customers\n",
    "def compare_cluster_demographics(k):\n",
    "    pca_cluster = pca_features[kmeans_labels == k]\n",
    "    print('cluster', k, 'accounts for', np.round(pca_cluster.shape[0]*100/pca_features.shape[0],3), '% of general population')\n",
    "    standardized_features = pca.inverse_transform(pca_cluster)\n",
    "    features_cluster1 = scaler.inverse_transform(standardized_features)\n",
    "    features_cluster1 = pd.DataFrame(np.round(features_cluster1), columns = azdias.columns)\n",
    "    features_cluster1['POPULATION']='general'\n",
    "    \n",
    "    pca_cluster = pca_customers[kmeans_customers == k]\n",
    "    print('cluster', k, 'accounts for', np.round(pca_cluster.shape[0]*100/pca_customers.shape[0],3), '% of customer population')\n",
    "    standardized_features = pca.inverse_transform(pca_cluster)\n",
    "    features_cluster2 = scaler.inverse_transform(standardized_features)\n",
    "    features_cluster2 = pd.DataFrame(np.round(features_cluster2), columns = azdias.columns)\n",
    "    features_cluster2['POPULATION']='customer'\n",
    "    \n",
    "    features_cluster=pd.concat([features_cluster1,features_cluster2],axis=0)\n",
    "    \n",
    "    columns=['PLZ8_ANTG3','MOBI_REGIO','ALTERSKATEGORIE_GROB','PRAEGENDE_JUGENDJAHRE_GENERATION','SEMIO_VERT','ANREDE_KZ']\n",
    "    \n",
    "    for col in columns:\n",
    "        sns.catplot(x=col, col=\"POPULATION\",data=features_cluster, kind=\"count\",height=4, aspect=.7);\n"
   ]
  },
  {
   "cell_type": "code",
   "execution_count": 105,
   "metadata": {},
   "outputs": [
    {
     "name": "stdout",
     "output_type": "stream",
     "text": [
      "cluster 1 accounts for 15.806 % of general population\n",
      "cluster 1 accounts for 37.062 % of customer population\n"
     ]
    },
    {
     "data": {
      "image/png": "[encoded data removed]",
      "text/plain": [
       "<Figure size 403.2x288 with 2 Axes>"
      ]
     },
     "metadata": {
      "needs_background": "light"
     },
     "output_type": "display_data"
    },
    {
     "data": {
      "image/png": "[encoded data removed]",
      "text/plain": [
       "<Figure size 403.2x288 with 2 Axes>"
      ]
     },
     "metadata": {
      "needs_background": "light"
     },
     "output_type": "display_data"
    },
    {
     "data": {
      "image/png": "[encoded data removed]",
      "text/plain": [
       "<Figure size 403.2x288 with 2 Axes>"
      ]
     },
     "metadata": {
      "needs_background": "light"
     },
     "output_type": "display_data"
    },
    {
     "data": {
      "image/png": "[encoded data removed]",
      "text/plain": [
       "<Figure size 403.2x288 with 2 Axes>"
      ]
     },
     "metadata": {
      "needs_background": "light"
     },
     "output_type": "display_data"
    },
    {
     "data": {
      "image/png": "[encoded data removed]",
      "text/plain": [
       "<Figure size 403.2x288 with 2 Axes>"
      ]
     },
     "metadata": {
      "needs_background": "light"
     },
     "output_type": "display_data"
    },
    {
     "data": {
      "image/png": "[encoded data removed]",
      "text/plain": [
       "<Figure size 403.2x288 with 2 Axes>"
      ]
     },
     "metadata": {
      "needs_background": "light"
     },
     "output_type": "display_data"
    }
   ],
   "source": [
    "compare_cluster_demographics(1)"
   ]
  },
  {
   "cell_type": "code",
   "execution_count": 106,
   "metadata": {},
   "outputs": [
    {
     "name": "stdout",
     "output_type": "stream",
     "text": [
      "cluster 0 accounts for 17.669 % of general population\n",
      "cluster 0 accounts for 1.513 % of customer population\n"
     ]
    },
    {
     "data": {
      "image/png": "[encoded data removed]",
      "text/plain": [
       "<Figure size 403.2x288 with 2 Axes>"
      ]
     },
     "metadata": {
      "needs_background": "light"
     },
     "output_type": "display_data"
    },
    {
     "data": {
      "image/png": "[encoded data removed]",
      "text/plain": [
       "<Figure size 403.2x288 with 2 Axes>"
      ]
     },
     "metadata": {
      "needs_background": "light"
     },
     "output_type": "display_data"
    },
    {
     "data": {
      "image/png": "[encoded data removed]",
      "text/plain": [
       "<Figure size 403.2x288 with 2 Axes>"
      ]
     },
     "metadata": {
      "needs_background": "light"
     },
     "output_type": "display_data"
    },
    {
     "data": {
      "image/png": "[encoded data removed]",
      "text/plain": [
       "<Figure size 403.2x288 with 2 Axes>"
      ]
     },
     "metadata": {
      "needs_background": "light"
     },
     "output_type": "display_data"
    },
    {
     "data": {
      "image/png": "[encoded data removed]",
      "text/plain": [
       "<Figure size 403.2x288 with 2 Axes>"
      ]
     },
     "metadata": {
      "needs_background": "light"
     },
     "output_type": "display_data"
    },
    {
     "data": {
      "image/png": "[encoded data removed]",
      "text/plain": [
       "<Figure size 403.2x288 with 2 Axes>"
      ]
     },
     "metadata": {
      "needs_background": "light"
     },
     "output_type": "display_data"
    }
   ],
   "source": [
    "compare_cluster_demographics(0)"
   ]
  },
  {
   "cell_type": "markdown",
   "metadata": {},
   "source": [
    "### Discussion 3.3: Compare Customer Data to Demographics Data\n",
    "\n",
    "Clusters 1 and 3 are over-represented and clusters 0, 2 and 4 are under-represented in the customer dataset.\n",
    "\n",
    "Cluster 1 accounts 37% in the customer population and 15.8% in the general population. From our analysis, it is clear that this segment of population are mostly older people, more likely to be in their 60s/born in 1940s. Since they are more interesed to the mail-order shopping, we should target this segment of population.\n",
    "\n",
    "Cluster 0 accounts 1.5% in the customer population and 17.7% in the general population. From our analysis, it is clear that this segment of population are living in high-density regions and they have high moving patterns. Since this segment is relatively unpopular with the mail-order company, so we need to find ways to attract this segment of population.\n",
    "\n"
   ]
  },
  {
   "cell_type": "markdown",
   "metadata": {},
   "source": [
    "> Congratulations on making it this far in the project! Before you finish, make sure to check through the entire notebook from top to bottom to make sure that your analysis follows a logical flow and all of your findings are documented in **Discussion** cells. Once you've checked over all of your work, you should export the notebook as an HTML document to submit for evaluation. You can do this from the menu, navigating to **File -> Download as -> HTML (.html)**. You will submit both that document and this notebook for your project submission."
   ]
  },
  {
   "cell_type": "code",
   "execution_count": null,
   "metadata": {},
   "outputs": [],
   "source": []
  },
  {
   "cell_type": "code",
   "execution_count": null,
   "metadata": {},
   "outputs": [],
   "source": []
  },
  {
   "cell_type": "code",
   "execution_count": null,
   "metadata": {},
   "outputs": [],
   "source": []
  },
  {
   "cell_type": "code",
   "execution_count": null,
   "metadata": {},
   "outputs": [],
   "source": []
  }
 ],
 "metadata": {
  "kernelspec": {
   "display_name": "Python 3",
   "language": "python",
   "name": "python3"
  },
  "language_info": {
   "codemirror_mode": {
    "name": "ipython",
    "version": 3
   },
   "file_extension": ".py",
   "mimetype": "text/x-python",
   "name": "python",
   "nbconvert_exporter": "python",
   "pygments_lexer": "ipython3",
   "version": "3.6.8"
  }
 },
 "nbformat": 4,
 "nbformat_minor": 2
}
